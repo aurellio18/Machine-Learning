{
 "cells": [
  {
   "cell_type": "code",
   "execution_count": 1,
   "id": "f2a865b1",
   "metadata": {},
   "outputs": [],
   "source": [
    "import zipfile,os\n",
    "local_zip = 'img.zip'\n",
    "zip_ref = zipfile.ZipFile(local_zip, 'r')\n",
    "zip_ref.extractall()\n",
    "zip_ref.close()\n",
    "\n",
    "base_dir ='img'\n"
   ]
  },
  {
   "cell_type": "code",
   "execution_count": 2,
   "id": "4fe19bde",
   "metadata": {},
   "outputs": [
    {
     "name": "stdout",
     "output_type": "stream",
     "text": [
      "Requirement already satisfied: split-folders in c:\\users\\aurel\\anaconda3\\lib\\site-packages (0.4.3)\n"
     ]
    }
   ],
   "source": [
    "!pip install split-folders"
   ]
  },
  {
   "cell_type": "code",
   "execution_count": 3,
   "id": "9a44a293",
   "metadata": {},
   "outputs": [
    {
     "name": "stderr",
     "output_type": "stream",
     "text": [
      "Copying files: 420 files [00:12, 33.84 files/s]\n"
     ]
    }
   ],
   "source": [
    "import splitfolders\n",
    "splitfolders.ratio(base_dir, output=base_dir, ratio=(0.7,0.3))\n",
    " \n",
    "train = os.path.join(base_dir, 'train')\n",
    "val = os.path.join(base_dir, 'val')"
   ]
  },
  {
   "cell_type": "code",
   "execution_count": 4,
   "id": "b5306d71",
   "metadata": {},
   "outputs": [
    {
     "data": {
      "text/plain": [
       "['AAA',\n",
       " 'ABI',\n",
       " 'AFI',\n",
       " 'AGH',\n",
       " 'AIL',\n",
       " 'ARL',\n",
       " 'ASA',\n",
       " 'BDL',\n",
       " 'DIA',\n",
       " 'DIO',\n",
       " 'DRA',\n",
       " 'EZA',\n",
       " 'FAR',\n",
       " 'FMR',\n",
       " 'FRS',\n",
       " 'GLA',\n",
       " 'GPS',\n",
       " 'HMA',\n",
       " 'HZR',\n",
       " 'IDR',\n",
       " 'KDA',\n",
       " 'MAA',\n",
       " 'MAJ',\n",
       " 'MFA',\n",
       " 'MFH',\n",
       " 'MGN',\n",
       " 'MMF',\n",
       " 'MRF',\n",
       " 'MSA',\n",
       " 'MZA',\n",
       " 'MZB',\n",
       " 'NIS',\n",
       " 'QTH',\n",
       " 'RCK',\n",
       " 'RKS',\n",
       " 'SHE',\n",
       " 'SNN',\n",
       " 'SVD',\n",
       " 'SYH',\n",
       " 'SYN',\n",
       " 'YSS',\n",
       " 'ZHT']"
      ]
     },
     "execution_count": 4,
     "metadata": {},
     "output_type": "execute_result"
    }
   ],
   "source": [
    "os.listdir('img/train')\n",
    "os.listdir('img/val')"
   ]
  },
  {
   "cell_type": "markdown",
   "id": "6cf3775b",
   "metadata": {},
   "source": [
    "### Pre-Processing"
   ]
  },
  {
   "cell_type": "code",
   "execution_count": 5,
   "id": "13b41113",
   "metadata": {},
   "outputs": [],
   "source": [
    "import tensorflow as tf\n",
    "from tensorflow.keras.preprocessing.image import ImageDataGenerator\n",
    "\n",
    "train_datagen = ImageDataGenerator(\n",
    "                shear_range=0.2,\n",
    "                zoom_range=0.2,\n",
    "                horizontal_flip=True,\n",
    "                fill_mode = 'nearest')\n",
    "\n",
    "test_datagen = ImageDataGenerator(\n",
    "                shear_range=0.2,\n",
    "                zoom_range=0.2,\n",
    "                horizontal_flip=True,\n",
    "                fill_mode = 'nearest')"
   ]
  },
  {
   "cell_type": "code",
   "execution_count": 6,
   "id": "b3e7e229",
   "metadata": {},
   "outputs": [
    {
     "name": "stdout",
     "output_type": "stream",
     "text": [
      "Found 294 images belonging to 42 classes.\n",
      "Found 126 images belonging to 42 classes.\n"
     ]
    }
   ],
   "source": [
    "train_generator = train_datagen.flow_from_directory(\n",
    "        train,\n",
    "        color_mode='grayscale',\n",
    "        batch_size=4,\n",
    "        class_mode='binary')\n",
    "\n",
    "test_generator = test_datagen.flow_from_directory(\n",
    "        val,\n",
    "        color_mode='grayscale',\n",
    "        batch_size=4,\n",
    "        class_mode='binary')"
   ]
  },
  {
   "cell_type": "markdown",
   "id": "66024a5f",
   "metadata": {},
   "source": [
    "### CNN"
   ]
  },
  {
   "cell_type": "code",
   "execution_count": 7,
   "id": "bb1cc4e6",
   "metadata": {},
   "outputs": [],
   "source": [
    "model = tf.keras.models.Sequential([\n",
    "    tf.keras.layers.Conv2D(32, (3,3), activation='relu'),\n",
    "    tf.keras.layers.MaxPooling2D(2, 2),\n",
    "    tf.keras.layers.Conv2D(64, (3,3), activation='relu'),\n",
    "    tf.keras.layers.MaxPooling2D(2,2),\n",
    "    tf.keras.layers.Conv2D(128, (3,3), activation='relu'),\n",
    "    tf.keras.layers.MaxPooling2D(2,2),\n",
    "    tf.keras.layers.Conv2D(256, (3,3), activation='relu'),\n",
    "    tf.keras.layers.MaxPooling2D(2,2),\n",
    "    tf.keras.layers.Flatten(),\n",
    "    tf.keras.layers.Dense(512, activation='relu'),\n",
    "    tf.keras.layers.Dense(42, activation='softmax')\n",
    "])"
   ]
  },
  {
   "cell_type": "code",
   "execution_count": 8,
   "id": "c0621551",
   "metadata": {},
   "outputs": [],
   "source": [
    "model.compile(loss='sparse_categorical_crossentropy',\n",
    "              optimizer='Adam',\n",
    "              metrics=['accuracy'])"
   ]
  },
  {
   "cell_type": "code",
   "execution_count": 9,
   "id": "ba82b3ea",
   "metadata": {},
   "outputs": [
    {
     "name": "stdout",
     "output_type": "stream",
     "text": [
      "Epoch 1/10\n",
      "74/74 - 55s - loss: 14.3283 - accuracy: 0.0782 - val_loss: 3.0963 - val_accuracy: 0.2063\n",
      "Epoch 2/10\n",
      "74/74 - 53s - loss: 2.8884 - accuracy: 0.2313 - val_loss: 2.3917 - val_accuracy: 0.3651\n",
      "Epoch 3/10\n",
      "74/74 - 43s - loss: 2.1440 - accuracy: 0.4456 - val_loss: 1.7069 - val_accuracy: 0.5476\n",
      "Epoch 4/10\n",
      "74/74 - 42s - loss: 1.3831 - accuracy: 0.6633 - val_loss: 1.3065 - val_accuracy: 0.6667\n",
      "Epoch 5/10\n",
      "74/74 - 45s - loss: 1.2353 - accuracy: 0.6973 - val_loss: 1.5980 - val_accuracy: 0.6032\n",
      "Epoch 6/10\n",
      "74/74 - 42s - loss: 1.0096 - accuracy: 0.7619 - val_loss: 1.6113 - val_accuracy: 0.6270\n",
      "Epoch 7/10\n",
      "74/74 - 42s - loss: 0.7538 - accuracy: 0.7959 - val_loss: 0.9894 - val_accuracy: 0.7302\n",
      "Epoch 8/10\n",
      "74/74 - 42s - loss: 0.5139 - accuracy: 0.8707 - val_loss: 0.5944 - val_accuracy: 0.8571\n",
      "Epoch 9/10\n",
      "74/74 - 42s - loss: 0.3980 - accuracy: 0.9116 - val_loss: 0.6506 - val_accuracy: 0.8333\n",
      "Epoch 10/10\n",
      "74/74 - 46s - loss: 0.4425 - accuracy: 0.8810 - val_loss: 0.9640 - val_accuracy: 0.7619\n"
     ]
    }
   ],
   "source": [
    "history=model.fit(\n",
    "    train_generator,\n",
    "    epochs=10, \n",
    "    verbose=2,\n",
    "    validation_data=test_generator\n",
    ")"
   ]
  },
  {
   "cell_type": "markdown",
   "id": "c0627262",
   "metadata": {},
   "source": [
    "### Hasil"
   ]
  },
  {
   "cell_type": "code",
   "execution_count": 10,
   "id": "fa458243",
   "metadata": {},
   "outputs": [
    {
     "name": "stdout",
     "output_type": "stream",
     "text": [
      "dict_keys(['loss', 'accuracy', 'val_loss', 'val_accuracy'])\n"
     ]
    },
    {
     "data": {
      "image/png": "[encoded data removed]",
      "text/plain": [
       "<Figure size 432x288 with 1 Axes>"
      ]
     },
     "metadata": {
      "needs_background": "light"
     },
     "output_type": "display_data"
    },
    {
     "data": {
      "image/png": "[encoded data removed]",
      "text/plain": [
       "<Figure size 432x288 with 1 Axes>"
      ]
     },
     "metadata": {
      "needs_background": "light"
     },
     "output_type": "display_data"
    }
   ],
   "source": [
    "import matplotlib.pyplot as plt\n",
    "print(history.history.keys())\n",
    "# Model Accuracy\n",
    "plt.plot(history.history['accuracy'])\n",
    "plt.plot(history.history['val_accuracy'])\n",
    "plt.title('model accuracy')\n",
    "plt.ylabel('accuracy')\n",
    "plt.xlabel('epoch')\n",
    "plt.legend(['train', 'test'], loc='upper left')\n",
    "plt.show()\n",
    "# Model Loss\n",
    "plt.plot(history.history['loss'])\n",
    "plt.plot(history.history['val_loss'])\n",
    "plt.title('model loss')\n",
    "plt.ylabel('loss')\n",
    "plt.xlabel('epoch')\n",
    "plt.legend(['train', 'test'], loc='upper left')\n",
    "plt.show()"
   ]
  },
  {
   "cell_type": "code",
   "execution_count": 45,
   "id": "1be8428b",
   "metadata": {},
   "outputs": [
    {
     "data": {
      "text/html": [
       "<div>\n",
       "<style scoped>\n",
       "    .dataframe tbody tr th:only-of-type {\n",
       "        vertical-align: middle;\n",
       "    }\n",
       "\n",
       "    .dataframe tbody tr th {\n",
       "        vertical-align: top;\n",
       "    }\n",
       "\n",
       "    .dataframe thead th {\n",
       "        text-align: right;\n",
       "    }\n",
       "</style>\n",
       "<table border=\"1\" class=\"dataframe\">\n",
       "  <thead>\n",
       "    <tr style=\"text-align: right;\">\n",
       "      <th></th>\n",
       "      <th>epoch_1</th>\n",
       "      <th>epoch_2</th>\n",
       "      <th>epoch_3</th>\n",
       "      <th>epoch_4</th>\n",
       "      <th>epoch_5</th>\n",
       "      <th>epoch_6</th>\n",
       "      <th>epoch_7</th>\n",
       "      <th>epoch_8</th>\n",
       "      <th>epoch_9</th>\n",
       "      <th>epoch_10</th>\n",
       "    </tr>\n",
       "  </thead>\n",
       "  <tbody>\n",
       "    <tr>\n",
       "      <th>loss</th>\n",
       "      <td>14.328286</td>\n",
       "      <td>2.888369</td>\n",
       "      <td>2.143970</td>\n",
       "      <td>1.383065</td>\n",
       "      <td>1.235314</td>\n",
       "      <td>1.009574</td>\n",
       "      <td>0.753772</td>\n",
       "      <td>0.513884</td>\n",
       "      <td>0.398030</td>\n",
       "      <td>0.442462</td>\n",
       "    </tr>\n",
       "    <tr>\n",
       "      <th>val_loss</th>\n",
       "      <td>3.096312</td>\n",
       "      <td>2.391676</td>\n",
       "      <td>1.706876</td>\n",
       "      <td>1.306509</td>\n",
       "      <td>1.597951</td>\n",
       "      <td>1.611310</td>\n",
       "      <td>0.989413</td>\n",
       "      <td>0.594416</td>\n",
       "      <td>0.650566</td>\n",
       "      <td>0.964000</td>\n",
       "    </tr>\n",
       "    <tr>\n",
       "      <th>accuracy</th>\n",
       "      <td>0.078231</td>\n",
       "      <td>0.231293</td>\n",
       "      <td>0.445578</td>\n",
       "      <td>0.663265</td>\n",
       "      <td>0.697279</td>\n",
       "      <td>0.761905</td>\n",
       "      <td>0.795918</td>\n",
       "      <td>0.870748</td>\n",
       "      <td>0.911565</td>\n",
       "      <td>0.880952</td>\n",
       "    </tr>\n",
       "    <tr>\n",
       "      <th>val_accuracy</th>\n",
       "      <td>0.206349</td>\n",
       "      <td>0.365079</td>\n",
       "      <td>0.547619</td>\n",
       "      <td>0.666667</td>\n",
       "      <td>0.603175</td>\n",
       "      <td>0.626984</td>\n",
       "      <td>0.730159</td>\n",
       "      <td>0.857143</td>\n",
       "      <td>0.833333</td>\n",
       "      <td>0.761905</td>\n",
       "    </tr>\n",
       "  </tbody>\n",
       "</table>\n",
       "</div>"
      ],
      "text/plain": [
       "                epoch_1   epoch_2   epoch_3   epoch_4   epoch_5   epoch_6  \\\n",
       "loss          14.328286  2.888369  2.143970  1.383065  1.235314  1.009574   \n",
       "val_loss       3.096312  2.391676  1.706876  1.306509  1.597951  1.611310   \n",
       "accuracy       0.078231  0.231293  0.445578  0.663265  0.697279  0.761905   \n",
       "val_accuracy   0.206349  0.365079  0.547619  0.666667  0.603175  0.626984   \n",
       "\n",
       "               epoch_7   epoch_8   epoch_9  epoch_10  \n",
       "loss          0.753772  0.513884  0.398030  0.442462  \n",
       "val_loss      0.989413  0.594416  0.650566  0.964000  \n",
       "accuracy      0.795918  0.870748  0.911565  0.880952  \n",
       "val_accuracy  0.730159  0.857143  0.833333  0.761905  "
      ]
     },
     "execution_count": 45,
     "metadata": {},
     "output_type": "execute_result"
    }
   ],
   "source": [
    "import pandas as pd\n",
    "result = pd.DataFrame(\n",
    "    [history.history['loss'],history.history['val_loss'],history.history['accuracy'],history.history['val_accuracy']],\n",
    "    index=[\"loss\",\"val_loss\",\"accuracy\",\"val_accuracy\"],\n",
    "    columns=[f'epoch_{num + 1}' for num in range(10)])\n",
    "\n",
    "result"
   ]
  },
  {
   "cell_type": "code",
   "execution_count": null,
   "id": "87753d0b",
   "metadata": {},
   "outputs": [],
   "source": []
  }
 ],
 "metadata": {
  "kernelspec": {
   "display_name": "Python 3",
   "language": "python",
   "name": "python3"
  },
  "language_info": {
   "codemirror_mode": {
    "name": "ipython",
    "version": 3
   },
   "file_extension": ".py",
   "mimetype": "text/x-python",
   "name": "python",
   "nbconvert_exporter": "python",
   "pygments_lexer": "ipython3",
   "version": "3.8.8"
  }
 },
 "nbformat": 4,
 "nbformat_minor": 5
}
