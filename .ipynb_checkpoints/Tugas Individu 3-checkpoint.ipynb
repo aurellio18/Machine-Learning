{
 "cells": [
  {
   "cell_type": "markdown",
   "id": "bc98644d",
   "metadata": {},
   "source": [
    "# Tugas Individu 3"
   ]
  },
  {
   "cell_type": "markdown",
   "id": "6c26c95a",
   "metadata": {},
   "source": [
    "## Aurellio Fishandy\n",
    "### 1806199966"
   ]
  },
  {
   "cell_type": "markdown",
   "id": "c9e2a6e0",
   "metadata": {},
   "source": [
    "### Mengimport library yang digunakan"
   ]
  },
  {
   "cell_type": "code",
   "execution_count": 1,
   "id": "a5b4665f",
   "metadata": {},
   "outputs": [],
   "source": [
    "import numpy as np\n",
    "import pandas as pd\n",
    "from random import randrange"
   ]
  },
  {
   "cell_type": "markdown",
   "id": "233251b7",
   "metadata": {},
   "source": [
    "### Mempersiapkan data yang akan di proses"
   ]
  },
  {
   "cell_type": "code",
   "execution_count": 2,
   "id": "94059426",
   "metadata": {},
   "outputs": [],
   "source": [
    "iris = pd.read_csv(\"D:\\TUGAS\\AI\\Iris.csv\")"
   ]
  },
  {
   "cell_type": "code",
   "execution_count": 3,
   "id": "216a4650",
   "metadata": {},
   "outputs": [
    {
     "data": {
      "text/plain": [
       "array([[5.1, 3.5, 1.4, 0.2],\n",
       "       [4.9, 3. , 1.4, 0.2],\n",
       "       [4.7, 3.2, 1.3, 0.2],\n",
       "       [4.6, 3.1, 1.5, 0.2],\n",
       "       [5. , 3.6, 1.4, 0.2]])"
      ]
     },
     "execution_count": 3,
     "metadata": {},
     "output_type": "execute_result"
    }
   ],
   "source": [
    "X = iris[['SepalLengthCm', 'SepalWidthCm', 'PetalLengthCm', 'PetalWidthCm']]\n",
    "X = np.array(X)\n",
    "X[:5]"
   ]
  },
  {
   "cell_type": "code",
   "execution_count": 4,
   "id": "f8c63c7a",
   "metadata": {},
   "outputs": [
    {
     "data": {
      "text/plain": [
       "array([[1, 0, 0],\n",
       "       [1, 0, 0],\n",
       "       [1, 0, 0],\n",
       "       [1, 0, 0],\n",
       "       [1, 0, 0]], dtype=uint8)"
      ]
     },
     "execution_count": 4,
     "metadata": {},
     "output_type": "execute_result"
    }
   ],
   "source": [
    "dummies = pd.get_dummies(iris.Species)\n",
    "merged_data = pd.concat([iris,dummies], axis=1)\n",
    "Y = merged_data.drop(columns=['Id', 'SepalLengthCm', 'SepalWidthCm', 'PetalLengthCm', 'PetalWidthCm', 'Species'])\n",
    "Y = np.array(Y)\n",
    "Y[:5]"
   ]
  },
  {
   "cell_type": "markdown",
   "id": "fc2d4c36",
   "metadata": {},
   "source": [
    "### Membagi data menjadi train & test"
   ]
  },
  {
   "cell_type": "code",
   "execution_count": 5,
   "id": "e943b64b",
   "metadata": {},
   "outputs": [],
   "source": [
    "def shuffle_split_data(X, y):\n",
    "    arr_rand = np.random.rand(X.shape[0])\n",
    "    split = arr_rand < np.percentile(arr_rand, 70)\n",
    "\n",
    "    X_train = X[split]\n",
    "    y_train = y[split]\n",
    "    X_test =  X[~split]\n",
    "    y_test = y[~split]\n",
    "\n",
    "    return X_train, y_train, X_test, y_test\n",
    "X_train, Y_train, X_test, Y_test = shuffle_split_data(X, Y)"
   ]
  },
  {
   "cell_type": "markdown",
   "id": "93ad3ce7",
   "metadata": {},
   "source": [
    "### Membuat fungsi Neural Network "
   ]
  },
  {
   "cell_type": "code",
   "execution_count": 6,
   "id": "7e71fdf6",
   "metadata": {},
   "outputs": [],
   "source": [
    "def NeuralNetwork1(X_train, Y_train, epochs=10, nodes=[], lr=0.10):\n",
    "    hidden_layers = len(nodes) - 1\n",
    "    weights = InitializeWeights(nodes)\n",
    "\n",
    "    for epoch in range(1, epochs+1):\n",
    "        weights = Train(X_train, Y_train, lr, weights)\n",
    "\n",
    "        if(epoch % 20 == 0):\n",
    "            print(\"Epoch {}\".format(epoch))\n",
    "            print(\"Training Accuracy:{}\".format(Accuracy(X_train, Y_train, weights)))\n",
    "            \n",
    "    return weights"
   ]
  },
  {
   "cell_type": "code",
   "execution_count": 7,
   "id": "90cd70d5",
   "metadata": {},
   "outputs": [],
   "source": [
    "def NeuralNetwork1(X_train, Y_train, epochs=10, nodes=[], lr=0.20):\n",
    "    hidden_layers = len(nodes) - 1\n",
    "    weights = InitializeWeights(nodes)\n",
    "\n",
    "    for epoch in range(1, epochs+1):\n",
    "        weights = Train(X_train, Y_train, lr, weights)\n",
    "\n",
    "        if(epoch % 20 == 0):\n",
    "            print(\"Epoch {}\".format(epoch))\n",
    "            print(\"Training Accuracy:{}\".format(Accuracy(X_train, Y_train, weights)))\n",
    "            \n",
    "    return weights"
   ]
  },
  {
   "cell_type": "code",
   "execution_count": 8,
   "id": "05fb73d3",
   "metadata": {},
   "outputs": [],
   "source": [
    "def NeuralNetwork1(X_train, Y_train, epochs=10, nodes=[], lr=0.30):\n",
    "    hidden_layers = len(nodes) - 1\n",
    "    weights = InitializeWeights(nodes)\n",
    "\n",
    "    for epoch in range(1, epochs+1):\n",
    "        weights = Train(X_train, Y_train, lr, weights)\n",
    "\n",
    "        if(epoch % 20 == 0):\n",
    "            print(\"Epoch {}\".format(epoch))\n",
    "            print(\"Training Accuracy:{}\".format(Accuracy(X_train, Y_train, weights)))\n",
    "            \n",
    "    return weights"
   ]
  },
  {
   "cell_type": "code",
   "execution_count": 9,
   "id": "118c0abf",
   "metadata": {},
   "outputs": [],
   "source": [
    "def InitializeWeights(nodes):\n",
    "    layers, weights = len(nodes), []\n",
    "    \n",
    "    for i in range(1, layers):\n",
    "        w = [[np.random.uniform(-1, 1) for k in range(nodes[i-1] + 1)]\n",
    "              for j in range(nodes[i])]\n",
    "        weights.append(np.matrix(w))\n",
    "    \n",
    "    return weights"
   ]
  },
  {
   "cell_type": "markdown",
   "id": "6004af18",
   "metadata": {},
   "source": [
    "### Fungsi FPNN"
   ]
  },
  {
   "cell_type": "code",
   "execution_count": 10,
   "id": "8a1186dc",
   "metadata": {},
   "outputs": [],
   "source": [
    "def ForwardPropagation(x, weights, layers):\n",
    "    activations, layer_input = [x], x\n",
    "    for j in range(layers):\n",
    "        activation = Sigmoid(np.dot(layer_input, weights[j].T))\n",
    "        activations.append(activation)\n",
    "        layer_input = np.append(1, activation) # Augment with bias\n",
    "    \n",
    "    return activations"
   ]
  },
  {
   "cell_type": "markdown",
   "id": "ec94ba2d",
   "metadata": {},
   "source": [
    "### Fungsi BPNN"
   ]
  },
  {
   "cell_type": "code",
   "execution_count": 11,
   "id": "cdf83b5b",
   "metadata": {},
   "outputs": [],
   "source": [
    "def BackPropagation(y, activations, weights, layers):\n",
    "    outputFinal = activations[-1]\n",
    "    error = np.matrix(y - outputFinal) # Error at output\n",
    "    \n",
    "    for j in range(layers, 0, -1):\n",
    "        currActivation = activations[j]\n",
    "        \n",
    "        if(j > 1):\n",
    "            # Augment previous activation\n",
    "            prevActivation = np.append(1, activations[j-1])\n",
    "        else:\n",
    "            # First hidden layer, prevActivation is input (without bias)\n",
    "            prevActivation = activations[0]\n",
    "        \n",
    "        delta = np.multiply(error, SigmoidDerivative(currActivation))\n",
    "        weights[j-1] += lr * np.multiply(delta.T, prevActivation)\n",
    "\n",
    "        w = np.delete(weights[j-1], [0], axis=1) # Remove bias from weights\n",
    "        error = np.dot(delta, w) # Calculate error for current layer\n",
    "    \n",
    "    return weights"
   ]
  },
  {
   "cell_type": "markdown",
   "id": "2f59e83d",
   "metadata": {},
   "source": [
    "### Memproses dan menetapkan weights yang didapatkan oleh BPNN"
   ]
  },
  {
   "cell_type": "code",
   "execution_count": 12,
   "id": "10003885",
   "metadata": {},
   "outputs": [],
   "source": [
    "def Train(X, Y, lr, weights):\n",
    "    layers = len(weights)\n",
    "    for i in range(len(X)):\n",
    "        x, y = X[i], Y[i]\n",
    "        x = np.matrix(np.append(1, x)) # Augment feature vector\n",
    "        \n",
    "        activations = ForwardPropagation(x, weights, layers)\n",
    "        weights = BackPropagation(y, activations, weights, layers)\n",
    "\n",
    "    return weights"
   ]
  },
  {
   "cell_type": "markdown",
   "id": "66c1c425",
   "metadata": {},
   "source": [
    "### Fungsi Sigmoid & SigmoidDerivative yang digunakan untuk memproses data "
   ]
  },
  {
   "cell_type": "code",
   "execution_count": 13,
   "id": "f4dbaba5",
   "metadata": {},
   "outputs": [],
   "source": [
    "def Sigmoid(x):\n",
    "    return 1 / (1 + np.exp(-x))\n",
    "\n",
    "def SigmoidDerivative(x):\n",
    "    return np.multiply(x, 1-x)"
   ]
  },
  {
   "cell_type": "markdown",
   "id": "0cb71828",
   "metadata": {},
   "source": [
    "### Fungsi untuk memproses data yang telah dipersiapkan"
   ]
  },
  {
   "cell_type": "code",
   "execution_count": 14,
   "id": "e49b1e7a",
   "metadata": {},
   "outputs": [],
   "source": [
    "def Predict(item, weights):\n",
    "    layers = len(weights)\n",
    "    item = np.append(1, item) # Augment feature vector\n",
    "    \n",
    "    ##_Forward Propagation_##\n",
    "    activations = ForwardPropagation(item, weights, layers)\n",
    "    \n",
    "    outputFinal = activations[-1].A1\n",
    "    index = FindMaxActivation(outputFinal)\n",
    "\n",
    "    # Initialize prediction vector to zeros\n",
    "    y = [0 for i in range(len(outputFinal))]\n",
    "    y[index] = 1  # Set guessed class to 1\n",
    "\n",
    "    return y # Return prediction vector\n",
    "\n",
    "\n",
    "def FindMaxActivation(output):\n",
    "    \"\"\"Find max activation in output\"\"\"\n",
    "    m, index = output[0], 0\n",
    "    for i in range(1, len(output)):\n",
    "        if(output[i] > m):\n",
    "            m, index = output[i], i\n",
    "    \n",
    "    return index"
   ]
  },
  {
   "cell_type": "code",
   "execution_count": 15,
   "id": "659c3a2b",
   "metadata": {},
   "outputs": [],
   "source": [
    "def Accuracy(X, Y, weights):\n",
    "    \"\"\"Run set through network, find overall accuracy\"\"\"\n",
    "    correct = 0\n",
    "\n",
    "    for i in range(len(X)):\n",
    "        x, y = X[i], list(Y[i])\n",
    "        guess = Predict(x, weights)\n",
    "\n",
    "        if(y == guess):\n",
    "            # Guessed correctly\n",
    "            correct += 1\n",
    "\n",
    "    return correct / len(X)"
   ]
  },
  {
   "cell_type": "code",
   "execution_count": 16,
   "id": "77fa52ef",
   "metadata": {},
   "outputs": [],
   "source": [
    "f = len(X[0]) # Number of features\n",
    "o = len(Y[0]) # Number of outputs / classes\n",
    "layers = [f, 5, 10, o] # Number of nodes in layers"
   ]
  },
  {
   "cell_type": "markdown",
   "id": "5c51938a",
   "metadata": {},
   "source": [
    "### Melakukan pengetesan Neural Network dengan Learning Rate yang telah diatur\n",
    "#### Hasil akurasi training "
   ]
  },
  {
   "cell_type": "code",
   "execution_count": 17,
   "id": "c8dbacbc",
   "metadata": {
    "scrolled": true
   },
   "outputs": [
    {
     "name": "stdout",
     "output_type": "stream",
     "text": [
      "Epoch 20\n",
      "Training Accuracy:0.3142857142857143\n",
      "Epoch 40\n",
      "Training Accuracy:0.3142857142857143\n",
      "Epoch 60\n",
      "Training Accuracy:0.3142857142857143\n",
      "Epoch 80\n",
      "Training Accuracy:0.3142857142857143\n",
      "Epoch 100\n",
      "Training Accuracy:0.3142857142857143\n"
     ]
    }
   ],
   "source": [
    "lr, epochs = 0.10, 100\n",
    "\n",
    "weights = NeuralNetwork1(X_train, Y_train, epochs=epochs, nodes=layers, lr=lr);"
   ]
  },
  {
   "cell_type": "code",
   "execution_count": 18,
   "id": "7c1012b2",
   "metadata": {},
   "outputs": [
    {
     "name": "stdout",
     "output_type": "stream",
     "text": [
      "Akurasi: 0.37777777777777777\n"
     ]
    }
   ],
   "source": [
    "print(\"Akurasi: {}\".format(Accuracy(X_test, Y_test, weights)))"
   ]
  },
  {
   "cell_type": "code",
   "execution_count": 19,
   "id": "d6303ebe",
   "metadata": {},
   "outputs": [
    {
     "name": "stdout",
     "output_type": "stream",
     "text": [
      "Epoch 20\n",
      "Training Accuracy:0.638095238095238\n",
      "Epoch 40\n",
      "Training Accuracy:0.6571428571428571\n",
      "Epoch 60\n",
      "Training Accuracy:0.7333333333333333\n",
      "Epoch 80\n",
      "Training Accuracy:0.6476190476190476\n",
      "Epoch 100\n",
      "Training Accuracy:0.7428571428571429\n"
     ]
    }
   ],
   "source": [
    "lr, epochs = 0.20, 100\n",
    "\n",
    "weights = NeuralNetwork1(X_train, Y_train, epochs=epochs, nodes=layers, lr=lr);"
   ]
  },
  {
   "cell_type": "code",
   "execution_count": 20,
   "id": "508a5efd",
   "metadata": {},
   "outputs": [
    {
     "name": "stdout",
     "output_type": "stream",
     "text": [
      "Akurasi: 0.8\n"
     ]
    }
   ],
   "source": [
    "print(\"Akurasi: {}\".format(Accuracy(X_test, Y_test, weights)))"
   ]
  },
  {
   "cell_type": "code",
   "execution_count": 21,
   "id": "266a31fd",
   "metadata": {},
   "outputs": [
    {
     "name": "stdout",
     "output_type": "stream",
     "text": [
      "Epoch 20\n",
      "Training Accuracy:0.638095238095238\n",
      "Epoch 40\n",
      "Training Accuracy:0.638095238095238\n",
      "Epoch 60\n",
      "Training Accuracy:0.8285714285714286\n",
      "Epoch 80\n",
      "Training Accuracy:0.638095238095238\n",
      "Epoch 100\n",
      "Training Accuracy:0.8666666666666667\n"
     ]
    }
   ],
   "source": [
    "lr, epochs = 0.30, 100\n",
    "\n",
    "weights = NeuralNetwork1(X_train, Y_train, epochs=epochs, nodes=layers, lr=lr);"
   ]
  },
  {
   "cell_type": "code",
   "execution_count": 22,
   "id": "3576a44d",
   "metadata": {},
   "outputs": [
    {
     "name": "stdout",
     "output_type": "stream",
     "text": [
      "Akurasi: 0.8666666666666667\n"
     ]
    }
   ],
   "source": [
    "print(\"Akurasi: {}\".format(Accuracy(X_test, Y_test, weights)))"
   ]
  },
  {
   "cell_type": "code",
   "execution_count": null,
   "id": "75b457be",
   "metadata": {},
   "outputs": [],
   "source": []
  }
 ],
 "metadata": {
  "kernelspec": {
   "display_name": "Python 3",
   "language": "python",
   "name": "python3"
  },
  "language_info": {
   "codemirror_mode": {
    "name": "ipython",
    "version": 3
   },
   "file_extension": ".py",
   "mimetype": "text/x-python",
   "name": "python",
   "nbconvert_exporter": "python",
   "pygments_lexer": "ipython3",
   "version": "3.8.8"
  }
 },
 "nbformat": 4,
 "nbformat_minor": 5
}
