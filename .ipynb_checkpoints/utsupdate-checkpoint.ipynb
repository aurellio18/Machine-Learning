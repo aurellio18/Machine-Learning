{
 "cells": [
  {
   "cell_type": "code",
   "execution_count": 2160,
   "metadata": {},
   "outputs": [],
   "source": [
    "# For Data Visualisation\n",
    "import matplotlib.pyplot as plt\n",
    "import seaborn as sns\n",
    "from matplotlib.colors import ListedColormap\n",
    "\n",
    "# For Data Manipulation\n",
    "import numpy as np \n",
    "import pandas as pd\n",
    "import sklearn\n",
    "from itertools import cycle\n",
    "\n",
    "\n",
    "# For Data Preprocessing\n",
    "from sklearn.model_selection import train_test_split\n",
    "from sklearn.preprocessing import StandardScaler\n",
    "\n",
    "# For Classification Results\n",
    "from sklearn.metrics import accuracy_score, precision_score, recall_score, roc_auc_score\n",
    "from sklearn.metrics import classification_report\n",
    "from sklearn.metrics import confusion_matrix\n",
    "from sklearn.metrics import roc_curve, auc\n",
    "from sklearn.metrics import plot_roc_curve\n",
    "from sklearn.preprocessing import label_binarize\n",
    "from scipy import interp\n",
    "from sklearn.exceptions import NotFittedError\n",
    "\n",
    "# Dimensionality Reduction\n",
    "from sklearn.decomposition import PCA\n",
    "\n",
    "# Importing Models\n",
    "from sklearn.linear_model import LogisticRegression #Logistic Regression\n",
    "from sklearn.neighbors import KNeighborsClassifier as KNN #K-Nearest Neighbors\n",
    "from sklearn.naive_bayes import GaussianNB #Naive Bayes\n",
    "from sklearn.tree import DecisionTreeClassifier #Decision Tree Classifier\n",
    "from sklearn.model_selection import GridSearchCV"
   ]
  },
  {
   "cell_type": "code",
   "execution_count": 2161,
   "metadata": {},
   "outputs": [
    {
     "data": {
      "text/html": [
       "<div>\n",
       "<style scoped>\n",
       "    .dataframe tbody tr th:only-of-type {\n",
       "        vertical-align: middle;\n",
       "    }\n",
       "\n",
       "    .dataframe tbody tr th {\n",
       "        vertical-align: top;\n",
       "    }\n",
       "\n",
       "    .dataframe thead th {\n",
       "        text-align: right;\n",
       "    }\n",
       "</style>\n",
       "<table border=\"1\" class=\"dataframe\">\n",
       "  <thead>\n",
       "    <tr style=\"text-align: right;\">\n",
       "      <th></th>\n",
       "      <th>fixed acidity</th>\n",
       "      <th>volatile acidity</th>\n",
       "      <th>citric acid</th>\n",
       "      <th>residual sugar</th>\n",
       "      <th>chlorides</th>\n",
       "      <th>free sulfur dioxide</th>\n",
       "      <th>total sulfur dioxide</th>\n",
       "      <th>density</th>\n",
       "      <th>pH</th>\n",
       "      <th>sulphates</th>\n",
       "      <th>alcohol</th>\n",
       "      <th>quality</th>\n",
       "    </tr>\n",
       "  </thead>\n",
       "  <tbody>\n",
       "    <tr>\n",
       "      <th>0</th>\n",
       "      <td>7.4</td>\n",
       "      <td>0.70</td>\n",
       "      <td>0.00</td>\n",
       "      <td>1.9</td>\n",
       "      <td>0.076</td>\n",
       "      <td>11.0</td>\n",
       "      <td>34.0</td>\n",
       "      <td>0.9978</td>\n",
       "      <td>3.51</td>\n",
       "      <td>0.56</td>\n",
       "      <td>9.4</td>\n",
       "      <td>5</td>\n",
       "    </tr>\n",
       "    <tr>\n",
       "      <th>1</th>\n",
       "      <td>7.8</td>\n",
       "      <td>0.88</td>\n",
       "      <td>0.00</td>\n",
       "      <td>2.6</td>\n",
       "      <td>0.098</td>\n",
       "      <td>25.0</td>\n",
       "      <td>67.0</td>\n",
       "      <td>0.9968</td>\n",
       "      <td>3.20</td>\n",
       "      <td>0.68</td>\n",
       "      <td>9.8</td>\n",
       "      <td>5</td>\n",
       "    </tr>\n",
       "    <tr>\n",
       "      <th>2</th>\n",
       "      <td>7.8</td>\n",
       "      <td>0.76</td>\n",
       "      <td>0.04</td>\n",
       "      <td>2.3</td>\n",
       "      <td>0.092</td>\n",
       "      <td>15.0</td>\n",
       "      <td>54.0</td>\n",
       "      <td>0.9970</td>\n",
       "      <td>3.26</td>\n",
       "      <td>0.65</td>\n",
       "      <td>9.8</td>\n",
       "      <td>5</td>\n",
       "    </tr>\n",
       "    <tr>\n",
       "      <th>3</th>\n",
       "      <td>11.2</td>\n",
       "      <td>0.28</td>\n",
       "      <td>0.56</td>\n",
       "      <td>1.9</td>\n",
       "      <td>0.075</td>\n",
       "      <td>17.0</td>\n",
       "      <td>60.0</td>\n",
       "      <td>0.9980</td>\n",
       "      <td>3.16</td>\n",
       "      <td>0.58</td>\n",
       "      <td>9.8</td>\n",
       "      <td>6</td>\n",
       "    </tr>\n",
       "    <tr>\n",
       "      <th>4</th>\n",
       "      <td>7.4</td>\n",
       "      <td>0.70</td>\n",
       "      <td>0.00</td>\n",
       "      <td>1.9</td>\n",
       "      <td>0.076</td>\n",
       "      <td>11.0</td>\n",
       "      <td>34.0</td>\n",
       "      <td>0.9978</td>\n",
       "      <td>3.51</td>\n",
       "      <td>0.56</td>\n",
       "      <td>9.4</td>\n",
       "      <td>5</td>\n",
       "    </tr>\n",
       "  </tbody>\n",
       "</table>\n",
       "</div>"
      ],
      "text/plain": [
       "   fixed acidity  volatile acidity  citric acid  residual sugar  chlorides  \\\n",
       "0            7.4              0.70         0.00             1.9      0.076   \n",
       "1            7.8              0.88         0.00             2.6      0.098   \n",
       "2            7.8              0.76         0.04             2.3      0.092   \n",
       "3           11.2              0.28         0.56             1.9      0.075   \n",
       "4            7.4              0.70         0.00             1.9      0.076   \n",
       "\n",
       "   free sulfur dioxide  total sulfur dioxide  density    pH  sulphates  \\\n",
       "0                 11.0                  34.0   0.9978  3.51       0.56   \n",
       "1                 25.0                  67.0   0.9968  3.20       0.68   \n",
       "2                 15.0                  54.0   0.9970  3.26       0.65   \n",
       "3                 17.0                  60.0   0.9980  3.16       0.58   \n",
       "4                 11.0                  34.0   0.9978  3.51       0.56   \n",
       "\n",
       "   alcohol  quality  \n",
       "0      9.4        5  \n",
       "1      9.8        5  \n",
       "2      9.8        5  \n",
       "3      9.8        6  \n",
       "4      9.4        5  "
      ]
     },
     "execution_count": 2161,
     "metadata": {},
     "output_type": "execute_result"
    }
   ],
   "source": [
    "df = pd.read_csv('C:/Users/1nFernous/Downloads/winequality-red.csv', \n",
    "                   sep = ';', \n",
    "                   engine = 'python')\n",
    "df.head()"
   ]
  },
  {
   "cell_type": "code",
   "execution_count": 2162,
   "metadata": {},
   "outputs": [
    {
     "name": "stdout",
     "output_type": "stream",
     "text": [
      "5    42.589118\n",
      "6    39.899937\n",
      "7    12.445278\n",
      "4     3.314572\n",
      "8     1.125704\n",
      "3     0.625391\n",
      "Name: quality, dtype: float64\n"
     ]
    },
    {
     "data": {
      "image/png": "[encoded data removed]",
      "text/plain": [
       "<Figure size 504x360 with 1 Axes>"
      ]
     },
     "metadata": {},
     "output_type": "display_data"
    }
   ],
   "source": [
    "ax = df[\"quality\"].value_counts().plot.bar(figsize=(7,5))\n",
    "for p in ax.patches:\n",
    "    ax.annotate(str(p.get_height()), (p.get_x() * 1.02, p.get_height() * 1.02))\n",
    "plt.style.use('grayscale')\n",
    "print(df[\"quality\"].value_counts(normalize=True)*100)"
   ]
  },
  {
   "cell_type": "code",
   "execution_count": 2163,
   "metadata": {},
   "outputs": [
    {
     "data": {
      "text/html": [
       "<div>\n",
       "<style scoped>\n",
       "    .dataframe tbody tr th:only-of-type {\n",
       "        vertical-align: middle;\n",
       "    }\n",
       "\n",
       "    .dataframe tbody tr th {\n",
       "        vertical-align: top;\n",
       "    }\n",
       "\n",
       "    .dataframe thead th {\n",
       "        text-align: right;\n",
       "    }\n",
       "</style>\n",
       "<table border=\"1\" class=\"dataframe\">\n",
       "  <thead>\n",
       "    <tr style=\"text-align: right;\">\n",
       "      <th></th>\n",
       "      <th>fixed acidity</th>\n",
       "      <th>volatile acidity</th>\n",
       "      <th>citric acid</th>\n",
       "      <th>residual sugar</th>\n",
       "      <th>chlorides</th>\n",
       "      <th>free sulfur dioxide</th>\n",
       "      <th>total sulfur dioxide</th>\n",
       "      <th>density</th>\n",
       "      <th>pH</th>\n",
       "      <th>sulphates</th>\n",
       "      <th>alcohol</th>\n",
       "      <th>quality</th>\n",
       "    </tr>\n",
       "  </thead>\n",
       "  <tbody>\n",
       "    <tr>\n",
       "      <th>count</th>\n",
       "      <td>1599.000000</td>\n",
       "      <td>1599.000000</td>\n",
       "      <td>1599.000000</td>\n",
       "      <td>1599.000000</td>\n",
       "      <td>1599.000000</td>\n",
       "      <td>1599.000000</td>\n",
       "      <td>1599.000000</td>\n",
       "      <td>1599.000000</td>\n",
       "      <td>1599.000000</td>\n",
       "      <td>1599.000000</td>\n",
       "      <td>1599.000000</td>\n",
       "      <td>1599.000000</td>\n",
       "    </tr>\n",
       "    <tr>\n",
       "      <th>mean</th>\n",
       "      <td>8.319637</td>\n",
       "      <td>0.527821</td>\n",
       "      <td>0.270976</td>\n",
       "      <td>2.538806</td>\n",
       "      <td>0.087467</td>\n",
       "      <td>15.874922</td>\n",
       "      <td>46.467792</td>\n",
       "      <td>0.996747</td>\n",
       "      <td>3.311113</td>\n",
       "      <td>0.658149</td>\n",
       "      <td>10.422983</td>\n",
       "      <td>5.636023</td>\n",
       "    </tr>\n",
       "    <tr>\n",
       "      <th>std</th>\n",
       "      <td>1.741096</td>\n",
       "      <td>0.179060</td>\n",
       "      <td>0.194801</td>\n",
       "      <td>1.409928</td>\n",
       "      <td>0.047065</td>\n",
       "      <td>10.460157</td>\n",
       "      <td>32.895324</td>\n",
       "      <td>0.001887</td>\n",
       "      <td>0.154386</td>\n",
       "      <td>0.169507</td>\n",
       "      <td>1.065668</td>\n",
       "      <td>0.807569</td>\n",
       "    </tr>\n",
       "    <tr>\n",
       "      <th>min</th>\n",
       "      <td>4.600000</td>\n",
       "      <td>0.120000</td>\n",
       "      <td>0.000000</td>\n",
       "      <td>0.900000</td>\n",
       "      <td>0.012000</td>\n",
       "      <td>1.000000</td>\n",
       "      <td>6.000000</td>\n",
       "      <td>0.990070</td>\n",
       "      <td>2.740000</td>\n",
       "      <td>0.330000</td>\n",
       "      <td>8.400000</td>\n",
       "      <td>3.000000</td>\n",
       "    </tr>\n",
       "    <tr>\n",
       "      <th>25%</th>\n",
       "      <td>7.100000</td>\n",
       "      <td>0.390000</td>\n",
       "      <td>0.090000</td>\n",
       "      <td>1.900000</td>\n",
       "      <td>0.070000</td>\n",
       "      <td>7.000000</td>\n",
       "      <td>22.000000</td>\n",
       "      <td>0.995600</td>\n",
       "      <td>3.210000</td>\n",
       "      <td>0.550000</td>\n",
       "      <td>9.500000</td>\n",
       "      <td>5.000000</td>\n",
       "    </tr>\n",
       "    <tr>\n",
       "      <th>50%</th>\n",
       "      <td>7.900000</td>\n",
       "      <td>0.520000</td>\n",
       "      <td>0.260000</td>\n",
       "      <td>2.200000</td>\n",
       "      <td>0.079000</td>\n",
       "      <td>14.000000</td>\n",
       "      <td>38.000000</td>\n",
       "      <td>0.996750</td>\n",
       "      <td>3.310000</td>\n",
       "      <td>0.620000</td>\n",
       "      <td>10.200000</td>\n",
       "      <td>6.000000</td>\n",
       "    </tr>\n",
       "    <tr>\n",
       "      <th>75%</th>\n",
       "      <td>9.200000</td>\n",
       "      <td>0.640000</td>\n",
       "      <td>0.420000</td>\n",
       "      <td>2.600000</td>\n",
       "      <td>0.090000</td>\n",
       "      <td>21.000000</td>\n",
       "      <td>62.000000</td>\n",
       "      <td>0.997835</td>\n",
       "      <td>3.400000</td>\n",
       "      <td>0.730000</td>\n",
       "      <td>11.100000</td>\n",
       "      <td>6.000000</td>\n",
       "    </tr>\n",
       "    <tr>\n",
       "      <th>max</th>\n",
       "      <td>15.900000</td>\n",
       "      <td>1.580000</td>\n",
       "      <td>1.000000</td>\n",
       "      <td>15.500000</td>\n",
       "      <td>0.611000</td>\n",
       "      <td>72.000000</td>\n",
       "      <td>289.000000</td>\n",
       "      <td>1.003690</td>\n",
       "      <td>4.010000</td>\n",
       "      <td>2.000000</td>\n",
       "      <td>14.900000</td>\n",
       "      <td>8.000000</td>\n",
       "    </tr>\n",
       "  </tbody>\n",
       "</table>\n",
       "</div>"
      ],
      "text/plain": [
       "       fixed acidity  volatile acidity  citric acid  residual sugar  \\\n",
       "count    1599.000000       1599.000000  1599.000000     1599.000000   \n",
       "mean        8.319637          0.527821     0.270976        2.538806   \n",
       "std         1.741096          0.179060     0.194801        1.409928   \n",
       "min         4.600000          0.120000     0.000000        0.900000   \n",
       "25%         7.100000          0.390000     0.090000        1.900000   \n",
       "50%         7.900000          0.520000     0.260000        2.200000   \n",
       "75%         9.200000          0.640000     0.420000        2.600000   \n",
       "max        15.900000          1.580000     1.000000       15.500000   \n",
       "\n",
       "         chlorides  free sulfur dioxide  total sulfur dioxide      density  \\\n",
       "count  1599.000000          1599.000000           1599.000000  1599.000000   \n",
       "mean      0.087467            15.874922             46.467792     0.996747   \n",
       "std       0.047065            10.460157             32.895324     0.001887   \n",
       "min       0.012000             1.000000              6.000000     0.990070   \n",
       "25%       0.070000             7.000000             22.000000     0.995600   \n",
       "50%       0.079000            14.000000             38.000000     0.996750   \n",
       "75%       0.090000            21.000000             62.000000     0.997835   \n",
       "max       0.611000            72.000000            289.000000     1.003690   \n",
       "\n",
       "                pH    sulphates      alcohol      quality  \n",
       "count  1599.000000  1599.000000  1599.000000  1599.000000  \n",
       "mean      3.311113     0.658149    10.422983     5.636023  \n",
       "std       0.154386     0.169507     1.065668     0.807569  \n",
       "min       2.740000     0.330000     8.400000     3.000000  \n",
       "25%       3.210000     0.550000     9.500000     5.000000  \n",
       "50%       3.310000     0.620000    10.200000     6.000000  \n",
       "75%       3.400000     0.730000    11.100000     6.000000  \n",
       "max       4.010000     2.000000    14.900000     8.000000  "
      ]
     },
     "execution_count": 2163,
     "metadata": {},
     "output_type": "execute_result"
    }
   ],
   "source": [
    "df.describe()"
   ]
  },
  {
   "cell_type": "code",
   "execution_count": 2164,
   "metadata": {},
   "outputs": [
    {
     "data": {
      "text/plain": [
       "fixed acidity           0\n",
       "volatile acidity        0\n",
       "citric acid             0\n",
       "residual sugar          0\n",
       "chlorides               0\n",
       "free sulfur dioxide     0\n",
       "total sulfur dioxide    0\n",
       "density                 0\n",
       "pH                      0\n",
       "sulphates               0\n",
       "alcohol                 0\n",
       "quality                 0\n",
       "dtype: int64"
      ]
     },
     "execution_count": 2164,
     "metadata": {},
     "output_type": "execute_result"
    }
   ],
   "source": [
    "df.isnull().sum()"
   ]
  },
  {
   "cell_type": "code",
   "execution_count": 2165,
   "metadata": {},
   "outputs": [
    {
     "name": "stdout",
     "output_type": "stream",
     "text": [
      "0    86.429018\n",
      "1    13.570982\n",
      "Name: is good, dtype: float64\n"
     ]
    }
   ],
   "source": [
    "df[\"is good\"] = 0\n",
    "df.loc[df[\"quality\"]>=7,\"is good\"] = 1\n",
    "for p in ax.patches:\n",
    "    ax.annotate(str(p.get_height()), (p.get_x(), p.get_height() * 0.5), color=\"white\")\n",
    "    \n",
    "print(df[\"is good\"].value_counts(normalize=True)*100)"
   ]
  },
  {
   "cell_type": "code",
   "execution_count": 2166,
   "metadata": {},
   "outputs": [
    {
     "name": "stdout",
     "output_type": "stream",
     "text": [
      "Features: \n",
      "['fixed acidity' 'volatile acidity' 'citric acid' 'residual sugar'\n",
      " 'chlorides' 'free sulfur dioxide' 'total sulfur dioxide' 'density' 'pH'\n",
      " 'sulphates' 'alcohol'], \n",
      "\n",
      "Labels: \n",
      "is good\n"
     ]
    }
   ],
   "source": [
    "features = df.columns[:-2]\n",
    "output = df.columns[-1]\n",
    "print(\"Features: \\n{}, \\n\\nLabels: \\n{}\".format(features.values,output))"
   ]
  },
  {
   "cell_type": "code",
   "execution_count": 2167,
   "metadata": {},
   "outputs": [],
   "source": [
    "X = df[features].values\n",
    "y = df[output].values"
   ]
  },
  {
   "cell_type": "code",
   "execution_count": 2168,
   "metadata": {},
   "outputs": [
    {
     "name": "stdout",
     "output_type": "stream",
     "text": [
      "Training size: 8789, Testing size: 8800\n"
     ]
    }
   ],
   "source": [
    "X_train, X_test, y_train, y_test = train_test_split(X,y, test_size=0.50)\n",
    "print('Training size: {}, Testing size: {}'.format(X_train.size,X_test.size))"
   ]
  },
  {
   "cell_type": "code",
   "execution_count": 2169,
   "metadata": {},
   "outputs": [],
   "source": [
    "sc_X = StandardScaler()\n",
    "X_train = sc_X.fit_transform(X_train)\n",
    "X_test = sc_X.transform(X_test)"
   ]
  },
  {
   "cell_type": "code",
   "execution_count": 2170,
   "metadata": {},
   "outputs": [],
   "source": [
    "def get_probabilty_output(X_test, model_fitted, value_count=10):\n",
    "    def highlight_max(data, color='grayscale'):\n",
    "        attr = 'background-color: {}'.format(color)\n",
    "        if data.ndim == 1:  # Series from .apply(axis=0) or axis=1\n",
    "            is_max = data == data.max()\n",
    "            return [attr if v else '' for v in is_max]\n",
    "        else:  # from .apply(axis=None)\n",
    "            is_max = data == data.max().max()\n",
    "            return pd.DataFrame(np.where(is_max, attr, ''), index=data.index, columns=data.columns)\n",
    "        \n",
    "    y_scores = model_fitted.predict_proba(X_test)\n",
    "    prob_df = pd.DataFrame(y_scores*100).head(value_count)\n",
    "    styled_df = prob_df.style.background_gradient(cmap='Greys_r')\n",
    "    styled_df = styled_df.highlight_max(axis=1, color='grayscale')\n",
    "    return styled_df"
   ]
  },
  {
   "cell_type": "code",
   "execution_count": 2171,
   "metadata": {},
   "outputs": [],
   "source": [
    "def get_classification_report(y_test,predictions,average=\"macro\"):\n",
    "    #Confusion Matrix\n",
    "    cm = confusion_matrix(y_test, predictions)\n",
    "    sns.heatmap(cm, annot=True, cmap=\"gray\")\n",
    "    plt.title(\"Confusion Matrix\")\n",
    "    plt.style.use('grayscale')\n",
    "    \n",
    "    acc = accuracy_score(y_test, predictions)\n",
    "    pre = precision_score(y_test, predictions, average=average)\n",
    "    rec = recall_score(y_test, predictions, average=average)\n",
    "    # Prediction Report\n",
    "    print(classification_report(y_test, predictions, digits=3))\n",
    "    print(\"Overall Accuracy:\", acc)\n",
    "    print(\"Overall Precision:\", pre)\n",
    "    print(\"Overall Recall:\", rec)\n",
    "    \n",
    "    return acc,pre,rec"
   ]
  },
  {
   "cell_type": "code",
   "execution_count": 2172,
   "metadata": {},
   "outputs": [],
   "source": [
    "def get_classification_ROC(X,y,model,test_size,model_fitted=False,random_state=0):\n",
    "    \n",
    "    def check_fitted(clf): \n",
    "        return hasattr(clf, \"classes_\")\n",
    "    \n",
    "    if(len(np.unique(y)) == 2):\n",
    "        #Binary Classifier\n",
    "        if not check_fitted(model):\n",
    "            model = model.fit(X,y)\n",
    "        \n",
    "        plot_roc_curve(model, X, y)\n",
    "        y_score = model.predict_proba(X)[:, 1]\n",
    "        fpr, tpr, threshold = roc_curve(y, y_score)\n",
    "        auc = roc_auc_score(y, y_score)\n",
    "        return auc\n",
    "#         print(\"False Positive Rate: {} \\nTrue Positive Rate: {} \\nThreshold:{}\".format(fpr,tpr,threshold))\n",
    "    \n",
    "    else:\n",
    "        #Multiclass Classifier\n",
    "        y_bin = label_binarize(y, classes=np.unique(y))\n",
    "        n_classes = y_bin.shape[1]\n",
    "\n",
    "        # shuffle and split training and test sets\n",
    "        X_train, X_test, y_train, y_test = train_test_split(X, y_bin, test_size=test_size, random_state=random_state)\n",
    "\n",
    "        # Learn to predict each class against the other\n",
    "        classifier = OneVsRestClassifier(model)\n",
    "        model_fitted = classifier.fit(X_train, y_train)\n",
    "        try:\n",
    "            y_score = model_fitted.decision_function(X_test)\n",
    "        except:\n",
    "            y_score = model_fitted.predict_proba(X_test)\n",
    "\n",
    "\n",
    "\n",
    "        # Compute ROC curve and ROC area for each class\n",
    "        fpr = dict()\n",
    "        tpr = dict()\n",
    "        roc_auc = dict()\n",
    "        for i in range(n_classes):\n",
    "            fpr[i], tpr[i], _ = roc_curve(y_test[:, i], y_score[:, i])\n",
    "            roc_auc[i] = auc(fpr[i], tpr[i])\n",
    "\n",
    "\n",
    "        # Compute micro-average ROC curve and ROC area\n",
    "        fpr[\"micro\"], tpr[\"micro\"], _ = roc_curve(y_test.ravel(), y_score.ravel())\n",
    "        roc_auc[\"micro\"] = auc(fpr[\"micro\"], tpr[\"micro\"])\n",
    "\n",
    "\n",
    "        plt.figure()\n",
    "        lw = 2\n",
    "        plt.plot(fpr[2], tpr[2], color='darkorange',\n",
    "                 lw=lw, label='ROC curve (area = %0.2f)' % roc_auc[2])\n",
    "        plt.plot([0, 1], [0, 1], color='navy', lw=lw, linestyle='--')\n",
    "        plt.xlim([0.0, 1.0])\n",
    "        plt.ylim([0.0, 1.05])\n",
    "        plt.xlabel('False Positive Rate')\n",
    "        plt.ylabel('True Positive Rate')\n",
    "        plt.title('Receiver operating characteristic averaged')\n",
    "        plt.legend(loc=\"lower right\")\n",
    "        plt.show()\n",
    "\n",
    "\n",
    "\n",
    "        # First aggregate all false positive rates\n",
    "        all_fpr = np.unique(np.concatenate([fpr[i] for i in range(n_classes)]))\n",
    "\n",
    "        # Then interpolate all ROC curves at this points\n",
    "        mean_tpr = np.zeros_like(all_fpr)\n",
    "        for i in range(n_classes):\n",
    "            mean_tpr += interp(all_fpr, fpr[i], tpr[i])\n",
    "\n",
    "        # Finally average it and compute AUC\n",
    "        mean_tpr /= n_classes\n",
    "\n",
    "        fpr[\"macro\"] = all_fpr\n",
    "        tpr[\"macro\"] = mean_tpr\n",
    "        roc_auc[\"macro\"] = auc(fpr[\"macro\"], tpr[\"macro\"])\n",
    "\n",
    "        # Plot all ROC curves\n",
    "        plt.figure(figsize=(10,10))\n",
    "        plt.plot(fpr[\"micro\"], tpr[\"micro\"],\n",
    "                 label='micro-average ROC curve (area = {0:0.2f})'\n",
    "                       ''.format(roc_auc[\"micro\"]),\n",
    "                 color='deeppink', linestyle=':', linewidth=4)\n",
    "\n",
    "        plt.plot(fpr[\"macro\"], tpr[\"macro\"],\n",
    "                 label='macro-average ROC curve (area = {0:0.2f})'\n",
    "                       ''.format(roc_auc[\"macro\"]),\n",
    "                 color='navy', linestyle=':', linewidth=4)\n",
    "\n",
    "        colors = cycle(['aqua', 'darkorange', 'cornflowerblue', 'red', 'blue', 'purple', 'green'])\n",
    "        for i, color in zip(range(n_classes), colors):\n",
    "            plt.plot(fpr[i], tpr[i], color=color, lw=lw,\n",
    "                     label='ROC curve of class {0} (area = {1:0.2f})'\n",
    "                     ''.format(i, roc_auc[i]))\n",
    "\n",
    "        plt.plot([0, 1], [0, 1], 'k--', lw=lw)\n",
    "        plt.xlim([0.0, 1.0])\n",
    "        plt.ylim([0.0, 1.05])\n",
    "        plt.xlabel('False Positive Rate')\n",
    "        plt.ylabel('True Positive Rate')\n",
    "        plt.title('multi-class ROC (One vs All)')\n",
    "        plt.legend(loc=\"lower right\")\n",
    "        plt.style.use('grayscale')\n",
    "        plt.show()"
   ]
  },
  {
   "cell_type": "markdown",
   "metadata": {},
   "source": [
    "# Naive Bayes Classifier"
   ]
  },
  {
   "cell_type": "markdown",
   "metadata": {},
   "source": [
    "## Parameter 1\n",
    "Ketika smoothing di set di angka default"
   ]
  },
  {
   "cell_type": "code",
   "execution_count": 2173,
   "metadata": {},
   "outputs": [
    {
     "name": "stdout",
     "output_type": "stream",
     "text": [
      "Predictions: [1 0 0 0 0 1 0 0 0 0]\n",
      "Actual: [0 0 0 0 0 0 0 0 0 0]\n"
     ]
    }
   ],
   "source": [
    "model_NB = GaussianNB()\n",
    "model_NB.fit(X_train, y_train)\n",
    "predictions_NB1 = model_NB.predict(X_test)\n",
    "print(\"Predictions:\",predictions_NB1[:10])\n",
    "print(\"Actual:\",y_test[:10])"
   ]
  },
  {
   "cell_type": "code",
   "execution_count": 2174,
   "metadata": {},
   "outputs": [
    {
     "data": {
      "text/html": [
       "<style  type=\"text/css\" >\n",
       "#T_1dc2e2e9_a128_11eb_91e2_18c04da5d47brow0_col0{\n",
       "            background-color:  #434343;\n",
       "            color:  #f1f1f1;\n",
       "        }#T_1dc2e2e9_a128_11eb_91e2_18c04da5d47brow0_col1{\n",
       "            background-color:  #e1e1e1;\n",
       "            color:  #000000;\n",
       "            background-color:  grayscale;\n",
       "        }#T_1dc2e2e9_a128_11eb_91e2_18c04da5d47brow1_col0{\n",
       "            background-color:  #fefefe;\n",
       "            color:  #000000;\n",
       "            background-color:  grayscale;\n",
       "        }#T_1dc2e2e9_a128_11eb_91e2_18c04da5d47brow1_col1{\n",
       "            background-color:  #020202;\n",
       "            color:  #f1f1f1;\n",
       "        }#T_1dc2e2e9_a128_11eb_91e2_18c04da5d47brow2_col0,#T_1dc2e2e9_a128_11eb_91e2_18c04da5d47brow5_col1,#T_1dc2e2e9_a128_11eb_91e2_18c04da5d47brow8_col0{\n",
       "            background-color:  #ffffff;\n",
       "            color:  #000000;\n",
       "            background-color:  grayscale;\n",
       "        }#T_1dc2e2e9_a128_11eb_91e2_18c04da5d47brow2_col1,#T_1dc2e2e9_a128_11eb_91e2_18c04da5d47brow5_col0,#T_1dc2e2e9_a128_11eb_91e2_18c04da5d47brow8_col1{\n",
       "            background-color:  #000000;\n",
       "            color:  #f1f1f1;\n",
       "        }#T_1dc2e2e9_a128_11eb_91e2_18c04da5d47brow3_col0{\n",
       "            background-color:  #f7f7f7;\n",
       "            color:  #000000;\n",
       "            background-color:  grayscale;\n",
       "        }#T_1dc2e2e9_a128_11eb_91e2_18c04da5d47brow3_col1{\n",
       "            background-color:  #131313;\n",
       "            color:  #f1f1f1;\n",
       "        }#T_1dc2e2e9_a128_11eb_91e2_18c04da5d47brow4_col0{\n",
       "            background-color:  #dedede;\n",
       "            color:  #000000;\n",
       "            background-color:  grayscale;\n",
       "        }#T_1dc2e2e9_a128_11eb_91e2_18c04da5d47brow4_col1{\n",
       "            background-color:  #484848;\n",
       "            color:  #f1f1f1;\n",
       "        }#T_1dc2e2e9_a128_11eb_91e2_18c04da5d47brow6_col0{\n",
       "            background-color:  #d8d8d8;\n",
       "            color:  #000000;\n",
       "            background-color:  grayscale;\n",
       "        }#T_1dc2e2e9_a128_11eb_91e2_18c04da5d47brow6_col1{\n",
       "            background-color:  #535353;\n",
       "            color:  #f1f1f1;\n",
       "        }#T_1dc2e2e9_a128_11eb_91e2_18c04da5d47brow7_col0,#T_1dc2e2e9_a128_11eb_91e2_18c04da5d47brow9_col0{\n",
       "            background-color:  #fdfdfd;\n",
       "            color:  #000000;\n",
       "            background-color:  grayscale;\n",
       "        }#T_1dc2e2e9_a128_11eb_91e2_18c04da5d47brow7_col1,#T_1dc2e2e9_a128_11eb_91e2_18c04da5d47brow9_col1{\n",
       "            background-color:  #050505;\n",
       "            color:  #f1f1f1;\n",
       "        }</style><table id=\"T_1dc2e2e9_a128_11eb_91e2_18c04da5d47b\" ><thead>    <tr>        <th class=\"blank level0\" ></th>        <th class=\"col_heading level0 col0\" >0</th>        <th class=\"col_heading level0 col1\" >1</th>    </tr></thead><tbody>\n",
       "                <tr>\n",
       "                        <th id=\"T_1dc2e2e9_a128_11eb_91e2_18c04da5d47blevel0_row0\" class=\"row_heading level0 row0\" >0</th>\n",
       "                        <td id=\"T_1dc2e2e9_a128_11eb_91e2_18c04da5d47brow0_col0\" class=\"data row0 col0\" >33.193175</td>\n",
       "                        <td id=\"T_1dc2e2e9_a128_11eb_91e2_18c04da5d47brow0_col1\" class=\"data row0 col1\" >66.806825</td>\n",
       "            </tr>\n",
       "            <tr>\n",
       "                        <th id=\"T_1dc2e2e9_a128_11eb_91e2_18c04da5d47blevel0_row1\" class=\"row_heading level0 row1\" >1</th>\n",
       "                        <td id=\"T_1dc2e2e9_a128_11eb_91e2_18c04da5d47brow1_col0\" class=\"data row1 col0\" >98.913518</td>\n",
       "                        <td id=\"T_1dc2e2e9_a128_11eb_91e2_18c04da5d47brow1_col1\" class=\"data row1 col1\" >1.086482</td>\n",
       "            </tr>\n",
       "            <tr>\n",
       "                        <th id=\"T_1dc2e2e9_a128_11eb_91e2_18c04da5d47blevel0_row2\" class=\"row_heading level0 row2\" >2</th>\n",
       "                        <td id=\"T_1dc2e2e9_a128_11eb_91e2_18c04da5d47brow2_col0\" class=\"data row2 col0\" >99.859779</td>\n",
       "                        <td id=\"T_1dc2e2e9_a128_11eb_91e2_18c04da5d47brow2_col1\" class=\"data row2 col1\" >0.140221</td>\n",
       "            </tr>\n",
       "            <tr>\n",
       "                        <th id=\"T_1dc2e2e9_a128_11eb_91e2_18c04da5d47blevel0_row3\" class=\"row_heading level0 row3\" >3</th>\n",
       "                        <td id=\"T_1dc2e2e9_a128_11eb_91e2_18c04da5d47brow3_col0\" class=\"data row3 col0\" >94.293657</td>\n",
       "                        <td id=\"T_1dc2e2e9_a128_11eb_91e2_18c04da5d47brow3_col1\" class=\"data row3 col1\" >5.706343</td>\n",
       "            </tr>\n",
       "            <tr>\n",
       "                        <th id=\"T_1dc2e2e9_a128_11eb_91e2_18c04da5d47blevel0_row4\" class=\"row_heading level0 row4\" >4</th>\n",
       "                        <td id=\"T_1dc2e2e9_a128_11eb_91e2_18c04da5d47brow4_col0\" class=\"data row4 col0\" >80.949431</td>\n",
       "                        <td id=\"T_1dc2e2e9_a128_11eb_91e2_18c04da5d47brow4_col1\" class=\"data row4 col1\" >19.050569</td>\n",
       "            </tr>\n",
       "            <tr>\n",
       "                        <th id=\"T_1dc2e2e9_a128_11eb_91e2_18c04da5d47blevel0_row5\" class=\"row_heading level0 row5\" >5</th>\n",
       "                        <td id=\"T_1dc2e2e9_a128_11eb_91e2_18c04da5d47brow5_col0\" class=\"data row5 col0\" >15.421892</td>\n",
       "                        <td id=\"T_1dc2e2e9_a128_11eb_91e2_18c04da5d47brow5_col1\" class=\"data row5 col1\" >84.578108</td>\n",
       "            </tr>\n",
       "            <tr>\n",
       "                        <th id=\"T_1dc2e2e9_a128_11eb_91e2_18c04da5d47blevel0_row6\" class=\"row_heading level0 row6\" >6</th>\n",
       "                        <td id=\"T_1dc2e2e9_a128_11eb_91e2_18c04da5d47brow6_col0\" class=\"data row6 col0\" >78.366736</td>\n",
       "                        <td id=\"T_1dc2e2e9_a128_11eb_91e2_18c04da5d47brow6_col1\" class=\"data row6 col1\" >21.633264</td>\n",
       "            </tr>\n",
       "            <tr>\n",
       "                        <th id=\"T_1dc2e2e9_a128_11eb_91e2_18c04da5d47blevel0_row7\" class=\"row_heading level0 row7\" >7</th>\n",
       "                        <td id=\"T_1dc2e2e9_a128_11eb_91e2_18c04da5d47brow7_col0\" class=\"data row7 col0\" >98.409397</td>\n",
       "                        <td id=\"T_1dc2e2e9_a128_11eb_91e2_18c04da5d47brow7_col1\" class=\"data row7 col1\" >1.590603</td>\n",
       "            </tr>\n",
       "            <tr>\n",
       "                        <th id=\"T_1dc2e2e9_a128_11eb_91e2_18c04da5d47blevel0_row8\" class=\"row_heading level0 row8\" >8</th>\n",
       "                        <td id=\"T_1dc2e2e9_a128_11eb_91e2_18c04da5d47brow8_col0\" class=\"data row8 col0\" >99.772927</td>\n",
       "                        <td id=\"T_1dc2e2e9_a128_11eb_91e2_18c04da5d47brow8_col1\" class=\"data row8 col1\" >0.227073</td>\n",
       "            </tr>\n",
       "            <tr>\n",
       "                        <th id=\"T_1dc2e2e9_a128_11eb_91e2_18c04da5d47blevel0_row9\" class=\"row_heading level0 row9\" >9</th>\n",
       "                        <td id=\"T_1dc2e2e9_a128_11eb_91e2_18c04da5d47brow9_col0\" class=\"data row9 col0\" >98.336003</td>\n",
       "                        <td id=\"T_1dc2e2e9_a128_11eb_91e2_18c04da5d47brow9_col1\" class=\"data row9 col1\" >1.663997</td>\n",
       "            </tr>\n",
       "    </tbody></table>"
      ],
      "text/plain": [
       "<pandas.io.formats.style.Styler at 0x1c9f354f220>"
      ]
     },
     "execution_count": 2174,
     "metadata": {},
     "output_type": "execute_result"
    }
   ],
   "source": [
    "get_probabilty_output(X_test=X_test, model_fitted=model_NB)"
   ]
  },
  {
   "cell_type": "code",
   "execution_count": 2175,
   "metadata": {},
   "outputs": [
    {
     "name": "stdout",
     "output_type": "stream",
     "text": [
      "              precision    recall  f1-score   support\n",
      "\n",
      "           0      0.944     0.845     0.892       701\n",
      "           1      0.370     0.646     0.471        99\n",
      "\n",
      "    accuracy                          0.820       800\n",
      "   macro avg      0.657     0.745     0.681       800\n",
      "weighted avg      0.873     0.820     0.839       800\n",
      "\n",
      "Overall Accuracy: 0.82\n",
      "Overall Precision: 0.6570604124604733\n",
      "Overall Recall: 0.745486246199513\n"
     ]
    },
    {
     "data": {
      "image/png": "[encoded data removed]",
      "text/plain": [
       "<Figure size 432x288 with 2 Axes>"
      ]
     },
     "metadata": {},
     "output_type": "display_data"
    },
    {
     "data": {
      "image/png": "[encoded data removed]",
      "text/plain": [
       "<Figure size 432x288 with 1 Axes>"
      ]
     },
     "metadata": {},
     "output_type": "display_data"
    }
   ],
   "source": [
    "acc_NB1,pre_NB1,rec_NB1 = get_classification_report(y_test,predictions_NB1)\n",
    "auc_NB1 = get_classification_ROC(X_test,y_test,model_NB,test_size=0.5,random_state=0)"
   ]
  },
  {
   "cell_type": "markdown",
   "metadata": {},
   "source": [
    "## Parameter 2\n",
    "Ketika smoothing bernilai 0"
   ]
  },
  {
   "cell_type": "code",
   "execution_count": 2176,
   "metadata": {},
   "outputs": [
    {
     "name": "stdout",
     "output_type": "stream",
     "text": [
      "Predictions: [1 0 0 0 0 1 0 0 0 0]\n",
      "Actual: [0 0 0 0 0 0 0 0 0 0]\n"
     ]
    }
   ],
   "source": [
    "model_NB = GaussianNB(var_smoothing=0)\n",
    "model_NB.fit(X_train, y_train)\n",
    "predictions_NB2 = model_NB.predict(X_test)\n",
    "print(\"Predictions:\",predictions_NB2[:10])\n",
    "print(\"Actual:\",y_test[:10])"
   ]
  },
  {
   "cell_type": "code",
   "execution_count": 2177,
   "metadata": {},
   "outputs": [
    {
     "data": {
      "text/html": [
       "<style  type=\"text/css\" >\n",
       "#T_1def8ee3_a128_11eb_adfd_18c04da5d47brow0_col0{\n",
       "            background-color:  #434343;\n",
       "            color:  #f1f1f1;\n",
       "        }#T_1def8ee3_a128_11eb_adfd_18c04da5d47brow0_col1{\n",
       "            background-color:  #e1e1e1;\n",
       "            color:  #000000;\n",
       "            background-color:  grayscale;\n",
       "        }#T_1def8ee3_a128_11eb_adfd_18c04da5d47brow1_col0{\n",
       "            background-color:  #fefefe;\n",
       "            color:  #000000;\n",
       "            background-color:  grayscale;\n",
       "        }#T_1def8ee3_a128_11eb_adfd_18c04da5d47brow1_col1{\n",
       "            background-color:  #020202;\n",
       "            color:  #f1f1f1;\n",
       "        }#T_1def8ee3_a128_11eb_adfd_18c04da5d47brow2_col0,#T_1def8ee3_a128_11eb_adfd_18c04da5d47brow5_col1,#T_1def8ee3_a128_11eb_adfd_18c04da5d47brow8_col0{\n",
       "            background-color:  #ffffff;\n",
       "            color:  #000000;\n",
       "            background-color:  grayscale;\n",
       "        }#T_1def8ee3_a128_11eb_adfd_18c04da5d47brow2_col1,#T_1def8ee3_a128_11eb_adfd_18c04da5d47brow5_col0,#T_1def8ee3_a128_11eb_adfd_18c04da5d47brow8_col1{\n",
       "            background-color:  #000000;\n",
       "            color:  #f1f1f1;\n",
       "        }#T_1def8ee3_a128_11eb_adfd_18c04da5d47brow3_col0{\n",
       "            background-color:  #f7f7f7;\n",
       "            color:  #000000;\n",
       "            background-color:  grayscale;\n",
       "        }#T_1def8ee3_a128_11eb_adfd_18c04da5d47brow3_col1{\n",
       "            background-color:  #131313;\n",
       "            color:  #f1f1f1;\n",
       "        }#T_1def8ee3_a128_11eb_adfd_18c04da5d47brow4_col0{\n",
       "            background-color:  #dedede;\n",
       "            color:  #000000;\n",
       "            background-color:  grayscale;\n",
       "        }#T_1def8ee3_a128_11eb_adfd_18c04da5d47brow4_col1{\n",
       "            background-color:  #484848;\n",
       "            color:  #f1f1f1;\n",
       "        }#T_1def8ee3_a128_11eb_adfd_18c04da5d47brow6_col0{\n",
       "            background-color:  #d8d8d8;\n",
       "            color:  #000000;\n",
       "            background-color:  grayscale;\n",
       "        }#T_1def8ee3_a128_11eb_adfd_18c04da5d47brow6_col1{\n",
       "            background-color:  #535353;\n",
       "            color:  #f1f1f1;\n",
       "        }#T_1def8ee3_a128_11eb_adfd_18c04da5d47brow7_col0,#T_1def8ee3_a128_11eb_adfd_18c04da5d47brow9_col0{\n",
       "            background-color:  #fdfdfd;\n",
       "            color:  #000000;\n",
       "            background-color:  grayscale;\n",
       "        }#T_1def8ee3_a128_11eb_adfd_18c04da5d47brow7_col1,#T_1def8ee3_a128_11eb_adfd_18c04da5d47brow9_col1{\n",
       "            background-color:  #050505;\n",
       "            color:  #f1f1f1;\n",
       "        }</style><table id=\"T_1def8ee3_a128_11eb_adfd_18c04da5d47b\" ><thead>    <tr>        <th class=\"blank level0\" ></th>        <th class=\"col_heading level0 col0\" >0</th>        <th class=\"col_heading level0 col1\" >1</th>    </tr></thead><tbody>\n",
       "                <tr>\n",
       "                        <th id=\"T_1def8ee3_a128_11eb_adfd_18c04da5d47blevel0_row0\" class=\"row_heading level0 row0\" >0</th>\n",
       "                        <td id=\"T_1def8ee3_a128_11eb_adfd_18c04da5d47brow0_col0\" class=\"data row0 col0\" >33.193175</td>\n",
       "                        <td id=\"T_1def8ee3_a128_11eb_adfd_18c04da5d47brow0_col1\" class=\"data row0 col1\" >66.806825</td>\n",
       "            </tr>\n",
       "            <tr>\n",
       "                        <th id=\"T_1def8ee3_a128_11eb_adfd_18c04da5d47blevel0_row1\" class=\"row_heading level0 row1\" >1</th>\n",
       "                        <td id=\"T_1def8ee3_a128_11eb_adfd_18c04da5d47brow1_col0\" class=\"data row1 col0\" >98.913518</td>\n",
       "                        <td id=\"T_1def8ee3_a128_11eb_adfd_18c04da5d47brow1_col1\" class=\"data row1 col1\" >1.086482</td>\n",
       "            </tr>\n",
       "            <tr>\n",
       "                        <th id=\"T_1def8ee3_a128_11eb_adfd_18c04da5d47blevel0_row2\" class=\"row_heading level0 row2\" >2</th>\n",
       "                        <td id=\"T_1def8ee3_a128_11eb_adfd_18c04da5d47brow2_col0\" class=\"data row2 col0\" >99.859779</td>\n",
       "                        <td id=\"T_1def8ee3_a128_11eb_adfd_18c04da5d47brow2_col1\" class=\"data row2 col1\" >0.140221</td>\n",
       "            </tr>\n",
       "            <tr>\n",
       "                        <th id=\"T_1def8ee3_a128_11eb_adfd_18c04da5d47blevel0_row3\" class=\"row_heading level0 row3\" >3</th>\n",
       "                        <td id=\"T_1def8ee3_a128_11eb_adfd_18c04da5d47brow3_col0\" class=\"data row3 col0\" >94.293657</td>\n",
       "                        <td id=\"T_1def8ee3_a128_11eb_adfd_18c04da5d47brow3_col1\" class=\"data row3 col1\" >5.706343</td>\n",
       "            </tr>\n",
       "            <tr>\n",
       "                        <th id=\"T_1def8ee3_a128_11eb_adfd_18c04da5d47blevel0_row4\" class=\"row_heading level0 row4\" >4</th>\n",
       "                        <td id=\"T_1def8ee3_a128_11eb_adfd_18c04da5d47brow4_col0\" class=\"data row4 col0\" >80.949431</td>\n",
       "                        <td id=\"T_1def8ee3_a128_11eb_adfd_18c04da5d47brow4_col1\" class=\"data row4 col1\" >19.050569</td>\n",
       "            </tr>\n",
       "            <tr>\n",
       "                        <th id=\"T_1def8ee3_a128_11eb_adfd_18c04da5d47blevel0_row5\" class=\"row_heading level0 row5\" >5</th>\n",
       "                        <td id=\"T_1def8ee3_a128_11eb_adfd_18c04da5d47brow5_col0\" class=\"data row5 col0\" >15.421892</td>\n",
       "                        <td id=\"T_1def8ee3_a128_11eb_adfd_18c04da5d47brow5_col1\" class=\"data row5 col1\" >84.578108</td>\n",
       "            </tr>\n",
       "            <tr>\n",
       "                        <th id=\"T_1def8ee3_a128_11eb_adfd_18c04da5d47blevel0_row6\" class=\"row_heading level0 row6\" >6</th>\n",
       "                        <td id=\"T_1def8ee3_a128_11eb_adfd_18c04da5d47brow6_col0\" class=\"data row6 col0\" >78.366736</td>\n",
       "                        <td id=\"T_1def8ee3_a128_11eb_adfd_18c04da5d47brow6_col1\" class=\"data row6 col1\" >21.633264</td>\n",
       "            </tr>\n",
       "            <tr>\n",
       "                        <th id=\"T_1def8ee3_a128_11eb_adfd_18c04da5d47blevel0_row7\" class=\"row_heading level0 row7\" >7</th>\n",
       "                        <td id=\"T_1def8ee3_a128_11eb_adfd_18c04da5d47brow7_col0\" class=\"data row7 col0\" >98.409397</td>\n",
       "                        <td id=\"T_1def8ee3_a128_11eb_adfd_18c04da5d47brow7_col1\" class=\"data row7 col1\" >1.590603</td>\n",
       "            </tr>\n",
       "            <tr>\n",
       "                        <th id=\"T_1def8ee3_a128_11eb_adfd_18c04da5d47blevel0_row8\" class=\"row_heading level0 row8\" >8</th>\n",
       "                        <td id=\"T_1def8ee3_a128_11eb_adfd_18c04da5d47brow8_col0\" class=\"data row8 col0\" >99.772927</td>\n",
       "                        <td id=\"T_1def8ee3_a128_11eb_adfd_18c04da5d47brow8_col1\" class=\"data row8 col1\" >0.227073</td>\n",
       "            </tr>\n",
       "            <tr>\n",
       "                        <th id=\"T_1def8ee3_a128_11eb_adfd_18c04da5d47blevel0_row9\" class=\"row_heading level0 row9\" >9</th>\n",
       "                        <td id=\"T_1def8ee3_a128_11eb_adfd_18c04da5d47brow9_col0\" class=\"data row9 col0\" >98.336003</td>\n",
       "                        <td id=\"T_1def8ee3_a128_11eb_adfd_18c04da5d47brow9_col1\" class=\"data row9 col1\" >1.663997</td>\n",
       "            </tr>\n",
       "    </tbody></table>"
      ],
      "text/plain": [
       "<pandas.io.formats.style.Styler at 0x1c9f1748940>"
      ]
     },
     "execution_count": 2177,
     "metadata": {},
     "output_type": "execute_result"
    }
   ],
   "source": [
    "get_probabilty_output(X_test=X_test, model_fitted=model_NB)"
   ]
  },
  {
   "cell_type": "code",
   "execution_count": 2178,
   "metadata": {},
   "outputs": [
    {
     "name": "stdout",
     "output_type": "stream",
     "text": [
      "              precision    recall  f1-score   support\n",
      "\n",
      "           0      0.944     0.845     0.892       701\n",
      "           1      0.370     0.646     0.471        99\n",
      "\n",
      "    accuracy                          0.820       800\n",
      "   macro avg      0.657     0.745     0.681       800\n",
      "weighted avg      0.873     0.820     0.839       800\n",
      "\n",
      "Overall Accuracy: 0.82\n",
      "Overall Precision: 0.6570604124604733\n",
      "Overall Recall: 0.745486246199513\n"
     ]
    },
    {
     "data": {
      "image/png": "[encoded data removed]",
      "text/plain": [
       "<Figure size 432x288 with 2 Axes>"
      ]
     },
     "metadata": {},
     "output_type": "display_data"
    },
    {
     "data": {
      "image/png": "[encoded data removed]",
      "text/plain": [
       "<Figure size 432x288 with 1 Axes>"
      ]
     },
     "metadata": {},
     "output_type": "display_data"
    }
   ],
   "source": [
    "acc_NB2,pre_NB2,rec_NB2 = get_classification_report(y_test,predictions_NB2)\n",
    "auc_NB2 = get_classification_ROC(X_test,y_test,model_NB,test_size=0.5,random_state=0)"
   ]
  },
  {
   "cell_type": "markdown",
   "metadata": {},
   "source": [
    "## Parameter 3\n",
    "Ketika smoothing bernilai 0.5"
   ]
  },
  {
   "cell_type": "code",
   "execution_count": 2179,
   "metadata": {},
   "outputs": [
    {
     "name": "stdout",
     "output_type": "stream",
     "text": [
      "Predictions: [0 0 0 0 0 1 0 0 0 0]\n",
      "Actual: [0 0 0 0 0 0 0 0 0 0]\n"
     ]
    }
   ],
   "source": [
    "model_NB = GaussianNB(var_smoothing=0.5)\n",
    "model_NB.fit(X_train, y_train)\n",
    "predictions_NB3 = model_NB.predict(X_test)\n",
    "print(\"Predictions:\",predictions_NB3[:10])\n",
    "print(\"Actual:\",y_test[:10])"
   ]
  },
  {
   "cell_type": "code",
   "execution_count": 2180,
   "metadata": {},
   "outputs": [
    {
     "data": {
      "text/html": [
       "<style  type=\"text/css\" >\n",
       "#T_1e1c2647_a128_11eb_80c5_18c04da5d47brow0_col0{\n",
       "            background-color:  #686868;\n",
       "            color:  #f1f1f1;\n",
       "            background-color:  grayscale;\n",
       "        }#T_1e1c2647_a128_11eb_80c5_18c04da5d47brow0_col1{\n",
       "            background-color:  #c6c6c6;\n",
       "            color:  #000000;\n",
       "        }#T_1e1c2647_a128_11eb_80c5_18c04da5d47brow1_col0{\n",
       "            background-color:  #fdfdfd;\n",
       "            color:  #000000;\n",
       "            background-color:  grayscale;\n",
       "        }#T_1e1c2647_a128_11eb_80c5_18c04da5d47brow1_col1{\n",
       "            background-color:  #060606;\n",
       "            color:  #f1f1f1;\n",
       "        }#T_1e1c2647_a128_11eb_80c5_18c04da5d47brow2_col0,#T_1e1c2647_a128_11eb_80c5_18c04da5d47brow5_col1,#T_1e1c2647_a128_11eb_80c5_18c04da5d47brow8_col0{\n",
       "            background-color:  #ffffff;\n",
       "            color:  #000000;\n",
       "            background-color:  grayscale;\n",
       "        }#T_1e1c2647_a128_11eb_80c5_18c04da5d47brow2_col1,#T_1e1c2647_a128_11eb_80c5_18c04da5d47brow5_col0,#T_1e1c2647_a128_11eb_80c5_18c04da5d47brow8_col1{\n",
       "            background-color:  #000000;\n",
       "            color:  #f1f1f1;\n",
       "        }#T_1e1c2647_a128_11eb_80c5_18c04da5d47brow3_col0{\n",
       "            background-color:  #efefef;\n",
       "            color:  #000000;\n",
       "            background-color:  grayscale;\n",
       "        }#T_1e1c2647_a128_11eb_80c5_18c04da5d47brow3_col1{\n",
       "            background-color:  #272727;\n",
       "            color:  #f1f1f1;\n",
       "        }#T_1e1c2647_a128_11eb_80c5_18c04da5d47brow4_col0{\n",
       "            background-color:  #cecece;\n",
       "            color:  #000000;\n",
       "            background-color:  grayscale;\n",
       "        }#T_1e1c2647_a128_11eb_80c5_18c04da5d47brow4_col1{\n",
       "            background-color:  #5f5f5f;\n",
       "            color:  #f1f1f1;\n",
       "        }#T_1e1c2647_a128_11eb_80c5_18c04da5d47brow6_col0{\n",
       "            background-color:  #bababa;\n",
       "            color:  #000000;\n",
       "            background-color:  grayscale;\n",
       "        }#T_1e1c2647_a128_11eb_80c5_18c04da5d47brow6_col1{\n",
       "            background-color:  #767676;\n",
       "            color:  #000000;\n",
       "        }#T_1e1c2647_a128_11eb_80c5_18c04da5d47brow7_col0{\n",
       "            background-color:  #fcfcfc;\n",
       "            color:  #000000;\n",
       "            background-color:  grayscale;\n",
       "        }#T_1e1c2647_a128_11eb_80c5_18c04da5d47brow7_col1{\n",
       "            background-color:  #080808;\n",
       "            color:  #f1f1f1;\n",
       "        }#T_1e1c2647_a128_11eb_80c5_18c04da5d47brow9_col0{\n",
       "            background-color:  #f7f7f7;\n",
       "            color:  #000000;\n",
       "            background-color:  grayscale;\n",
       "        }#T_1e1c2647_a128_11eb_80c5_18c04da5d47brow9_col1{\n",
       "            background-color:  #131313;\n",
       "            color:  #f1f1f1;\n",
       "        }</style><table id=\"T_1e1c2647_a128_11eb_80c5_18c04da5d47b\" ><thead>    <tr>        <th class=\"blank level0\" ></th>        <th class=\"col_heading level0 col0\" >0</th>        <th class=\"col_heading level0 col1\" >1</th>    </tr></thead><tbody>\n",
       "                <tr>\n",
       "                        <th id=\"T_1e1c2647_a128_11eb_80c5_18c04da5d47blevel0_row0\" class=\"row_heading level0 row0\" >0</th>\n",
       "                        <td id=\"T_1e1c2647_a128_11eb_80c5_18c04da5d47brow0_col0\" class=\"data row0 col0\" >63.956142</td>\n",
       "                        <td id=\"T_1e1c2647_a128_11eb_80c5_18c04da5d47brow0_col1\" class=\"data row0 col1\" >36.043858</td>\n",
       "            </tr>\n",
       "            <tr>\n",
       "                        <th id=\"T_1e1c2647_a128_11eb_80c5_18c04da5d47blevel0_row1\" class=\"row_heading level0 row1\" >1</th>\n",
       "                        <td id=\"T_1e1c2647_a128_11eb_80c5_18c04da5d47brow1_col0\" class=\"data row1 col0\" >97.716200</td>\n",
       "                        <td id=\"T_1e1c2647_a128_11eb_80c5_18c04da5d47brow1_col1\" class=\"data row1 col1\" >2.283800</td>\n",
       "            </tr>\n",
       "            <tr>\n",
       "                        <th id=\"T_1e1c2647_a128_11eb_80c5_18c04da5d47blevel0_row2\" class=\"row_heading level0 row2\" >2</th>\n",
       "                        <td id=\"T_1e1c2647_a128_11eb_80c5_18c04da5d47brow2_col0\" class=\"data row2 col0\" >98.806773</td>\n",
       "                        <td id=\"T_1e1c2647_a128_11eb_80c5_18c04da5d47brow2_col1\" class=\"data row2 col1\" >1.193227</td>\n",
       "            </tr>\n",
       "            <tr>\n",
       "                        <th id=\"T_1e1c2647_a128_11eb_80c5_18c04da5d47blevel0_row3\" class=\"row_heading level0 row3\" >3</th>\n",
       "                        <td id=\"T_1e1c2647_a128_11eb_80c5_18c04da5d47brow3_col0\" class=\"data row3 col0\" >91.884442</td>\n",
       "                        <td id=\"T_1e1c2647_a128_11eb_80c5_18c04da5d47brow3_col1\" class=\"data row3 col1\" >8.115558</td>\n",
       "            </tr>\n",
       "            <tr>\n",
       "                        <th id=\"T_1e1c2647_a128_11eb_80c5_18c04da5d47blevel0_row4\" class=\"row_heading level0 row4\" >4</th>\n",
       "                        <td id=\"T_1e1c2647_a128_11eb_80c5_18c04da5d47brow4_col0\" class=\"data row4 col0\" >83.215905</td>\n",
       "                        <td id=\"T_1e1c2647_a128_11eb_80c5_18c04da5d47brow4_col1\" class=\"data row4 col1\" >16.784095</td>\n",
       "            </tr>\n",
       "            <tr>\n",
       "                        <th id=\"T_1e1c2647_a128_11eb_80c5_18c04da5d47blevel0_row5\" class=\"row_heading level0 row5\" >5</th>\n",
       "                        <td id=\"T_1e1c2647_a128_11eb_80c5_18c04da5d47brow5_col0\" class=\"data row5 col0\" >46.605045</td>\n",
       "                        <td id=\"T_1e1c2647_a128_11eb_80c5_18c04da5d47brow5_col1\" class=\"data row5 col1\" >53.394955</td>\n",
       "            </tr>\n",
       "            <tr>\n",
       "                        <th id=\"T_1e1c2647_a128_11eb_80c5_18c04da5d47blevel0_row6\" class=\"row_heading level0 row6\" >6</th>\n",
       "                        <td id=\"T_1e1c2647_a128_11eb_80c5_18c04da5d47brow6_col0\" class=\"data row6 col0\" >78.658976</td>\n",
       "                        <td id=\"T_1e1c2647_a128_11eb_80c5_18c04da5d47brow6_col1\" class=\"data row6 col1\" >21.341024</td>\n",
       "            </tr>\n",
       "            <tr>\n",
       "                        <th id=\"T_1e1c2647_a128_11eb_80c5_18c04da5d47blevel0_row7\" class=\"row_heading level0 row7\" >7</th>\n",
       "                        <td id=\"T_1e1c2647_a128_11eb_80c5_18c04da5d47brow7_col0\" class=\"data row7 col0\" >97.219111</td>\n",
       "                        <td id=\"T_1e1c2647_a128_11eb_80c5_18c04da5d47brow7_col1\" class=\"data row7 col1\" >2.780889</td>\n",
       "            </tr>\n",
       "            <tr>\n",
       "                        <th id=\"T_1e1c2647_a128_11eb_80c5_18c04da5d47blevel0_row8\" class=\"row_heading level0 row8\" >8</th>\n",
       "                        <td id=\"T_1e1c2647_a128_11eb_80c5_18c04da5d47brow8_col0\" class=\"data row8 col0\" >98.639177</td>\n",
       "                        <td id=\"T_1e1c2647_a128_11eb_80c5_18c04da5d47brow8_col1\" class=\"data row8 col1\" >1.360823</td>\n",
       "            </tr>\n",
       "            <tr>\n",
       "                        <th id=\"T_1e1c2647_a128_11eb_80c5_18c04da5d47blevel0_row9\" class=\"row_heading level0 row9\" >9</th>\n",
       "                        <td id=\"T_1e1c2647_a128_11eb_80c5_18c04da5d47brow9_col0\" class=\"data row9 col0\" >95.347257</td>\n",
       "                        <td id=\"T_1e1c2647_a128_11eb_80c5_18c04da5d47brow9_col1\" class=\"data row9 col1\" >4.652743</td>\n",
       "            </tr>\n",
       "    </tbody></table>"
      ],
      "text/plain": [
       "<pandas.io.formats.style.Styler at 0x1c9f354be80>"
      ]
     },
     "execution_count": 2180,
     "metadata": {},
     "output_type": "execute_result"
    }
   ],
   "source": [
    "get_probabilty_output(X_test=X_test, model_fitted=model_NB)"
   ]
  },
  {
   "cell_type": "code",
   "execution_count": 2181,
   "metadata": {},
   "outputs": [
    {
     "name": "stdout",
     "output_type": "stream",
     "text": [
      "              precision    recall  f1-score   support\n",
      "\n",
      "           0      0.930     0.909     0.919       701\n",
      "           1      0.443     0.515     0.477        99\n",
      "\n",
      "    accuracy                          0.860       800\n",
      "   macro avg      0.687     0.712     0.698       800\n",
      "weighted avg      0.870     0.860     0.864       800\n",
      "\n",
      "Overall Accuracy: 0.86\n",
      "Overall Precision: 0.6867026340844176\n",
      "Overall Recall: 0.7119266848225478\n"
     ]
    },
    {
     "data": {
      "image/png": "[encoded data removed]",
      "text/plain": [
       "<Figure size 432x288 with 2 Axes>"
      ]
     },
     "metadata": {},
     "output_type": "display_data"
    },
    {
     "data": {
      "image/png": "[encoded data removed]",
      "text/plain": [
       "<Figure size 432x288 with 1 Axes>"
      ]
     },
     "metadata": {},
     "output_type": "display_data"
    }
   ],
   "source": [
    "acc_NB3,pre_NB3,rec_NB3 = get_classification_report(y_test,predictions_NB3)\n",
    "auc_NB3 = get_classification_ROC(X_test,y_test,model_NB,test_size=0.5,random_state=0)"
   ]
  },
  {
   "cell_type": "markdown",
   "metadata": {},
   "source": [
    "## Parameter 4\n",
    "Ketika smoothing bernilai 2"
   ]
  },
  {
   "cell_type": "code",
   "execution_count": 2182,
   "metadata": {},
   "outputs": [
    {
     "name": "stdout",
     "output_type": "stream",
     "text": [
      "Predictions: [0 0 0 0 0 0 0 0 0 0]\n",
      "Actual: [0 0 0 0 0 0 0 0 0 0]\n"
     ]
    }
   ],
   "source": [
    "model_NB = GaussianNB(var_smoothing=1)\n",
    "model_NB.fit(X_train, y_train)\n",
    "predictions_NB4 = model_NB.predict(X_test)\n",
    "print(\"Predictions:\",predictions_NB4[:10])\n",
    "print(\"Actual:\",y_test[:10])"
   ]
  },
  {
   "cell_type": "code",
   "execution_count": 2183,
   "metadata": {},
   "outputs": [
    {
     "data": {
      "text/html": [
       "<style  type=\"text/css\" >\n",
       "#T_1e491eb6_a128_11eb_81a7_18c04da5d47brow0_col0{\n",
       "            background-color:  #666666;\n",
       "            color:  #f1f1f1;\n",
       "            background-color:  grayscale;\n",
       "        }#T_1e491eb6_a128_11eb_81a7_18c04da5d47brow0_col1{\n",
       "            background-color:  #c8c8c8;\n",
       "            color:  #000000;\n",
       "        }#T_1e491eb6_a128_11eb_81a7_18c04da5d47brow1_col0{\n",
       "            background-color:  #fcfcfc;\n",
       "            color:  #000000;\n",
       "            background-color:  grayscale;\n",
       "        }#T_1e491eb6_a128_11eb_81a7_18c04da5d47brow1_col1{\n",
       "            background-color:  #080808;\n",
       "            color:  #f1f1f1;\n",
       "        }#T_1e491eb6_a128_11eb_81a7_18c04da5d47brow2_col0,#T_1e491eb6_a128_11eb_81a7_18c04da5d47brow8_col0{\n",
       "            background-color:  #ffffff;\n",
       "            color:  #000000;\n",
       "            background-color:  grayscale;\n",
       "        }#T_1e491eb6_a128_11eb_81a7_18c04da5d47brow2_col1,#T_1e491eb6_a128_11eb_81a7_18c04da5d47brow8_col1{\n",
       "            background-color:  #000000;\n",
       "            color:  #f1f1f1;\n",
       "        }#T_1e491eb6_a128_11eb_81a7_18c04da5d47brow3_col0{\n",
       "            background-color:  #e4e4e4;\n",
       "            color:  #000000;\n",
       "            background-color:  grayscale;\n",
       "        }#T_1e491eb6_a128_11eb_81a7_18c04da5d47brow3_col1{\n",
       "            background-color:  #3d3d3d;\n",
       "            color:  #f1f1f1;\n",
       "        }#T_1e491eb6_a128_11eb_81a7_18c04da5d47brow4_col0{\n",
       "            background-color:  #bdbdbd;\n",
       "            color:  #000000;\n",
       "            background-color:  grayscale;\n",
       "        }#T_1e491eb6_a128_11eb_81a7_18c04da5d47brow4_col1{\n",
       "            background-color:  #737373;\n",
       "            color:  #000000;\n",
       "        }#T_1e491eb6_a128_11eb_81a7_18c04da5d47brow5_col0{\n",
       "            background-color:  #000000;\n",
       "            color:  #f1f1f1;\n",
       "            background-color:  grayscale;\n",
       "        }#T_1e491eb6_a128_11eb_81a7_18c04da5d47brow5_col1{\n",
       "            background-color:  #ffffff;\n",
       "            color:  #000000;\n",
       "        }#T_1e491eb6_a128_11eb_81a7_18c04da5d47brow6_col0{\n",
       "            background-color:  #a5a5a5;\n",
       "            color:  #000000;\n",
       "            background-color:  grayscale;\n",
       "        }#T_1e491eb6_a128_11eb_81a7_18c04da5d47brow6_col1{\n",
       "            background-color:  #888888;\n",
       "            color:  #000000;\n",
       "        }#T_1e491eb6_a128_11eb_81a7_18c04da5d47brow7_col0{\n",
       "            background-color:  #fafafa;\n",
       "            color:  #000000;\n",
       "            background-color:  grayscale;\n",
       "        }#T_1e491eb6_a128_11eb_81a7_18c04da5d47brow7_col1{\n",
       "            background-color:  #0c0c0c;\n",
       "            color:  #f1f1f1;\n",
       "        }#T_1e491eb6_a128_11eb_81a7_18c04da5d47brow9_col0{\n",
       "            background-color:  #f2f2f2;\n",
       "            color:  #000000;\n",
       "            background-color:  grayscale;\n",
       "        }#T_1e491eb6_a128_11eb_81a7_18c04da5d47brow9_col1{\n",
       "            background-color:  #212121;\n",
       "            color:  #f1f1f1;\n",
       "        }</style><table id=\"T_1e491eb6_a128_11eb_81a7_18c04da5d47b\" ><thead>    <tr>        <th class=\"blank level0\" ></th>        <th class=\"col_heading level0 col0\" >0</th>        <th class=\"col_heading level0 col1\" >1</th>    </tr></thead><tbody>\n",
       "                <tr>\n",
       "                        <th id=\"T_1e491eb6_a128_11eb_81a7_18c04da5d47blevel0_row0\" class=\"row_heading level0 row0\" >0</th>\n",
       "                        <td id=\"T_1e491eb6_a128_11eb_81a7_18c04da5d47brow0_col0\" class=\"data row0 col0\" >73.091380</td>\n",
       "                        <td id=\"T_1e491eb6_a128_11eb_81a7_18c04da5d47brow0_col1\" class=\"data row0 col1\" >26.908620</td>\n",
       "            </tr>\n",
       "            <tr>\n",
       "                        <th id=\"T_1e491eb6_a128_11eb_81a7_18c04da5d47blevel0_row1\" class=\"row_heading level0 row1\" >1</th>\n",
       "                        <td id=\"T_1e491eb6_a128_11eb_81a7_18c04da5d47brow1_col0\" class=\"data row1 col0\" >96.369894</td>\n",
       "                        <td id=\"T_1e491eb6_a128_11eb_81a7_18c04da5d47brow1_col1\" class=\"data row1 col1\" >3.630106</td>\n",
       "            </tr>\n",
       "            <tr>\n",
       "                        <th id=\"T_1e491eb6_a128_11eb_81a7_18c04da5d47blevel0_row2\" class=\"row_heading level0 row2\" >2</th>\n",
       "                        <td id=\"T_1e491eb6_a128_11eb_81a7_18c04da5d47brow2_col0\" class=\"data row2 col0\" >97.377204</td>\n",
       "                        <td id=\"T_1e491eb6_a128_11eb_81a7_18c04da5d47brow2_col1\" class=\"data row2 col1\" >2.622796</td>\n",
       "            </tr>\n",
       "            <tr>\n",
       "                        <th id=\"T_1e491eb6_a128_11eb_81a7_18c04da5d47blevel0_row3\" class=\"row_heading level0 row3\" >3</th>\n",
       "                        <td id=\"T_1e491eb6_a128_11eb_81a7_18c04da5d47brow3_col0\" class=\"data row3 col0\" >90.395890</td>\n",
       "                        <td id=\"T_1e491eb6_a128_11eb_81a7_18c04da5d47brow3_col1\" class=\"data row3 col1\" >9.604110</td>\n",
       "            </tr>\n",
       "            <tr>\n",
       "                        <th id=\"T_1e491eb6_a128_11eb_81a7_18c04da5d47blevel0_row4\" class=\"row_heading level0 row4\" >4</th>\n",
       "                        <td id=\"T_1e491eb6_a128_11eb_81a7_18c04da5d47brow4_col0\" class=\"data row4 col0\" >83.825991</td>\n",
       "                        <td id=\"T_1e491eb6_a128_11eb_81a7_18c04da5d47brow4_col1\" class=\"data row4 col1\" >16.174009</td>\n",
       "            </tr>\n",
       "            <tr>\n",
       "                        <th id=\"T_1e491eb6_a128_11eb_81a7_18c04da5d47blevel0_row5\" class=\"row_heading level0 row5\" >5</th>\n",
       "                        <td id=\"T_1e491eb6_a128_11eb_81a7_18c04da5d47brow5_col0\" class=\"data row5 col0\" >61.327494</td>\n",
       "                        <td id=\"T_1e491eb6_a128_11eb_81a7_18c04da5d47brow5_col1\" class=\"data row5 col1\" >38.672506</td>\n",
       "            </tr>\n",
       "            <tr>\n",
       "                        <th id=\"T_1e491eb6_a128_11eb_81a7_18c04da5d47blevel0_row6\" class=\"row_heading level0 row6\" >6</th>\n",
       "                        <td id=\"T_1e491eb6_a128_11eb_81a7_18c04da5d47brow6_col0\" class=\"data row6 col0\" >81.142326</td>\n",
       "                        <td id=\"T_1e491eb6_a128_11eb_81a7_18c04da5d47brow6_col1\" class=\"data row6 col1\" >18.857674</td>\n",
       "            </tr>\n",
       "            <tr>\n",
       "                        <th id=\"T_1e491eb6_a128_11eb_81a7_18c04da5d47blevel0_row7\" class=\"row_heading level0 row7\" >7</th>\n",
       "                        <td id=\"T_1e491eb6_a128_11eb_81a7_18c04da5d47brow7_col0\" class=\"data row7 col0\" >95.866794</td>\n",
       "                        <td id=\"T_1e491eb6_a128_11eb_81a7_18c04da5d47brow7_col1\" class=\"data row7 col1\" >4.133206</td>\n",
       "            </tr>\n",
       "            <tr>\n",
       "                        <th id=\"T_1e491eb6_a128_11eb_81a7_18c04da5d47blevel0_row8\" class=\"row_heading level0 row8\" >8</th>\n",
       "                        <td id=\"T_1e491eb6_a128_11eb_81a7_18c04da5d47brow8_col0\" class=\"data row8 col0\" >97.296475</td>\n",
       "                        <td id=\"T_1e491eb6_a128_11eb_81a7_18c04da5d47brow8_col1\" class=\"data row8 col1\" >2.703525</td>\n",
       "            </tr>\n",
       "            <tr>\n",
       "                        <th id=\"T_1e491eb6_a128_11eb_81a7_18c04da5d47blevel0_row9\" class=\"row_heading level0 row9\" >9</th>\n",
       "                        <td id=\"T_1e491eb6_a128_11eb_81a7_18c04da5d47brow9_col0\" class=\"data row9 col0\" >93.312345</td>\n",
       "                        <td id=\"T_1e491eb6_a128_11eb_81a7_18c04da5d47brow9_col1\" class=\"data row9 col1\" >6.687655</td>\n",
       "            </tr>\n",
       "    </tbody></table>"
      ],
      "text/plain": [
       "<pandas.io.formats.style.Styler at 0x1c9ec6e7550>"
      ]
     },
     "execution_count": 2183,
     "metadata": {},
     "output_type": "execute_result"
    }
   ],
   "source": [
    "get_probabilty_output(X_test=X_test, model_fitted=model_NB)"
   ]
  },
  {
   "cell_type": "code",
   "execution_count": 2184,
   "metadata": {},
   "outputs": [
    {
     "name": "stdout",
     "output_type": "stream",
     "text": [
      "              precision    recall  f1-score   support\n",
      "\n",
      "           0      0.902     0.960     0.930       701\n",
      "           1      0.481     0.263     0.340        99\n",
      "\n",
      "    accuracy                          0.874       800\n",
      "   macro avg      0.692     0.611     0.635       800\n",
      "weighted avg      0.850     0.874     0.857       800\n",
      "\n",
      "Overall Accuracy: 0.87375\n",
      "Overall Precision: 0.691813126799722\n",
      "Overall Recall: 0.6113416619836021\n"
     ]
    },
    {
     "data": {
      "image/png": "[encoded data removed]",
      "text/plain": [
       "<Figure size 432x288 with 2 Axes>"
      ]
     },
     "metadata": {},
     "output_type": "display_data"
    },
    {
     "data": {
      "image/png": "[encoded data removed]",
      "text/plain": [
       "<Figure size 432x288 with 1 Axes>"
      ]
     },
     "metadata": {},
     "output_type": "display_data"
    }
   ],
   "source": [
    "acc_NB4,pre_NB4,rec_NB4 = get_classification_report(y_test,predictions_NB4)\n",
    "auc_NB4 = get_classification_ROC(X_test,y_test,model_NB,test_size=0.5,random_state=0)"
   ]
  },
  {
   "cell_type": "markdown",
   "metadata": {},
   "source": [
    "## TABEL DAN GRAFIK"
   ]
  },
  {
   "cell_type": "code",
   "execution_count": 2185,
   "metadata": {},
   "outputs": [
    {
     "data": {
      "text/html": [
       "<div>\n",
       "<style scoped>\n",
       "    .dataframe tbody tr th:only-of-type {\n",
       "        vertical-align: middle;\n",
       "    }\n",
       "\n",
       "    .dataframe tbody tr th {\n",
       "        vertical-align: top;\n",
       "    }\n",
       "\n",
       "    .dataframe thead th {\n",
       "        text-align: right;\n",
       "    }\n",
       "</style>\n",
       "<table border=\"1\" class=\"dataframe\">\n",
       "  <thead>\n",
       "    <tr style=\"text-align: right;\">\n",
       "      <th></th>\n",
       "      <th>Actual</th>\n",
       "      <th>Prediction 1</th>\n",
       "      <th>Prediction 2</th>\n",
       "      <th>Prediction 3</th>\n",
       "      <th>Prediction 4</th>\n",
       "    </tr>\n",
       "  </thead>\n",
       "  <tbody>\n",
       "    <tr>\n",
       "      <th>0</th>\n",
       "      <td>0</td>\n",
       "      <td>1</td>\n",
       "      <td>1</td>\n",
       "      <td>0</td>\n",
       "      <td>0</td>\n",
       "    </tr>\n",
       "    <tr>\n",
       "      <th>1</th>\n",
       "      <td>0</td>\n",
       "      <td>0</td>\n",
       "      <td>0</td>\n",
       "      <td>0</td>\n",
       "      <td>0</td>\n",
       "    </tr>\n",
       "    <tr>\n",
       "      <th>2</th>\n",
       "      <td>0</td>\n",
       "      <td>0</td>\n",
       "      <td>0</td>\n",
       "      <td>0</td>\n",
       "      <td>0</td>\n",
       "    </tr>\n",
       "    <tr>\n",
       "      <th>3</th>\n",
       "      <td>0</td>\n",
       "      <td>0</td>\n",
       "      <td>0</td>\n",
       "      <td>0</td>\n",
       "      <td>0</td>\n",
       "    </tr>\n",
       "    <tr>\n",
       "      <th>4</th>\n",
       "      <td>0</td>\n",
       "      <td>0</td>\n",
       "      <td>0</td>\n",
       "      <td>0</td>\n",
       "      <td>0</td>\n",
       "    </tr>\n",
       "  </tbody>\n",
       "</table>\n",
       "</div>"
      ],
      "text/plain": [
       "   Actual  Prediction 1  Prediction 2  Prediction 3  Prediction 4\n",
       "0       0             1             1             0             0\n",
       "1       0             0             0             0             0\n",
       "2       0             0             0             0             0\n",
       "3       0             0             0             0             0\n",
       "4       0             0             0             0             0"
      ]
     },
     "execution_count": 2185,
     "metadata": {},
     "output_type": "execute_result"
    }
   ],
   "source": [
    "dataset = {'Actual': y_test,'Prediction 1': predictions_NB1,'Prediction 2': predictions_NB2,'Prediction 3': predictions_NB3,'Prediction 4': predictions_NB4}\n",
    "df = pd.DataFrame(dataset)\n",
    "df.head()"
   ]
  },
  {
   "cell_type": "code",
   "execution_count": 2186,
   "metadata": {},
   "outputs": [],
   "source": [
    "df.to_excel(\"NB.xlsx\",sheet_name='Naive Bayes')"
   ]
  },
  {
   "cell_type": "code",
   "execution_count": 2187,
   "metadata": {},
   "outputs": [
    {
     "data": {
      "text/html": [
       "<div>\n",
       "<style scoped>\n",
       "    .dataframe tbody tr th:only-of-type {\n",
       "        vertical-align: middle;\n",
       "    }\n",
       "\n",
       "    .dataframe tbody tr th {\n",
       "        vertical-align: top;\n",
       "    }\n",
       "\n",
       "    .dataframe thead th {\n",
       "        text-align: right;\n",
       "    }\n",
       "</style>\n",
       "<table border=\"1\" class=\"dataframe\">\n",
       "  <thead>\n",
       "    <tr style=\"text-align: right;\">\n",
       "      <th></th>\n",
       "      <th>Parameter</th>\n",
       "      <th>AUC</th>\n",
       "      <th>Accuracy</th>\n",
       "      <th>Precision</th>\n",
       "      <th>Recall</th>\n",
       "    </tr>\n",
       "  </thead>\n",
       "  <tbody>\n",
       "    <tr>\n",
       "      <th>0</th>\n",
       "      <td>Parameter1</td>\n",
       "      <td>82.432024</td>\n",
       "      <td>82.000</td>\n",
       "      <td>65.706041</td>\n",
       "      <td>74.548625</td>\n",
       "    </tr>\n",
       "    <tr>\n",
       "      <th>1</th>\n",
       "      <td>Parameter2</td>\n",
       "      <td>82.432024</td>\n",
       "      <td>82.000</td>\n",
       "      <td>65.706041</td>\n",
       "      <td>74.548625</td>\n",
       "    </tr>\n",
       "    <tr>\n",
       "      <th>2</th>\n",
       "      <td>Parameter3</td>\n",
       "      <td>84.423407</td>\n",
       "      <td>86.000</td>\n",
       "      <td>68.670263</td>\n",
       "      <td>71.192668</td>\n",
       "    </tr>\n",
       "    <tr>\n",
       "      <th>3</th>\n",
       "      <td>Parameter4</td>\n",
       "      <td>84.793729</td>\n",
       "      <td>87.375</td>\n",
       "      <td>69.181313</td>\n",
       "      <td>61.134166</td>\n",
       "    </tr>\n",
       "  </tbody>\n",
       "</table>\n",
       "</div>"
      ],
      "text/plain": [
       "    Parameter        AUC  Accuracy  Precision     Recall\n",
       "0  Parameter1  82.432024    82.000  65.706041  74.548625\n",
       "1  Parameter2  82.432024    82.000  65.706041  74.548625\n",
       "2  Parameter3  84.423407    86.000  68.670263  71.192668\n",
       "3  Parameter4  84.793729    87.375  69.181313  61.134166"
      ]
     },
     "execution_count": 2187,
     "metadata": {},
     "output_type": "execute_result"
    }
   ],
   "source": [
    "result = pd.DataFrame(\n",
    "    [[\"Parameter1\",auc_NB1*100,acc_NB1*100,pre_NB1*100,rec_NB1*100],\n",
    "    [\"Parameter2\",auc_NB2*100,acc_NB2*100,pre_NB2*100,rec_NB2*100],\n",
    "    [\"Parameter3\",auc_NB3*100,acc_NB3*100,pre_NB3*100,rec_NB3*100],\n",
    "    [\"Parameter4\",auc_NB4*100,acc_NB4*100,pre_NB4*100,rec_NB4*100]],\n",
    "    columns=[\"Parameter\",\"AUC\",\"Accuracy\",\"Precision\",\"Recall\"]\n",
    ")\n",
    "\n",
    "result"
   ]
  },
  {
   "cell_type": "code",
   "execution_count": 2188,
   "metadata": {},
   "outputs": [
    {
     "data": {
      "image/png": "[encoded data removed]",
      "text/plain": [
       "<Figure size 720x360 with 1 Axes>"
      ]
     },
     "metadata": {},
     "output_type": "display_data"
    }
   ],
   "source": [
    "fig = plt.figure(figsize=(10,5))\n",
    "ax = fig.add_axes([0,0,1,1])\n",
    "x = result.Parameter\n",
    "y = result.AUC\n",
    "sns.barplot(x=x, y=y)\n",
    "plt.ylim(ymin=80)\n",
    "plt.ylim(ymax=90)\n",
    "plt.title(\"Komparasi AUC\", fontsize = 20)\n",
    "plt.ylabel('AUC %', fontsize = 16)\n",
    "plt.xlabel('Parameter', fontsize = 16)\n",
    "plt.style.use('grayscale')\n",
    "plt.show()"
   ]
  },
  {
   "cell_type": "code",
   "execution_count": 2189,
   "metadata": {},
   "outputs": [
    {
     "data": {
      "image/png": "[encoded data removed]",
      "text/plain": [
       "<Figure size 720x360 with 1 Axes>"
      ]
     },
     "metadata": {},
     "output_type": "display_data"
    }
   ],
   "source": [
    "fig = plt.figure(figsize=(10,5))\n",
    "ax = fig.add_axes([0,0,1,1])\n",
    "x = result.Parameter\n",
    "y = result.Accuracy\n",
    "sns.barplot(x=x, y=y)\n",
    "plt.ylim(ymin=80)\n",
    "plt.ylim(ymax=90)\n",
    "plt.title(\"Komparasi Accuracy\", fontsize = 20)\n",
    "plt.ylabel('Accuracy %', fontsize = 16)\n",
    "plt.xlabel('Parameter', fontsize = 16)\n",
    "plt.style.use('grayscale')\n",
    "plt.show()"
   ]
  },
  {
   "cell_type": "code",
   "execution_count": 2190,
   "metadata": {},
   "outputs": [
    {
     "data": {
      "image/png": "[encoded data removed]",
      "text/plain": [
       "<Figure size 720x360 with 1 Axes>"
      ]
     },
     "metadata": {},
     "output_type": "display_data"
    }
   ],
   "source": [
    "fig = plt.figure(figsize=(10,5))\n",
    "ax = fig.add_axes([0,0,1,1])\n",
    "x = result.Parameter\n",
    "y = result.Precision\n",
    "sns.barplot(x=x, y=y)\n",
    "plt.ylim(ymin=55)\n",
    "plt.ylim(ymax=80)\n",
    "plt.title(\"Komparasi Precision\", fontsize = 20)\n",
    "plt.ylabel('Precision %', fontsize = 16)\n",
    "plt.xlabel('Parameter', fontsize = 16)\n",
    "plt.style.use('grayscale')\n",
    "plt.show()"
   ]
  },
  {
   "cell_type": "code",
   "execution_count": 2191,
   "metadata": {},
   "outputs": [
    {
     "data": {
      "image/png": "[encoded data removed]",
      "text/plain": [
       "<Figure size 720x360 with 1 Axes>"
      ]
     },
     "metadata": {},
     "output_type": "display_data"
    }
   ],
   "source": [
    "fig = plt.figure(figsize=(10,5))\n",
    "ax = fig.add_axes([0,0,1,1])\n",
    "x = result.Parameter\n",
    "y = result.Recall\n",
    "sns.barplot(x=x, y=y)\n",
    "plt.ylim(ymin=55)\n",
    "plt.ylim(ymax=80)\n",
    "plt.title(\"Komparasi Recall\", fontsize = 20)\n",
    "plt.ylabel('Recall %', fontsize = 16)\n",
    "plt.xlabel('Parameter', fontsize = 16)\n",
    "plt.style.use('grayscale')\n",
    "plt.show()"
   ]
  }
 ],
 "metadata": {
  "kernelspec": {
   "display_name": "Python 3",
   "language": "python",
   "name": "python3"
  },
  "language_info": {
   "codemirror_mode": {
    "name": "ipython",
    "version": 3
   },
   "file_extension": ".py",
   "mimetype": "text/x-python",
   "name": "python",
   "nbconvert_exporter": "python",
   "pygments_lexer": "ipython3",
   "version": "3.8.8"
  }
 },
 "nbformat": 4,
 "nbformat_minor": 4
}
