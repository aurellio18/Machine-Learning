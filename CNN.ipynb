{
 "cells": [
  {
   "cell_type": "code",
   "execution_count": 4,
   "id": "f2a865b1",
   "metadata": {},
   "outputs": [],
   "source": [
    "import zipfile,os\n",
    "local_zip = 'img.zip'\n",
    "zip_ref = zipfile.ZipFile(local_zip, 'r')\n",
    "zip_ref.extractall()\n",
    "zip_ref.close()\n",
    "\n",
    "base_dir ='img'\n"
   ]
  },
  {
   "cell_type": "code",
   "execution_count": 2,
   "id": "4fe19bde",
   "metadata": {},
   "outputs": [
    {
     "name": "stdout",
     "output_type": "stream",
     "text": [
      "Requirement already satisfied: split-folders in c:\\users\\aurel\\anaconda3\\lib\\site-packages (0.4.3)\n"
     ]
    }
   ],
   "source": [
    "!pip install split-folders"
   ]
  },
  {
   "cell_type": "code",
   "execution_count": 5,
   "id": "9a44a293",
   "metadata": {},
   "outputs": [
    {
     "name": "stderr",
     "output_type": "stream",
     "text": [
      "Copying files: 420 files [00:03, 134.47 files/s]\n"
     ]
    }
   ],
   "source": [
    "import splitfolders\n",
    "splitfolders.ratio(base_dir, output=base_dir, ratio=(0.7,0.3))\n",
    " \n",
    "train = os.path.join(base_dir, 'train')\n",
    "val = os.path.join(base_dir, 'val')"
   ]
  },
  {
   "cell_type": "code",
   "execution_count": 6,
   "id": "b5306d71",
   "metadata": {},
   "outputs": [
    {
     "data": {
      "text/plain": [
       "['AAA',\n",
       " 'ABI',\n",
       " 'AFI',\n",
       " 'AGH',\n",
       " 'AIL',\n",
       " 'ARL',\n",
       " 'ASA',\n",
       " 'BDL',\n",
       " 'DIA',\n",
       " 'DIO',\n",
       " 'DRA',\n",
       " 'EZA',\n",
       " 'FAR',\n",
       " 'FMR',\n",
       " 'FRS',\n",
       " 'GLA',\n",
       " 'GPS',\n",
       " 'HMA',\n",
       " 'HZR',\n",
       " 'IDR',\n",
       " 'KDA',\n",
       " 'MAA',\n",
       " 'MAJ',\n",
       " 'MFA',\n",
       " 'MFH',\n",
       " 'MGN',\n",
       " 'MMF',\n",
       " 'MRF',\n",
       " 'MSA',\n",
       " 'MZA',\n",
       " 'MZB',\n",
       " 'NIS',\n",
       " 'QTH',\n",
       " 'RCK',\n",
       " 'RKS',\n",
       " 'SHE',\n",
       " 'SNN',\n",
       " 'SVD',\n",
       " 'SYH',\n",
       " 'SYN',\n",
       " 'YSS',\n",
       " 'ZHT']"
      ]
     },
     "execution_count": 6,
     "metadata": {},
     "output_type": "execute_result"
    }
   ],
   "source": [
    "os.listdir('img/train')\n",
    "os.listdir('img/val')"
   ]
  },
  {
   "cell_type": "markdown",
   "id": "6cf3775b",
   "metadata": {},
   "source": [
    "### Pre-Processing"
   ]
  },
  {
   "cell_type": "code",
   "execution_count": 7,
   "id": "13b41113",
   "metadata": {},
   "outputs": [],
   "source": [
    "import tensorflow as tf\n",
    "from tensorflow.keras.preprocessing.image import ImageDataGenerator\n",
    "\n",
    "train_datagen = ImageDataGenerator(\n",
    "                shear_range=0.2,\n",
    "                zoom_range=0.2,\n",
    "                horizontal_flip=True,\n",
    "                fill_mode = 'nearest')\n",
    "\n",
    "test_datagen = ImageDataGenerator(\n",
    "                fill_mode = 'nearest')"
   ]
  },
  {
   "cell_type": "code",
   "execution_count": 8,
   "id": "b3e7e229",
   "metadata": {},
   "outputs": [
    {
     "name": "stdout",
     "output_type": "stream",
     "text": [
      "Found 294 images belonging to 42 classes.\n",
      "Found 126 images belonging to 42 classes.\n"
     ]
    }
   ],
   "source": [
    "train_generator = train_datagen.flow_from_directory(\n",
    "        train,\n",
    "        color_mode='grayscale',\n",
    "        batch_size=32,\n",
    "        class_mode='categorical')\n",
    "\n",
    "test_generator = test_datagen.flow_from_directory(\n",
    "        val,\n",
    "        color_mode='grayscale',\n",
    "        batch_size=32,\n",
    "        class_mode='categorical')"
   ]
  },
  {
   "cell_type": "markdown",
   "id": "66024a5f",
   "metadata": {},
   "source": [
    "### CNN"
   ]
  },
  {
   "cell_type": "code",
   "execution_count": 9,
   "id": "bb1cc4e6",
   "metadata": {},
   "outputs": [],
   "source": [
    "model = tf.keras.models.Sequential([\n",
    "    tf.keras.layers.Conv2D(32, (3,3), activation='relu'),\n",
    "    tf.keras.layers.MaxPooling2D(2, 2),\n",
    "    tf.keras.layers.Conv2D(64, (3,3), activation='relu'),\n",
    "    tf.keras.layers.MaxPooling2D(2,2),\n",
    "    tf.keras.layers.Conv2D(128, (3,3), activation='relu'),\n",
    "    tf.keras.layers.MaxPooling2D(2,2),\n",
    "    tf.keras.layers.Conv2D(256, (3,3), activation='relu'),\n",
    "    tf.keras.layers.MaxPooling2D(2,2),\n",
    "    tf.keras.layers.Flatten(),\n",
    "    tf.keras.layers.Dense(512, activation='relu'),\n",
    "    tf.keras.layers.Dense(42, activation='softmax')\n",
    "])"
   ]
  },
  {
   "cell_type": "code",
   "execution_count": 11,
   "id": "c0621551",
   "metadata": {},
   "outputs": [],
   "source": [
    "model.compile(loss='categorical_crossentropy',\n",
    "              optimizer='Adam',\n",
    "              metrics=['accuracy'])"
   ]
  },
  {
   "cell_type": "code",
   "execution_count": 12,
   "id": "ba82b3ea",
   "metadata": {},
   "outputs": [
    {
     "name": "stdout",
     "output_type": "stream",
     "text": [
      "Epoch 1/10\n",
      "10/10 - 25s - loss: 39.4602 - accuracy: 0.0170 - val_loss: 3.6439 - val_accuracy: 0.0556\n",
      "Epoch 2/10\n",
      "10/10 - 20s - loss: 3.4911 - accuracy: 0.1156 - val_loss: 2.7160 - val_accuracy: 0.3413\n",
      "Epoch 3/10\n",
      "10/10 - 21s - loss: 2.5163 - accuracy: 0.3299 - val_loss: 1.8384 - val_accuracy: 0.5159\n",
      "Epoch 4/10\n",
      "10/10 - 20s - loss: 2.0707 - accuracy: 0.4218 - val_loss: 1.4692 - val_accuracy: 0.5952\n",
      "Epoch 5/10\n",
      "10/10 - 22s - loss: 1.3285 - accuracy: 0.6463 - val_loss: 0.7998 - val_accuracy: 0.8175\n",
      "Epoch 6/10\n",
      "10/10 - 20s - loss: 1.2694 - accuracy: 0.6837 - val_loss: 0.6625 - val_accuracy: 0.7698\n",
      "Epoch 7/10\n",
      "10/10 - 20s - loss: 0.8296 - accuracy: 0.7857 - val_loss: 0.6157 - val_accuracy: 0.8254\n",
      "Epoch 8/10\n",
      "10/10 - 23s - loss: 0.7304 - accuracy: 0.8129 - val_loss: 0.5486 - val_accuracy: 0.8413\n",
      "Epoch 9/10\n",
      "10/10 - 21s - loss: 0.5959 - accuracy: 0.8673 - val_loss: 0.3507 - val_accuracy: 0.9286\n",
      "Epoch 10/10\n",
      "10/10 - 21s - loss: 0.3271 - accuracy: 0.8946 - val_loss: 0.3194 - val_accuracy: 0.9127\n"
     ]
    }
   ],
   "source": [
    "history=model.fit(\n",
    "    train_generator,\n",
    "    epochs=10, \n",
    "    verbose=2,\n",
    "    validation_data=test_generator\n",
    ")"
   ]
  },
  {
   "cell_type": "markdown",
   "id": "c0627262",
   "metadata": {},
   "source": [
    "### Hasil"
   ]
  },
  {
   "cell_type": "code",
   "execution_count": 13,
   "id": "fa458243",
   "metadata": {},
   "outputs": [
    {
     "name": "stdout",
     "output_type": "stream",
     "text": [
      "dict_keys(['loss', 'accuracy', 'val_loss', 'val_accuracy'])\n"
     ]
    },
    {
     "data": {
      "image/png": "[encoded data removed]",
      "text/plain": [
       "<Figure size 432x288 with 1 Axes>"
      ]
     },
     "metadata": {
      "needs_background": "light"
     },
     "output_type": "display_data"
    },
    {
     "data": {
      "image/png": "[encoded data removed]",
      "text/plain": [
       "<Figure size 432x288 with 1 Axes>"
      ]
     },
     "metadata": {
      "needs_background": "light"
     },
     "output_type": "display_data"
    }
   ],
   "source": [
    "import matplotlib.pyplot as plt\n",
    "print(history.history.keys())\n",
    "# Model Accuracy\n",
    "plt.plot(history.history['accuracy'])\n",
    "plt.plot(history.history['val_accuracy'])\n",
    "plt.title('model accuracy')\n",
    "plt.ylabel('accuracy')\n",
    "plt.xlabel('epoch')\n",
    "plt.legend(['train', 'test'], loc='upper left')\n",
    "plt.show()\n",
    "# Model Loss\n",
    "plt.plot(history.history['loss'])\n",
    "plt.plot(history.history['val_loss'])\n",
    "plt.title('model loss')\n",
    "plt.ylabel('loss')\n",
    "plt.xlabel('epoch')\n",
    "plt.legend(['train', 'test'], loc='upper left')\n",
    "plt.show()"
   ]
  },
  {
   "cell_type": "code",
   "execution_count": 14,
   "id": "1be8428b",
   "metadata": {},
   "outputs": [
    {
     "data": {
      "text/html": [
       "<div>\n",
       "<style scoped>\n",
       "    .dataframe tbody tr th:only-of-type {\n",
       "        vertical-align: middle;\n",
       "    }\n",
       "\n",
       "    .dataframe tbody tr th {\n",
       "        vertical-align: top;\n",
       "    }\n",
       "\n",
       "    .dataframe thead th {\n",
       "        text-align: right;\n",
       "    }\n",
       "</style>\n",
       "<table border=\"1\" class=\"dataframe\">\n",
       "  <thead>\n",
       "    <tr style=\"text-align: right;\">\n",
       "      <th></th>\n",
       "      <th>epoch_1</th>\n",
       "      <th>epoch_2</th>\n",
       "      <th>epoch_3</th>\n",
       "      <th>epoch_4</th>\n",
       "      <th>epoch_5</th>\n",
       "      <th>epoch_6</th>\n",
       "      <th>epoch_7</th>\n",
       "      <th>epoch_8</th>\n",
       "      <th>epoch_9</th>\n",
       "      <th>epoch_10</th>\n",
       "    </tr>\n",
       "  </thead>\n",
       "  <tbody>\n",
       "    <tr>\n",
       "      <th>loss</th>\n",
       "      <td>39.460232</td>\n",
       "      <td>3.491104</td>\n",
       "      <td>2.516318</td>\n",
       "      <td>2.070681</td>\n",
       "      <td>1.328518</td>\n",
       "      <td>1.269374</td>\n",
       "      <td>0.829589</td>\n",
       "      <td>0.730375</td>\n",
       "      <td>0.595891</td>\n",
       "      <td>0.327059</td>\n",
       "    </tr>\n",
       "    <tr>\n",
       "      <th>val_loss</th>\n",
       "      <td>3.643857</td>\n",
       "      <td>2.716001</td>\n",
       "      <td>1.838393</td>\n",
       "      <td>1.469216</td>\n",
       "      <td>0.799770</td>\n",
       "      <td>0.662535</td>\n",
       "      <td>0.615694</td>\n",
       "      <td>0.548588</td>\n",
       "      <td>0.350746</td>\n",
       "      <td>0.319375</td>\n",
       "    </tr>\n",
       "    <tr>\n",
       "      <th>accuracy</th>\n",
       "      <td>0.017007</td>\n",
       "      <td>0.115646</td>\n",
       "      <td>0.329932</td>\n",
       "      <td>0.421769</td>\n",
       "      <td>0.646259</td>\n",
       "      <td>0.683673</td>\n",
       "      <td>0.785714</td>\n",
       "      <td>0.812925</td>\n",
       "      <td>0.867347</td>\n",
       "      <td>0.894558</td>\n",
       "    </tr>\n",
       "    <tr>\n",
       "      <th>val_accuracy</th>\n",
       "      <td>0.055556</td>\n",
       "      <td>0.341270</td>\n",
       "      <td>0.515873</td>\n",
       "      <td>0.595238</td>\n",
       "      <td>0.817460</td>\n",
       "      <td>0.769841</td>\n",
       "      <td>0.825397</td>\n",
       "      <td>0.841270</td>\n",
       "      <td>0.928571</td>\n",
       "      <td>0.912698</td>\n",
       "    </tr>\n",
       "  </tbody>\n",
       "</table>\n",
       "</div>"
      ],
      "text/plain": [
       "                epoch_1   epoch_2   epoch_3   epoch_4   epoch_5   epoch_6  \\\n",
       "loss          39.460232  3.491104  2.516318  2.070681  1.328518  1.269374   \n",
       "val_loss       3.643857  2.716001  1.838393  1.469216  0.799770  0.662535   \n",
       "accuracy       0.017007  0.115646  0.329932  0.421769  0.646259  0.683673   \n",
       "val_accuracy   0.055556  0.341270  0.515873  0.595238  0.817460  0.769841   \n",
       "\n",
       "               epoch_7   epoch_8   epoch_9  epoch_10  \n",
       "loss          0.829589  0.730375  0.595891  0.327059  \n",
       "val_loss      0.615694  0.548588  0.350746  0.319375  \n",
       "accuracy      0.785714  0.812925  0.867347  0.894558  \n",
       "val_accuracy  0.825397  0.841270  0.928571  0.912698  "
      ]
     },
     "execution_count": 14,
     "metadata": {},
     "output_type": "execute_result"
    }
   ],
   "source": [
    "import pandas as pd\n",
    "result = pd.DataFrame(\n",
    "    [history.history['loss'],history.history['val_loss'],history.history['accuracy'],history.history['val_accuracy']],\n",
    "    index=[\"loss\",\"val_loss\",\"accuracy\",\"val_accuracy\"],\n",
    "    columns=[f'epoch_{num + 1}' for num in range(10)])\n",
    "\n",
    "result"
   ]
  }
 ],
 "metadata": {
  "kernelspec": {
   "display_name": "Python 3",
   "language": "python",
   "name": "python3"
  },
  "language_info": {
   "codemirror_mode": {
    "name": "ipython",
    "version": 3
   },
   "file_extension": ".py",
   "mimetype": "text/x-python",
   "name": "python",
   "nbconvert_exporter": "python",
   "pygments_lexer": "ipython3",
   "version": "3.8.8"
  }
 },
 "nbformat": 4,
 "nbformat_minor": 5
}
