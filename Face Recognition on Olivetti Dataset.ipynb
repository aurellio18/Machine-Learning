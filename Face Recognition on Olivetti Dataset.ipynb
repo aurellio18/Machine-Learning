{
 "cells": [
  {
   "cell_type": "markdown",
   "metadata": {
    "_uuid": "2ada090bc433d85d6c29e7a167fdaae6379c16f0"
   },
   "source": [
    "Many thanks for upvotes and feedbacks ^ __ ^ !\n",
    "\n",
    "<a class=\"anchor\" id=\"0.\"></a>**Contents**\n",
    "* [1. Summary](#1.)\n",
    "* [2. Face Recognition](#1e.)\n",
    "* [3. Olivetti Face Dataset](#2.)\n",
    "* * [3.1. Show 48 Disticnt People in the Olivetti Dataset](#2.1.)\n",
    "* * [3.2. Show 10 Face Images of Selected Target](#2.2.)\n",
    "* [4. Machine Learning Model fo Face Recognition](#3.)\n",
    "* * [4.1. Split data and target into Random train and test Subsets](#3.1.)\n",
    "* * [4.2. Principle Component Analysis](#3.2.)\n",
    "* * [4.3. PCA Projection of Defined Number of Target](#3.3.)\n",
    "* * [4.4. Finding Optimum Number of Principle Component](#3.4.)\n",
    "* * [4.5. Show Average Face](#3.5.)\n",
    "* * [4.6. Show Eigen Faces](#3.5e1.)\n",
    "* * [4.7. Classification Result](#3.6.)\n",
    "* * [4.8. More Results](#3.7.)\n",
    "* * [4.9. Validated Results](#3.8.)\n",
    "* * [4.10. More Validated Results: Leave One Out vross-validation](#3.9.)\n",
    "* * [4.11. Hyperparameter Tunning: GridSearcCV](#3.10.)\n",
    "* * [4.12. Precision-Recall-ROC Curves](#3.11.)\n",
    "* [5. Linear Discriminant Analysis İle Boyut Azaltma](#5.)\n",
    "* [6. Machine Learning Automated Workflow: Pipeline](#6.)\n",
    "\n",
    "[Go to Content Menu](#0.)|[1. ](#1.)|[3.](#2.)|[3.1. ](#2.1.)|[3.2.](#2.2.)|[4.](#3.)|[4.1.](#3.1.)|[4.2.](#3.2.)|[4.3.](#3.3.)|[4.4. ](#3.4.) [4.5. ](#3.5.)|[4.6. ](#3.5e1.)|[4.7. ](#3.6.)|[4.8. ](#3.7.)|[4.9. ](#3.8.)|[4.10.](#3.9.)|[4.11.](#3.10.)|[4.12. ](#3.11.)"
   ]
  },
  {
   "cell_type": "code",
   "execution_count": null,
   "metadata": {
    "_cell_guid": "b1076dfc-b9ad-4769-8c92-a6c4dae69d19",
    "_kg_hide-input": true,
    "_uuid": "8f2839f25d086af736a60e9eeb907d3b93b6e0e5"
   },
   "outputs": [],
   "source": [
    "import numpy as np # linear algebra\n",
    "import pandas as pd # data processing, CSV file I/O (e.g. pd.read_csv)\n",
    "\n",
    "#Visualization\n",
    "import matplotlib.pyplot as plt\n",
    "\n",
    "#Machine Learning\n",
    "from sklearn.model_selection import train_test_split\n",
    "from sklearn.decomposition import PCA\n",
    "from sklearn.svm import SVC\n",
    "from sklearn.naive_bayes import GaussianNB\n",
    "from sklearn.neighbors import KNeighborsClassifier\n",
    "from sklearn.tree import DecisionTreeClassifier\n",
    "from sklearn.linear_model import LogisticRegression\n",
    "from sklearn.discriminant_analysis import LinearDiscriminantAnalysis\n",
    "from sklearn import metrics\n",
    "\n",
    "#System\n",
    "import os\n",
    "print(os.listdir(\"../input\"))"
   ]
  },
  {
   "cell_type": "code",
   "execution_count": null,
   "metadata": {
    "_kg_hide-input": true,
    "_uuid": "96a9d13d1ece2be604e30734085d6e4b2f8560fa"
   },
   "outputs": [],
   "source": [
    "import warnings\n",
    "warnings.filterwarnings('ignore')\n",
    "print(\"Warnings ignored!!\")"
   ]
  },
  {
   "cell_type": "markdown",
   "metadata": {
    "_uuid": "17e42bd2d2f43b90d48c1589d19e9166790a3278"
   },
   "source": [
    "[Go to Contents Menu](#0.)  |  Quick Links: [1. ](#1.)|[3.](#2.)|[3.1. ](#2.1.)|[3.2.](#2.2.)|[4.](#3.)|[4.1.](#3.1.)|[4.2.](#3.2.)|[4.3.](#3.3.)|[4.4. ](#3.4.) [4.5. ](#3.5.)|[4.6. ](#3.5e1.)|[4.7. ](#3.6.)|[4.8. ](#3.7.)|[4.9. ](#3.8.)|[4.10.](#3.9.)|[4.11.](#3.10.)|[4.12. ](#3.11.)\n",
    "\n",
    "<a class=\"anchor\" id=\"1.\"></a>**1. Summary** \n",
    "\n",
    "In this study, face recognition was performed using the face images in the Olivetti data set. The steps for face recognition are as follows:\n",
    "* Principal  components of face images were obtained by PCA.\n",
    "* Adequate number of principal  components determined\n",
    "* According to three different classification models, accuracy score obtained.\n",
    "* According to three different classification models, cross-validation accuracy score were obtained.\n",
    "* Parameter optimization of the best model has been made."
   ]
  },
  {
   "cell_type": "markdown",
   "metadata": {
    "_uuid": "89990242417fd0f78f3317cbd926d4bf2c93a829"
   },
   "source": [
    "[Go to Contents Menu](#0.)  |  Quick Links: [1. ](#1.)|[3.](#2.)|[3.1. ](#2.1.)|[3.2.](#2.2.)|[4.](#3.)|[4.1.](#3.1.)|[4.2.](#3.2.)|[4.3.](#3.3.)|[4.4. ](#3.4.) [4.5. ](#3.5.)|[4.6. ](#3.5e1.)|[4.7. ](#3.6.)|[4.8. ](#3.7.)|[4.9. ](#3.8.)|[4.10.](#3.9.)|[4.11.](#3.10.)|[4.12. ](#3.11.)\n",
    "\n",
    "<a class=\"anchor\" id=\"1e.\"></a>**2.Face Recognition**\n",
    "\n",
    "The first study on automatic facial recognition systems was performed by Bledsoe between 1964 and 1966. This study was semi-automatic. The feature points on the face are determined manually and placed in the table called RAND. Then, a computer would perform the recognition process by classifying these points. However, a fully functional facial recognition application was performed in 1977 by Kanade. A feature-based approach was proposed in the study. After this date, two-dimensional (2D) face recognition have studied intensively. Three-dimensional (3D) face studies were started to be made after the 2000s.\n",
    "\n",
    "3D facial recognition approaches developed in a different way than 2D facial recognition approaches. Therefore, it will be more accurate to categorize in 2D and 3D  when discussing face recognition approaches.\n",
    "\n",
    "We can classify the face recognition researches carried out with 2D approach in three categories; analytical (feature-based, local), global (appearance) and hybrid methods. While analytical approaches want to  recognize by comparing the properties of the facial components, global approaches try to achieve a recognition with data derived from all the face. Hybrid approaches, together with local and global approaches, try to obtain data that expresses the face more accurately.\n",
    "\n",
    "Face recognition performed in this kernel can assessed under global face recognition approaches.\n",
    "\n",
    "In analytical approaches, the distance of the determined feature points and the angles between them, the shape of the facial features or the variables containing the regional features are obtained from the face image are used in face recognition. Analytical methods examine the face images in two different ways according to the pattern and geometrical properties. In these methods, the face image is represented by smaller size data, so the big data size problem that increases the computation cost in face recognition  is solved.\n",
    "\n",
    "Global-based methods are applied to face recognition by researchers because they perform facial recognition without feature extraction which is troublesome in feature based methods. Globally based methods have been used in face recognition since the 1990s, since they significantly improve facial recognition efficiency. Kirby and Sirovich (1990) first developed a method known as Eigenface, which is used in facial representation and recognition based on Principal Component Analysis . With this method, Turk and Pentland transformed the entire face image into vectors and computed eigenfaces with a set of samples. PCA was able to obtain data representing the face at the optimum level with the data obtained from the image. The different facial and illumination levels of the same person were evaluated as the weakness point of PCA.\n",
    "\n",
    "The face recognition performend in this kernel totally based on Turk and Pentland work. "
   ]
  },
  {
   "cell_type": "markdown",
   "metadata": {
    "_uuid": "1ef6ac7b7784b6dae128d9502e6f7ced91ad60b8"
   },
   "source": [
    "[Go to Contents Menu](#0.)  |  Quick Links: [1. ](#1.)|[3.](#2.)|[3.1. ](#2.1.)|[3.2.](#2.2.)|[4.](#3.)|[4.1.](#3.1.)|[4.2.](#3.2.)|[4.3.](#3.3.)|[4.4. ](#3.4.) [4.5. ](#3.5.)|[4.6. ](#3.5e1.)|[4.7. ](#3.6.)|[4.8. ](#3.7.)|[4.9. ](#3.8.)|[4.10.](#3.9.)|[4.11.](#3.10.)|[4.12. ](#3.11.)\n",
    "\n",
    "<a class=\"anchor\" id=\"2.\"></a>**3. Olivetti Dataset** \n",
    "\n",
    "Brief information about Olivetti Dataset:\n",
    "\n",
    "* Face images taken between April 1992 and April 1994.\n",
    "* There are ten different image of each of 40 distinct people\n",
    "* There are 400 face images in the dataset\n",
    "* Face images were taken at different times, variying ligthing, facial express and facial detail\n",
    "* All face images have black background\n",
    "* The images are gray level\n",
    "* Size of each image is 64x64\n",
    "* Image pixel values were scaled to [0, 1] interval\n",
    "* Names of 40 people were encoded to an integer from 0 to 39\n"
   ]
  },
  {
   "cell_type": "code",
   "execution_count": null,
   "metadata": {
    "_cell_guid": "79c7e3d0-c299-4dcb-8224-4455121ee9b0",
    "_uuid": "d629ff2d2480ee46fbb7e2d37f6b5fab8052498a"
   },
   "outputs": [],
   "source": [
    "data=np.load(\"../input/olivetti_faces.npy\")\n",
    "target=np.load(\"../input/olivetti_faces_target.npy\")"
   ]
  },
  {
   "cell_type": "markdown",
   "metadata": {
    "_uuid": "dd30f7e91eb117d236d07a9474fa092a318dfc2c"
   },
   "source": [
    "Let's verify above information"
   ]
  },
  {
   "cell_type": "code",
   "execution_count": null,
   "metadata": {
    "_uuid": "d7e3fbc073596db334f34d33e44015c3cd906496"
   },
   "outputs": [],
   "source": [
    "print(\"There are {} images in the dataset\".format(len(data)))\n",
    "print(\"There are {} unique targets in the dataset\".format(len(np.unique(target))))\n",
    "print(\"Size of each image is {}x{}\".format(data.shape[1],data.shape[2]))\n",
    "print(\"Pixel values were scaled to [0,1] interval. e.g:{}\".format(data[0][0,:4]))"
   ]
  },
  {
   "cell_type": "code",
   "execution_count": null,
   "metadata": {
    "_uuid": "cf9c84953686b22ea7029ac0fc317ed4514692fb"
   },
   "outputs": [],
   "source": [
    "print(\"unique target number:\",np.unique(target))"
   ]
  },
  {
   "cell_type": "markdown",
   "metadata": {
    "_uuid": "3ad358cb830c332890d66ada91bf3d98c62e6751"
   },
   "source": [
    "[Go to Contents Menu](#0.)  |  Quick Links: [1. ](#1.)|[3.](#2.)|[3.1. ](#2.1.)|[3.2.](#2.2.)|[4.](#3.)|[4.1.](#3.1.)|[4.2.](#3.2.)|[4.3.](#3.3.)|[4.4. ](#3.4.) [4.5. ](#3.5.)|[4.6. ](#3.5e1.)|[4.7. ](#3.6.)|[4.8. ](#3.7.)|[4.9. ](#3.8.)|[4.10.](#3.9.)|[4.11.](#3.10.)|[4.12. ](#3.11.)\n",
    "\n",
    "<a class=\"anchor\" id=\"2.1.\"></a>**3.1. Show 48 Disticnt People in the Olivetti Dataset** "
   ]
  },
  {
   "cell_type": "code",
   "execution_count": null,
   "metadata": {
    "_uuid": "9bca0672dd6098b71de79dcb5f0e26dc6acf6646"
   },
   "outputs": [],
   "source": [
    "def show_40_distinct_people(images, unique_ids):\n",
    "    #Creating 4X10 subplots in  18x9 figure size\n",
    "    fig, axarr=plt.subplots(nrows=4, ncols=10, figsize=(18, 9))\n",
    "    #For easy iteration flattened 4X10 subplots matrix to 40 array\n",
    "    axarr=axarr.flatten()\n",
    "    \n",
    "    #iterating over user ids\n",
    "    for unique_id in unique_ids:\n",
    "        image_index=unique_id*10\n",
    "        axarr[unique_id].imshow(images[image_index], cmap='gray')\n",
    "        axarr[unique_id].set_xticks([])\n",
    "        axarr[unique_id].set_yticks([])\n",
    "        axarr[unique_id].set_title(\"face id:{}\".format(unique_id))\n",
    "    plt.suptitle(\"There are 40 distinct people in the dataset\")"
   ]
  },
  {
   "cell_type": "code",
   "execution_count": null,
   "metadata": {
    "_uuid": "5a58a8a005a4cea40e85d168e22b1b8c7fd0b5a3"
   },
   "outputs": [],
   "source": [
    "show_40_distinct_people(data, np.unique(target))"
   ]
  },
  {
   "cell_type": "markdown",
   "metadata": {
    "_uuid": "4aab02fecdb4e1135fa2d49672905a3bf2093ac8"
   },
   "source": [
    "As seen in the photo gallery above, the data set has 40 different person-owned, facial images."
   ]
  },
  {
   "cell_type": "markdown",
   "metadata": {
    "_uuid": "ee40b73f0973be6b1a691edc1e4bcc626d5e6093"
   },
   "source": [
    "<a class=\"anchor\" id=\"2.2.\">"
   ]
  },
  {
   "cell_type": "markdown",
   "metadata": {
    "_uuid": "ba59eb9ce014ff37a845098b8acdf1713d271ece"
   },
   "source": [
    "[Go to Contents Menu](#0.)  |  Quick Links: [1. ](#1.)|[3.](#2.)|[3.1. ](#2.1.)|[3.2.](#2.2.)|[4.](#3.)|[4.1.](#3.1.)|[4.2.](#3.2.)|[4.3.](#3.3.)|[4.4. ](#3.4.) [4.5. ](#3.5.)|[4.6. ](#3.5e1.)|[4.7. ](#3.6.)|[4.8. ](#3.7.)|[4.9. ](#3.8.)|[4.10.](#3.9.)|[4.11.](#3.10.)|[4.12. ](#3.11.)\n",
    "\n",
    "<a  class=\"anchor\" id=\"2.2.\"></a>**3.2. Show 10 Face Images of Selected Target** "
   ]
  },
  {
   "cell_type": "code",
   "execution_count": null,
   "metadata": {
    "_uuid": "b4e9c34346c8edbdb383413c15093ccae01b139c"
   },
   "outputs": [],
   "source": [
    "def show_10_faces_of_n_subject(images, subject_ids):\n",
    "    cols=10# each subject has 10 distinct face images\n",
    "    rows=(len(subject_ids)*10)/cols #\n",
    "    rows=int(rows)\n",
    "    \n",
    "    fig, axarr=plt.subplots(nrows=rows, ncols=cols, figsize=(18,9))\n",
    "    #axarr=axarr.flatten()\n",
    "    \n",
    "    for i, subject_id in enumerate(subject_ids):\n",
    "        for j in range(cols):\n",
    "            image_index=subject_id*10 + j\n",
    "            axarr[i,j].imshow(images[image_index], cmap=\"gray\")\n",
    "            axarr[i,j].set_xticks([])\n",
    "            axarr[i,j].set_yticks([])\n",
    "            axarr[i,j].set_title(\"face id:{}\".format(subject_id))\n",
    "    "
   ]
  },
  {
   "cell_type": "code",
   "execution_count": null,
   "metadata": {
    "_uuid": "b36c9164b69cdc170e1a158ac59295f7ca19d351"
   },
   "outputs": [],
   "source": [
    "#You can playaround subject_ids to see other people faces\n",
    "show_10_faces_of_n_subject(images=data, subject_ids=[0,5, 21, 24, 36])"
   ]
  },
  {
   "cell_type": "markdown",
   "metadata": {
    "_uuid": "5554a40ffdf3e567022fc1851e8a62f641daf7da"
   },
   "source": [
    "Each face of a subject has different characteristic in context of varying lighting, facial express and facial detail(glasses, beard)"
   ]
  },
  {
   "cell_type": "markdown",
   "metadata": {
    "_uuid": "edd1f720b2a8157bff48c588fc8ec20560c5b9d6"
   },
   "source": [
    "[Go to Contents Menu](#0.)  |  Quick Links: [1. ](#1.)|[3.](#2.)|[3.1. ](#2.1.)|[3.2.](#2.2.)|[4.](#3.)|[4.1.](#3.1.)|[4.2.](#3.2.)|[4.3.](#3.3.)|[4.4. ](#3.4.) [4.5. ](#3.5.)|[4.6. ](#3.5e1.)|[4.7. ](#3.6.)|[4.8. ](#3.7.)|[4.9. ](#3.8.)|[4.10.](#3.9.)|[4.11.](#3.10.)|[4.12. ](#3.11.)\n",
    "\n",
    "<a class=\"anchor\" id=\"3.\"></a>**4. Machine Learning Model fo Face Recognition**\n",
    "\n",
    "Machine learning models can work on vectors. Since the image data is in the matrix form, it must be converted to a vector."
   ]
  },
  {
   "cell_type": "code",
   "execution_count": null,
   "metadata": {
    "_uuid": "7d28cc3f01f9ca1fc6a5abb5487ed1e551bebffd"
   },
   "outputs": [],
   "source": [
    "#We reshape images for machine learnig  model\n",
    "X=data.reshape((data.shape[0],data.shape[1]*data.shape[2]))\n",
    "print(\"X shape:\",X.shape)"
   ]
  },
  {
   "cell_type": "markdown",
   "metadata": {
    "_uuid": "078374d3c594d88ea6f9c68b5023cdee08a26715"
   },
   "source": [
    "[Go to Contents Menu](#0.)  |  Quick Links: [1. ](#1.)|[3.](#2.)|[3.1. ](#2.1.)|[3.2.](#2.2.)|[4.](#3.)|[4.1.](#3.1.)|[4.2.](#3.2.)|[4.3.](#3.3.)|[4.4. ](#3.4.) [4.5. ](#3.5.)|[4.6. ](#3.5e1.)|[4.7. ](#3.6.)|[4.8. ](#3.7.)|[4.9. ](#3.8.)|[4.10.](#3.9.)|[4.11.](#3.10.)|[4.12. ](#3.11.)\n",
    "\n",
    "<a class=\"anchor\" id=\"3.1.\"></a>**4.1. Split data and target into Random train and test Subsets** \n",
    "\n",
    "The data set contains 10 face images for each subject. Of the face images, 70 percent will be used for training, 30 percent for testing. Uses stratify feature to have equal number of training and test images for each subject. Thus, there will be 7 training images and 3 test images for each subject. You can play with training and test rates."
   ]
  },
  {
   "cell_type": "code",
   "execution_count": null,
   "metadata": {
    "_uuid": "6fdb28457f4a04aa7935dd4b6c03c9fec8d80128"
   },
   "outputs": [],
   "source": [
    "X_train, X_test, y_train, y_test=train_test_split(X, target, test_size=0.3, stratify=target, random_state=0)\n",
    "print(\"X_train shape:\",X_train.shape)\n",
    "print(\"y_train shape:{}\".format(y_train.shape))"
   ]
  },
  {
   "cell_type": "code",
   "execution_count": null,
   "metadata": {
    "_uuid": "9cd480ab058e9e20952fffc3fa44b238908776df"
   },
   "outputs": [],
   "source": [
    "y_frame=pd.DataFrame()\n",
    "y_frame['subject ids']=y_train\n",
    "y_frame.groupby(['subject ids']).size().plot.bar(figsize=(15,8),title=\"Number of Samples for Each Classes\")"
   ]
  },
  {
   "cell_type": "markdown",
   "metadata": {
    "_uuid": "e1a5513ff1451c4695339a81152c7bd02ba50557"
   },
   "source": [
    "[Go to Contents Menu](#0.)  |  Quick Links: [1. ](#1.)|[3.](#2.)|[3.1. ](#2.1.)|[3.2.](#2.2.)|[4.](#3.)|[4.1.](#3.1.)|[4.2.](#3.2.)|[4.3.](#3.3.)|[4.4. ](#3.4.) [4.5. ](#3.5.)|[4.6. ](#3.5e1.)|[4.7. ](#3.6.)|[4.8. ](#3.7.)|[4.9. ](#3.8.)|[4.10.](#3.9.)|[4.11.](#3.10.)|[4.12. ](#3.11.)\n",
    "\n",
    "<a class=\"anchor\" id=\"3.2.\"></a>**4.2.Principle Component Analysis**\n",
    "\n",
    "Machine learning methods are divided into two: supervised learning and unsupervised learning. In supervised learning, the data set is divided into two main parts: 'data' and 'output'. The data holds the values of the sample in the data set, while the 'output' holds the class (for classification) or the target value (for regression). In unsupervised learning, the data set consists of only the data section.\n",
    "\n",
    "Non-supervised learning is generally divided into two: data transformation and clustering. In this study, the transformation of the data will be carried out using unsupervised learning. Unsupervised transformation methods allow for easier interpretation of data by computers and people.\n",
    "\n",
    "The most common unsupervised transformation  applications is to reduce data size. In the size reduction process, the dimension of the data reduced. \n",
    "\n",
    "Principle Component Analysis (PCA) is a method that allows data to be represented in a lesser size. According to this method, the data is transformed to new components and the size of the data is reduced by selecting the most important components."
   ]
  },
  {
   "cell_type": "code",
   "execution_count": null,
   "metadata": {
    "_uuid": "5eca14662e151a1f04d03e95b170fa7d404d5fcb"
   },
   "outputs": [],
   "source": [
    "import mglearn"
   ]
  },
  {
   "cell_type": "code",
   "execution_count": null,
   "metadata": {
    "_uuid": "2f9d868631496f6920a593e2aa753a083463feec"
   },
   "outputs": [],
   "source": [
    "mglearn.plots.plot_pca_illustration()"
   ]
  },
  {
   "cell_type": "markdown",
   "metadata": {
    "_uuid": "141345fd7c80cbaf3fa44cec4b946a8bcafc7246"
   },
   "source": [
    "The above illustration shows a simple example on a synthetic two-dimensional data set. The first drawing shows the original data points colored to distinguish points. The algorithm first proceeds by finding the direction of the maximum variance labeled \"Component 1\". This refers to the direction in which most of the data is associated, or in other words, the properties that are most related to each other.\n",
    "\n",
    "Then, when the algorithm is orthogonal (at right angle), it finds the direction that contains the most information in the first direction. There are only one possible orientation in two dimensions at a right angle, but there will be many orthogonal directions (infinite) in high dimensional spaces."
   ]
  },
  {
   "cell_type": "markdown",
   "metadata": {
    "_uuid": "8986777c7f52216b6e64bf3bb77fc0706a887317"
   },
   "source": [
    "[Go to Contents Menu](#0.)  |  Quick Links: [1. ](#1.)|[3.](#2.)|[3.1. ](#2.1.)|[3.2.](#2.2.)|[4.](#3.)|[4.1.](#3.1.)|[4.2.](#3.2.)|[4.3.](#3.3.)|[4.4. ](#3.4.) [4.5. ](#3.5.)|[4.6. ](#3.5e1.)|[4.7. ](#3.6.)|[4.8. ](#3.7.)|[4.9. ](#3.8.)|[4.10.](#3.9.)|[4.11.](#3.10.)|[4.12. ](#3.11.)\n",
    "\n",
    "<a class=\"anchor\" id=\"3.3.\"></a>**4.3. PCA Projection of Defined Number of Target**"
   ]
  },
  {
   "cell_type": "code",
   "execution_count": null,
   "metadata": {
    "_uuid": "d66ce6d45794a1d16db34f11bae1317552def452"
   },
   "outputs": [],
   "source": [
    "from sklearn.decomposition import PCA\n",
    "pca=PCA(n_components=2)\n",
    "pca.fit(X)\n",
    "X_pca=pca.transform(X)"
   ]
  },
  {
   "cell_type": "code",
   "execution_count": null,
   "metadata": {
    "_uuid": "c88899fe4102ecfedd5df92ecbe3b1aa07213661"
   },
   "outputs": [],
   "source": [
    "number_of_people=10\n",
    "index_range=number_of_people*10\n",
    "fig=plt.figure(figsize=(10,8))\n",
    "ax=fig.add_subplot(1,1,1)\n",
    "scatter=ax.scatter(X_pca[:index_range,0],\n",
    "            X_pca[:index_range,1], \n",
    "            c=target[:index_range],\n",
    "            s=10,\n",
    "           cmap=plt.get_cmap('jet', number_of_people)\n",
    "          )\n",
    "\n",
    "ax.set_xlabel(\"First Principle Component\")\n",
    "ax.set_ylabel(\"Second Principle Component\")\n",
    "ax.set_title(\"PCA projection of {} people\".format(number_of_people))\n",
    "\n",
    "fig.colorbar(scatter)"
   ]
  },
  {
   "cell_type": "markdown",
   "metadata": {
    "_uuid": "a296c20520a65eeb73fa8ed057105ef972b2f36d"
   },
   "source": [
    "[Go to Contents Menu](#0.)  |  Quick Links: [1. ](#1.)|[3.](#2.)|[3.1. ](#2.1.)|[3.2.](#2.2.)|[4.](#3.)|[4.1.](#3.1.)|[4.2.](#3.2.)|[4.3.](#3.3.)|[4.4. ](#3.4.) [4.5. ](#3.5.)|[4.6. ](#3.5e1.)|[4.7. ](#3.6.)|[4.8. ](#3.7.)|[4.9. ](#3.8.)|[4.10.](#3.9.)|[4.11.](#3.10.)|[4.12. ](#3.11.)\n",
    "\n",
    "<a class=\"anchor\" id=\"3.4.\"></a>**4.4. Finding Optimum Number of Principle Component**"
   ]
  },
  {
   "cell_type": "code",
   "execution_count": null,
   "metadata": {
    "_uuid": "44e4df2776a9a7ce03a0d9304d8d91a2291d4abb"
   },
   "outputs": [],
   "source": [
    "pca=PCA()\n",
    "pca.fit(X)\n",
    "\n",
    "plt.figure(1, figsize=(12,8))\n",
    "\n",
    "plt.plot(pca.explained_variance_, linewidth=2)\n",
    " \n",
    "plt.xlabel('Components')\n",
    "plt.ylabel('Explained Variaces')\n",
    "plt.show()"
   ]
  },
  {
   "cell_type": "markdown",
   "metadata": {
    "_uuid": "dc9352dd03b1519f6579253dd811f134bc550ef2"
   },
   "source": [
    "In the figure above, it can be seen that 90 and more PCA components represent the same data. Now let's make the classification process using 90 PCA components."
   ]
  },
  {
   "cell_type": "code",
   "execution_count": null,
   "metadata": {
    "_uuid": "6fb93697ac6844005785d661d08e1dfcfba9df79"
   },
   "outputs": [],
   "source": [
    "n_components=90"
   ]
  },
  {
   "cell_type": "code",
   "execution_count": null,
   "metadata": {
    "_uuid": "268287558edec2752f731ae592b660f5997e356c"
   },
   "outputs": [],
   "source": [
    "pca=PCA(n_components=n_components, whiten=True)\n",
    "pca.fit(X_train)"
   ]
  },
  {
   "cell_type": "markdown",
   "metadata": {
    "_uuid": "ba4ff1742b76edfefb9ab442c598cd0da0fc7b51"
   },
   "source": [
    "[Go to Contents Menu](#0.)  |  Quick Links: [1. ](#1.)|[3.](#2.)|[3.1. ](#2.1.)|[3.2.](#2.2.)|[4.](#3.)|[4.1.](#3.1.)|[4.2.](#3.2.)|[4.3.](#3.3.)|[4.4. ](#3.4.) [4.5. ](#3.5.)|[4.6. ](#3.5e1.)|[4.7. ](#3.6.)|[4.8. ](#3.7.)|[4.9. ](#3.8.)|[4.10.](#3.9.)|[4.11.](#3.10.)|[4.12. ](#3.11.)\n",
    "\n",
    "<a class=\"anchor\" id=\"3.5.\"></a>**4.5. Show Average Face**  "
   ]
  },
  {
   "cell_type": "code",
   "execution_count": null,
   "metadata": {
    "_uuid": "f8e6f06ec60810ba16672027355053c0abb0dbaa"
   },
   "outputs": [],
   "source": [
    "fig,ax=plt.subplots(1,1,figsize=(8,8))\n",
    "ax.imshow(pca.mean_.reshape((64,64)), cmap=\"gray\")\n",
    "ax.set_xticks([])\n",
    "ax.set_yticks([])\n",
    "ax.set_title('Average Face')"
   ]
  },
  {
   "cell_type": "markdown",
   "metadata": {
    "_uuid": "2dd3f9acb55f34d172b74e3d0491924e3df0adf1"
   },
   "source": [
    "[Go to Contents Menu](#0.)  |  Quick Links: [1. ](#1.)|[3.](#2.)|[3.1. ](#2.1.)|[3.2.](#2.2.)|[4.](#3.)|[4.1.](#3.1.)|[4.2.](#3.2.)|[4.3.](#3.3.)|[4.4. ](#3.4.) [4.5. ](#3.5.)|[4.6. ](#3.5e1.)|[4.7. ](#3.6.)|[4.8. ](#3.7.)|[4.9. ](#3.8.)|[4.10.](#3.9.)|[4.11.](#3.10.)|[4.12. ](#3.11.)\n",
    "\n",
    "<a class=\"anchor\" id=\"3.5e1.\"></a>**4.6. Show Eigen Faces** "
   ]
  },
  {
   "cell_type": "code",
   "execution_count": null,
   "metadata": {
    "_uuid": "0506caef56c2824fcb6fb410ff9a7618556b4042"
   },
   "outputs": [],
   "source": [
    "number_of_eigenfaces=len(pca.components_)\n",
    "eigen_faces=pca.components_.reshape((number_of_eigenfaces, data.shape[1], data.shape[2]))\n",
    "\n",
    "cols=10\n",
    "rows=int(number_of_eigenfaces/cols)\n",
    "fig, axarr=plt.subplots(nrows=rows, ncols=cols, figsize=(15,15))\n",
    "axarr=axarr.flatten()\n",
    "for i in range(number_of_eigenfaces):\n",
    "    axarr[i].imshow(eigen_faces[i],cmap=\"gray\")\n",
    "    axarr[i].set_xticks([])\n",
    "    axarr[i].set_yticks([])\n",
    "    axarr[i].set_title(\"eigen id:{}\".format(i))\n",
    "plt.suptitle(\"All Eigen Faces\".format(10*\"=\", 10*\"=\"))"
   ]
  },
  {
   "cell_type": "markdown",
   "metadata": {
    "_uuid": "736db87eb6bb1fa52756c3132d5d7ae00aad3199"
   },
   "source": [
    "[Go to Contents Menu](#0.)  |  Quick Links: [1. ](#1.)|[3.](#2.)|[3.1. ](#2.1.)|[3.2.](#2.2.)|[4.](#3.)|[4.1.](#3.1.)|[4.2.](#3.2.)|[4.3.](#3.3.)|[4.4. ](#3.4.) [4.5. ](#3.5.)|[4.6. ](#3.5e1.)|[4.7. ](#3.6.)|[4.8. ](#3.7.)|[4.9. ](#3.8.)|[4.10.](#3.9.)|[4.11.](#3.10.)|[4.12. ](#3.11.)\n",
    "\n",
    "<a class=\"anchor\" id=\"3.6.\"></a>**4.7. Classification Results**  "
   ]
  },
  {
   "cell_type": "code",
   "execution_count": null,
   "metadata": {
    "_uuid": "6224d3acbb4fe2c75deae46e4bb32f4c810b30c0"
   },
   "outputs": [],
   "source": [
    "X_train_pca=pca.transform(X_train)\n",
    "X_test_pca=pca.transform(X_test)"
   ]
  },
  {
   "cell_type": "code",
   "execution_count": null,
   "metadata": {
    "_uuid": "dd22fd62ac6f97a6735f2c392c484eb72ef33e11"
   },
   "outputs": [],
   "source": [
    "clf = SVC()\n",
    "clf.fit(X_train_pca, y_train)\n",
    "y_pred = clf.predict(X_test_pca)\n",
    "print(\"accuracy score:{:.2f}\".format(metrics.accuracy_score(y_test, y_pred)))"
   ]
  },
  {
   "cell_type": "code",
   "execution_count": null,
   "metadata": {
    "_uuid": "2fd67d4617ceca14a6e62225d73e25f38d1802a9"
   },
   "outputs": [],
   "source": [
    "import seaborn as sns\n",
    "plt.figure(1, figsize=(12,8))\n",
    "sns.heatmap(metrics.confusion_matrix(y_test, y_pred))"
   ]
  },
  {
   "cell_type": "code",
   "execution_count": null,
   "metadata": {
    "_kg_hide-output": true,
    "_uuid": "f8dea438aad6457e7242777b3f0649f5d8f9bfa4"
   },
   "outputs": [],
   "source": [
    "print(metrics.classification_report(y_test, y_pred))"
   ]
  },
  {
   "cell_type": "markdown",
   "metadata": {
    "_uuid": "07db81f1c5ccf6314c21dbd0d9b2ab37544710cc"
   },
   "source": [
    "[Go to Contents Menu](#0.)  |  Quick Links: [1. ](#1.)|[3.](#2.)|[3.1. ](#2.1.)|[3.2.](#2.2.)|[4.](#3.)|[4.1.](#3.1.)|[4.2.](#3.2.)|[4.3.](#3.3.)|[4.4. ](#3.4.) [4.5. ](#3.5.)|[4.6. ](#3.5e1.)|[4.7. ](#3.6.)|[4.8. ](#3.7.)|[4.9. ](#3.8.)|[4.10.](#3.9.)|[4.11.](#3.10.)|[4.12. ](#3.11.)\n",
    "\n",
    "<a class=\"anchor\" id=\"3.7.\"></a>**4.8. More  Results** \n",
    "\n",
    "We can get accuracy results of state of the art machine learning model."
   ]
  },
  {
   "cell_type": "code",
   "execution_count": null,
   "metadata": {
    "_uuid": "30f9331919a4baaf229c594f82b4d74511cdc637"
   },
   "outputs": [],
   "source": [
    "models=[]\n",
    "models.append(('LDA', LinearDiscriminantAnalysis()))\n",
    "models.append((\"LR\",LogisticRegression()))\n",
    "models.append((\"NB\",GaussianNB()))\n",
    "models.append((\"KNN\",KNeighborsClassifier(n_neighbors=5)))\n",
    "models.append((\"DT\",DecisionTreeClassifier()))\n",
    "models.append((\"SVM\",SVC()))\n",
    "\n",
    "\n",
    "for name, model in models:\n",
    "    \n",
    "    clf=model\n",
    "\n",
    "    clf.fit(X_train_pca, y_train)\n",
    "\n",
    "    y_pred=clf.predict(X_test_pca)\n",
    "    print(10*\"=\",\"{} Result\".format(name).upper(),10*\"=\")\n",
    "    print(\"Accuracy score:{:0.2f}\".format(metrics.accuracy_score(y_test, y_pred)))\n",
    "    print()"
   ]
  },
  {
   "cell_type": "markdown",
   "metadata": {
    "_uuid": "959e2e1bd0a135e543f8ab1931c815963414ec7b"
   },
   "source": [
    "According to the above results, Linear Discriminant Analysis and Logistic Regression seems to have the best performances."
   ]
  },
  {
   "cell_type": "markdown",
   "metadata": {
    "_uuid": "71ba6172be1de1b0c209a5b5762c4086d42150d0"
   },
   "source": [
    "[Go to Contents Menu](#0.)  |  Quick Links: [1. ](#1.)|[3.](#2.)|[3.1. ](#2.1.)|[3.2.](#2.2.)|[4.](#3.)|[4.1.](#3.1.)|[4.2.](#3.2.)|[4.3.](#3.3.)|[4.4. ](#3.4.) [4.5. ](#3.5.)|[4.6. ](#3.5e1.)|[4.7. ](#3.6.)|[4.8. ](#3.7.)|[4.9. ](#3.8.)|[4.10.](#3.9.)|[4.11.](#3.10.)|[4.12. ](#3.11.)\n",
    "\n",
    "<a class=\"anchor\" id=\"3.8.\"></a>**4.9. Validated  Results**  "
   ]
  },
  {
   "cell_type": "code",
   "execution_count": null,
   "metadata": {
    "_uuid": "f040f1e577a6fd2d06e67a32e59ce5c18df6d45d"
   },
   "outputs": [],
   "source": [
    "from sklearn.model_selection import cross_val_score\n",
    "from sklearn.model_selection import KFold\n",
    "pca=PCA(n_components=n_components, whiten=True)\n",
    "pca.fit(X)\n",
    "X_pca=pca.transform(X)\n",
    "for name, model in models:\n",
    "    kfold=KFold(n_splits=5, shuffle=True, random_state=0)\n",
    "    \n",
    "    cv_scores=cross_val_score(model, X_pca, target, cv=kfold)\n",
    "    print(\"{} mean cross validations score:{:.2f}\".format(name, cv_scores.mean()))"
   ]
  },
  {
   "cell_type": "markdown",
   "metadata": {
    "_uuid": "ff11c269d7bf0e6813c99be173124eabfaf1725a"
   },
   "source": [
    "According to the cross validation scores Linear Discriminant Analysis and Logistic Regression still have best performance"
   ]
  },
  {
   "cell_type": "code",
   "execution_count": null,
   "metadata": {
    "_uuid": "2e1d999228e6136f425a8c61ebf2ceca548446e4"
   },
   "outputs": [],
   "source": [
    "lr=LinearDiscriminantAnalysis()\n",
    "lr.fit(X_train_pca, y_train)\n",
    "y_pred=lr.predict(X_test_pca)\n",
    "print(\"Accuracy score:{:.2f}\".format(metrics.accuracy_score(y_test, y_pred)))"
   ]
  },
  {
   "cell_type": "code",
   "execution_count": null,
   "metadata": {
    "_uuid": "abe9632dedb04d23e0a4f0c4aae51f009f5a5be3"
   },
   "outputs": [],
   "source": [
    "cm=metrics.confusion_matrix(y_test, y_pred)\n",
    "\n",
    "plt.subplots(1, figsize=(12,12))\n",
    "sns.heatmap(cm)"
   ]
  },
  {
   "cell_type": "code",
   "execution_count": null,
   "metadata": {
    "_uuid": "c3d028056fcffbda9dee5ca1d1ac45b7e8fc13c7"
   },
   "outputs": [],
   "source": [
    "print(\"Classification Results:\\n{}\".format(metrics.classification_report(y_test, y_pred)))"
   ]
  },
  {
   "cell_type": "markdown",
   "metadata": {
    "_uuid": "747770527e7391f8313652c0d2feacff281021a5"
   },
   "source": [
    "[Go to Contents Menu](#0.)  |  Quick Links: [1. ](#1.)|[3.](#2.)|[3.1. ](#2.1.)|[3.2.](#2.2.)|[4.](#3.)|[4.1.](#3.1.)|[4.2.](#3.2.)|[4.3.](#3.3.)|[4.4. ](#3.4.) [4.5. ](#3.5.)|[4.6. ](#3.5e1.)|[4.7. ](#3.6.)|[4.8. ](#3.7.)|[4.9. ](#3.8.)|[4.10.](#3.9.)|[4.11.](#3.10.)|[4.12. ](#3.11.)\n",
    "\n",
    "<a class=\"anchor\" id=\"3.9.\"></a>**4.10. More Validated Results: Leave One Out vross-validation** \n",
    "\n",
    "The Olivetti dataset  contains 10 face images for each subject. This is a small number for training and testing machine learning models. There is a recommended cross-validation method for better assessment of machine learning models where there are few examples of classes: Leave One Out cross validation. In the LOO approach, only one of the samples of a class is used for testing. Others are used for training. This procedure is repeated until each sample is used for testing."
   ]
  },
  {
   "cell_type": "code",
   "execution_count": null,
   "metadata": {
    "_uuid": "13a677bb8ea86405416eb74986b122df06cd9d7d"
   },
   "outputs": [],
   "source": [
    "from sklearn.model_selection import LeaveOneOut\n",
    "loo_cv=LeaveOneOut()\n",
    "clf=LogisticRegression()\n",
    "cv_scores=cross_val_score(clf,\n",
    "                         X_pca,\n",
    "                         target,\n",
    "                         cv=loo_cv)\n",
    "print(\"{} Leave One Out cross-validation mean accuracy score:{:.2f}\".format(clf.__class__.__name__, \n",
    "                                                                            cv_scores.mean()))"
   ]
  },
  {
   "cell_type": "code",
   "execution_count": null,
   "metadata": {
    "_uuid": "d12c9cc9f83358522262348fc4ce86b0d92f4d7a"
   },
   "outputs": [],
   "source": [
    "from sklearn.model_selection import LeaveOneOut\n",
    "loo_cv=LeaveOneOut()\n",
    "clf=LinearDiscriminantAnalysis()\n",
    "cv_scores=cross_val_score(clf,\n",
    "                         X_pca,\n",
    "                         target,\n",
    "                         cv=loo_cv)\n",
    "print(\"{} Leave One Out cross-validation mean accuracy score:{:.2f}\".format(clf.__class__.__name__, \n",
    "                                                                            cv_scores.mean()))"
   ]
  },
  {
   "cell_type": "markdown",
   "metadata": {
    "_uuid": "b2c90a74572ecfa935eb45eef79aa60cc402be1e"
   },
   "source": [
    "[Go to Contents Menu](#0.)  |  Quick Links: [1. ](#1.)|[3.](#2.)|[3.1. ](#2.1.)|[3.2.](#2.2.)|[4.](#3.)|[4.1.](#3.1.)|[4.2.](#3.2.)|[4.3.](#3.3.)|[4.4. ](#3.4.) [4.5. ](#3.5.)|[4.6. ](#3.5e1.)|[4.7. ](#3.6.)|[4.8. ](#3.7.)|[4.9. ](#3.8.)|[4.10.](#3.9.)|[4.11.](#3.10.)|[4.12. ](#3.11.)\n",
    "\n",
    "<a class=\"anchor\" id=\"3.10.\"></a>**4.11. Hyperparameter Tunning: GridSearcCV** \n",
    "\n",
    "We can do GridSearchCV to improve model generalization performance. To that we will tune the hyperparameters of Logistic Regression classifier. "
   ]
  },
  {
   "cell_type": "code",
   "execution_count": null,
   "metadata": {
    "_uuid": "711de11f046ecb11c0cc70d5860dbb1431ca9f9e"
   },
   "outputs": [],
   "source": [
    "from sklearn.model_selection import GridSearchCV"
   ]
  },
  {
   "cell_type": "code",
   "execution_count": null,
   "metadata": {
    "_uuid": "2b3dc43a6aa50151abf4d297949a4bd55bbcba90"
   },
   "outputs": [],
   "source": [
    "from sklearn.model_selection import LeaveOneOut\n",
    "\n",
    "#This process takes long time. You can use parameter:{'C': 1.0, 'penalty': 'l2'} \n",
    "#grid search cross validation score:0.93\n",
    "\"\"\"\n",
    "params={'penalty':['l1', 'l2'],\n",
    "                'C':np.logspace(0, 4, 10)\n",
    "                }\n",
    "clf=LogisticRegression()\n",
    "#kfold=KFold(n_splits=3, shuffle=True, random_state=0)\n",
    "loo_cv=LeaveOneOut()\n",
    "gridSearchCV=GridSearchCV(clf, params, cv=loo_cv)\n",
    "gridSearchCV.fit(X_train_pca, y_train)\n",
    "print(\"Grid search fitted..\")\n",
    "print(gridSearchCV.best_params_)\n",
    "print(gridSearchCV.best_score_)\n",
    "print(\"grid search cross validation score:{:.2f}\".format(gridSearchCV.score(X_test_pca, y_test)))\n",
    "\"\"\"\n"
   ]
  },
  {
   "cell_type": "code",
   "execution_count": null,
   "metadata": {
    "_uuid": "5773eb058ee20714444dee16bb463758cd5d3684"
   },
   "outputs": [],
   "source": [
    "lr=LogisticRegression(C=1.0, penalty=\"l2\")\n",
    "lr.fit(X_train_pca, y_train)\n",
    "print(\"lr score:{:.2f}\".format(lr.score(X_test_pca, y_test)))"
   ]
  },
  {
   "cell_type": "markdown",
   "metadata": {
    "_uuid": "f24150303cd6e627117a372bb06c5e340244bad8"
   },
   "source": [
    "[Go to Contents Menu](#0.)  |  Quick Links: [1. ](#1.)|[3.](#2.)|[3.1. ](#2.1.)|[3.2.](#2.2.)|[4.](#3.)|[4.1.](#3.1.)|[4.2.](#3.2.)|[4.3.](#3.3.)|[4.4. ](#3.4.) [4.5. ](#3.5.)|[4.6. ](#3.5e1.)|[4.7. ](#3.6.)|[4.8. ](#3.7.)|[4.9. ](#3.8.)|[4.10.](#3.9.)|[4.11.](#3.10.)|[4.12. ](#3.11.)\n",
    "\n",
    "<a class=\"anchor\" id=\"3.11.\"></a>**4.12. Precision-Recall-ROC Curves** \n",
    "\n",
    "Precision-recall curves are for binary classification. In Olivetti dataset, there are 40 distinct classes. Dont worry, sklearn allows us to illustrate the precision-recall in multi-label settings"
   ]
  },
  {
   "cell_type": "code",
   "execution_count": null,
   "metadata": {
    "_uuid": "d1551f52ee92f6728321dd48484166a9e002281f"
   },
   "outputs": [],
   "source": [
    "from sklearn.preprocessing import label_binarize\n",
    "from sklearn.multiclass import OneVsRestClassifier\n",
    "\n",
    "Target=label_binarize(target, classes=range(40))\n",
    "print(Target.shape)\n",
    "print(Target[0])\n",
    "\n",
    "n_classes=Target.shape[1]"
   ]
  },
  {
   "cell_type": "code",
   "execution_count": null,
   "metadata": {
    "_uuid": "842053db5d978b3dc7d6c64fa53203241b5fc28a"
   },
   "outputs": [],
   "source": [
    "X_train_multiclass, X_test_multiclass, y_train_multiclass, y_test_multiclass=train_test_split(X, \n",
    "                                                                                              Target,\n",
    "                                                                                             test_size=0.3,\n",
    "                                                                                             stratify=Target,\n",
    "                                                                                     random_state=0)"
   ]
  },
  {
   "cell_type": "code",
   "execution_count": null,
   "metadata": {
    "_uuid": "e05757e6f48df72927facd6dc27278df1585dc3f"
   },
   "outputs": [],
   "source": [
    "pca=PCA(n_components=n_components, whiten=True)\n",
    "pca.fit(X_train_multiclass)\n",
    "\n",
    "X_train_multiclass_pca=pca.transform(X_train_multiclass)\n",
    "X_test_multiclass_pca=pca.transform(X_test_multiclass)"
   ]
  },
  {
   "cell_type": "code",
   "execution_count": null,
   "metadata": {
    "_uuid": "f583cff272e13a1a22127aa457ac53c688aacbb4"
   },
   "outputs": [],
   "source": [
    "oneRestClassifier=OneVsRestClassifier(lr)\n",
    "\n",
    "oneRestClassifier.fit(X_train_multiclass_pca, y_train_multiclass)\n",
    "y_score=oneRestClassifier.decision_function(X_test_multiclass_pca)"
   ]
  },
  {
   "cell_type": "code",
   "execution_count": null,
   "metadata": {
    "_uuid": "bb3729335c87779b4d09fd24bf557b50be60e172"
   },
   "outputs": [],
   "source": [
    "# For each class\n",
    "precision = dict()\n",
    "recall = dict()\n",
    "average_precision = dict()\n",
    "for i in range(n_classes):\n",
    "    precision[i], recall[i], _ = metrics.precision_recall_curve(y_test_multiclass[:, i],\n",
    "                                                        y_score[:, i])\n",
    "    average_precision[i] = metrics.average_precision_score(y_test_multiclass[:, i], y_score[:, i])\n",
    "\n",
    "# A \"micro-average\": quantifying score on all classes jointly\n",
    "precision[\"micro\"], recall[\"micro\"], _ = metrics.precision_recall_curve(y_test_multiclass.ravel(),\n",
    "    y_score.ravel())\n",
    "average_precision[\"micro\"] = metrics.average_precision_score(y_test_multiclass, y_score,\n",
    "                                                     average=\"micro\")\n",
    "print('Average precision score, micro-averaged over all classes: {0:0.2f}'\n",
    "      .format(average_precision[\"micro\"]))"
   ]
  },
  {
   "cell_type": "code",
   "execution_count": null,
   "metadata": {
    "_uuid": "f2fe6c703394b5b6bdcf4f822331f887e16dca0f"
   },
   "outputs": [],
   "source": [
    "from sklearn.utils.fixes import signature\n",
    "\n",
    "step_kwargs = ({'step': 'post'}\n",
    "               if 'step' in signature(plt.fill_between).parameters\n",
    "               else {})\n",
    "plt.figure(1, figsize=(12,8))\n",
    "plt.step(recall['micro'], precision['micro'], color='b', alpha=0.2,\n",
    "         where='post')\n",
    "plt.fill_between(recall[\"micro\"], precision[\"micro\"], alpha=0.2, color='b',\n",
    "                 **step_kwargs)\n",
    "\n",
    "plt.xlabel('Recall')\n",
    "plt.ylabel('Precision')\n",
    "plt.ylim([0.0, 1.05])\n",
    "plt.xlim([0.0, 1.0])\n",
    "plt.title(\n",
    "    'Average precision score, micro-averaged over all classes: AP={0:0.2f}'\n",
    "    .format(average_precision[\"micro\"]))"
   ]
  },
  {
   "cell_type": "markdown",
   "metadata": {
    "_uuid": "d78ddd7c7896908c46182a5a515b9b1531cd2578"
   },
   "source": [
    "[Go to Contents Menu](#0.)  |  Quick Links: [1. ](#1.)|[3.](#2.)|[3.1. ](#2.1.)|[3.2.](#2.2.)|[4.](#3.)|[4.1.](#3.1.)|[4.2.](#3.2.)|[4.3.](#3.3.)|[4.4. ](#3.4.) [4.5. ](#3.5.)|[4.6. ](#3.5e1.)|[4.7. ](#3.6.)|[4.8. ](#3.7.)|[4.9. ](#3.8.)|[4.10.](#3.9.)|[4.11.](#3.10.)|[4.12. ](#3.11.)\n",
    "\n",
    "<a class=\"anchor\" id=\"5.\"></a>**5. Linear Discriminant Analysis İle Boyut Azaltma** "
   ]
  },
  {
   "cell_type": "code",
   "execution_count": null,
   "metadata": {
    "_uuid": "0ede8bcc7d98613c69c04d7a6e167f4625fe8d02"
   },
   "outputs": [],
   "source": [
    "from sklearn.discriminant_analysis import LinearDiscriminantAnalysis"
   ]
  },
  {
   "cell_type": "code",
   "execution_count": null,
   "metadata": {
    "_uuid": "f404d76fb17c3d58897673ff42db1b5ac6c4290b"
   },
   "outputs": [],
   "source": [
    "lda = LinearDiscriminantAnalysis(n_components=n_components)\n",
    "X_train_lda = lda.fit(X_train, y_train).transform(X_train)\n",
    "X_test_lda=lda.transform(X_test)"
   ]
  },
  {
   "cell_type": "code",
   "execution_count": null,
   "metadata": {
    "_uuid": "7080a20027eed1b6efc64e4101c5b3fded63c58f"
   },
   "outputs": [],
   "source": [
    "lr=LogisticRegression(C=1.0, penalty=\"l2\")\n",
    "lr.fit(X_train_lda,y_train)\n",
    "y_pred=lr.predict(X_test_lda)"
   ]
  },
  {
   "cell_type": "code",
   "execution_count": null,
   "metadata": {
    "_uuid": "1cdf1ef32c3e916ace574e19622d3d16633416c9"
   },
   "outputs": [],
   "source": [
    "print(\"Accuracy score:{:.2f}\".format(metrics.accuracy_score(y_test, y_pred)))\n",
    "print(\"Classification Results:\\n{}\".format(metrics.classification_report(y_test, y_pred)))"
   ]
  },
  {
   "cell_type": "markdown",
   "metadata": {
    "_uuid": "373a31a056f8e984e5c68cd2da610898652b44bb"
   },
   "source": [
    "[Go to Contents Menu](#0.)  |  Quick Links: [1. ](#1.)|[3.](#2.)|[3.1. ](#2.1.)|[3.2.](#2.2.)|[4.](#3.)|[4.1.](#3.1.)|[4.2.](#3.2.)|[4.3.](#3.3.)|[4.4. ](#3.4.) [4.5. ](#3.5.)|[4.6. ](#3.5e1.)|[4.7. ](#3.6.)|[4.8. ](#3.7.)|[4.9. ](#3.8.)|[4.10.](#3.9.)|[4.11.](#3.10.)|[4.12. ](#3.11.)\n",
    "\n",
    "<a class=\"anchor\" id=\"6.\"></a>**6. Machine Learning Automated Workflow: Pipeline** \n",
    "\n",
    "Application of machine learning on data sets has a standard workflow. Sklearn offers the Pipeline object to automate this workflow. Pipeline allows standard work flows for performing machine learning operations such as scaling, feature extraction and modeling. The Pipeline guarantees the same operation in the entire data set, ensuring that the training and test data are consistent."
   ]
  },
  {
   "cell_type": "code",
   "execution_count": null,
   "metadata": {
    "_uuid": "559b4c92c144e379ee38f6e85aa00e97d4b2641e"
   },
   "outputs": [],
   "source": [
    "from sklearn.pipeline import Pipeline"
   ]
  },
  {
   "cell_type": "code",
   "execution_count": null,
   "metadata": {
    "_uuid": "0626ef3f653a42fa64b8271d411bd7bbd37d0eda"
   },
   "outputs": [],
   "source": [
    "work_flows_std = list()\n",
    "work_flows_std.append(('lda', LinearDiscriminantAnalysis(n_components=n_components)))\n",
    "work_flows_std.append(('logReg', LogisticRegression(C=1.0, penalty=\"l2\")))\n",
    "model_std = Pipeline(work_flows_std)\n",
    "model_std.fit(X_train, y_train)\n",
    "y_pred=model_std.predict(X_test)"
   ]
  },
  {
   "cell_type": "code",
   "execution_count": null,
   "metadata": {
    "_uuid": "a2fed9cc65a241da09a161de2185802aaf5eacdf"
   },
   "outputs": [],
   "source": [
    "print(\"Accuracy score:{:.2f}\".format(metrics.accuracy_score(y_test, y_pred)))\n",
    "print(\"Classification Results:\\n{}\".format(metrics.classification_report(y_test, y_pred)))"
   ]
  }
 ],
 "metadata": {
  "kernelspec": {
   "display_name": "Python 3",
   "language": "python",
   "name": "python3"
  },
  "language_info": {
   "codemirror_mode": {
    "name": "ipython",
    "version": 3
   },
   "file_extension": ".py",
   "mimetype": "text/x-python",
   "name": "python",
   "nbconvert_exporter": "python",
   "pygments_lexer": "ipython3",
   "version": "3.7.6"
  }
 },
 "nbformat": 4,
 "nbformat_minor": 1
}
