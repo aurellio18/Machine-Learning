{
 "cells": [
  {
   "cell_type": "code",
   "execution_count": 13,
   "id": "f47c6f16",
   "metadata": {},
   "outputs": [],
   "source": [
    "from sklearn.decomposition import PCA\n",
    "import splitfolders\n",
    "import zipfile,os\n",
    "import numpy as np\n",
    "from keras.layers import Dense, Dropout, GaussianNoise, Conv1D\n",
    "from sklearn.preprocessing import MinMaxScaler\n",
    "from sklearn.neural_network import MLPClassifier\n",
    "from sklearn.model_selection import GridSearchCV\n",
    "from sklearn.metrics import accuracy_score\n",
    "from pytictoc import TicToc\n",
    "from timeit import default_timer as timer\n",
    "import matplotlib.pyplot as plt"
   ]
  },
  {
   "cell_type": "code",
   "execution_count": 2,
   "id": "3bae4d8a",
   "metadata": {},
   "outputs": [],
   "source": [
    "local_zip = 'img.zip'\n",
    "zip_ref = zipfile.ZipFile(local_zip, 'r')\n",
    "zip_ref.extractall()\n",
    "zip_ref.close()\n",
    "\n",
    "base_dir ='img'\n"
   ]
  },
  {
   "cell_type": "code",
   "execution_count": 3,
   "id": "f401f104",
   "metadata": {},
   "outputs": [
    {
     "name": "stderr",
     "output_type": "stream",
     "text": [
      "Copying files: 420 files [00:07, 58.76 files/s]\n"
     ]
    }
   ],
   "source": [
    "splitfolders.ratio(base_dir, output=base_dir, ratio=(0.7,0.3))\n",
    " \n",
    "train = os.path.join(base_dir, 'train')\n",
    "val = os.path.join(base_dir, 'val')"
   ]
  },
  {
   "cell_type": "code",
   "execution_count": 4,
   "id": "87eae28c",
   "metadata": {},
   "outputs": [
    {
     "data": {
      "text/plain": [
       "['AAA',\n",
       " 'ABI',\n",
       " 'AFI',\n",
       " 'AGH',\n",
       " 'AIL',\n",
       " 'ARL',\n",
       " 'ASA',\n",
       " 'BDL',\n",
       " 'DIA',\n",
       " 'DIO',\n",
       " 'DRA',\n",
       " 'EZA',\n",
       " 'FAR',\n",
       " 'FMR',\n",
       " 'FRS',\n",
       " 'GLA',\n",
       " 'GPS',\n",
       " 'HMA',\n",
       " 'HZR',\n",
       " 'IDR',\n",
       " 'KDA',\n",
       " 'MAA',\n",
       " 'MAJ',\n",
       " 'MFA',\n",
       " 'MFH',\n",
       " 'MGN',\n",
       " 'MMF',\n",
       " 'MRF',\n",
       " 'MSA',\n",
       " 'MZA',\n",
       " 'MZB',\n",
       " 'NIS',\n",
       " 'QTH',\n",
       " 'RCK',\n",
       " 'RKS',\n",
       " 'SHE',\n",
       " 'SNN',\n",
       " 'SVD',\n",
       " 'SYH',\n",
       " 'SYN',\n",
       " 'train',\n",
       " 'val',\n",
       " 'YSS',\n",
       " 'ZHT']"
      ]
     },
     "execution_count": 4,
     "metadata": {},
     "output_type": "execute_result"
    }
   ],
   "source": [
    "os.listdir('img/train')\n",
    "os.listdir('img/val')"
   ]
  },
  {
   "cell_type": "markdown",
   "id": "82563ff0",
   "metadata": {},
   "source": [
    "### Pre-Processing"
   ]
  },
  {
   "cell_type": "code",
   "execution_count": 5,
   "id": "422ac588",
   "metadata": {},
   "outputs": [],
   "source": [
    "import tensorflow as tf\n",
    "from tensorflow.keras.preprocessing.image import ImageDataGenerator\n",
    "\n",
    "train_datagen = ImageDataGenerator(\n",
    "                rescale = 1./255,\n",
    "                shear_range=0.2,\n",
    "                zoom_range=0.2,\n",
    "                horizontal_flip=True,\n",
    "                fill_mode = 'nearest')\n",
    "\n",
    "test_datagen = ImageDataGenerator(\n",
    "                rescale = 1./255,\n",
    "                shear_range=0.2,\n",
    "                zoom_range=0.2,\n",
    "                horizontal_flip=True,\n",
    "                fill_mode = 'nearest')"
   ]
  },
  {
   "cell_type": "code",
   "execution_count": 6,
   "id": "6a1e1498",
   "metadata": {},
   "outputs": [
    {
     "name": "stdout",
     "output_type": "stream",
     "text": [
      "Found 294 images belonging to 44 classes.\n",
      "Found 126 images belonging to 44 classes.\n"
     ]
    }
   ],
   "source": [
    "train_generator = train_datagen.flow_from_directory(\n",
    "        train,\n",
    "        batch_size = 1,\n",
    "        color_mode = 'grayscale',\n",
    "        shuffle = False,\n",
    "        class_mode = \"categorical\",\n",
    "        target_size =  (100, 100))\n",
    "\n",
    "test_generator = test_datagen.flow_from_directory(\n",
    "        val,\n",
    "        batch_size = 1,\n",
    "        color_mode = 'grayscale',\n",
    "        shuffle = False,\n",
    "        class_mode = \"categorical\",\n",
    "        target_size =  (100, 100))"
   ]
  },
  {
   "cell_type": "markdown",
   "id": "0323c084",
   "metadata": {},
   "source": [
    "### BPNN"
   ]
  },
  {
   "cell_type": "code",
   "execution_count": 15,
   "id": "bab16228",
   "metadata": {},
   "outputs": [],
   "source": [
    "X_train = train_generator[0][0][0].flatten()\n",
    "for i in range(1, len(train_generator)):\n",
    "    features = train_generator[i][0][0].flatten()\n",
    "    X_train = np.vstack((X_train, features))\n",
    "\n",
    "X_test = test_generator[0][0][0].flatten()\n",
    "for i in range(1, len(test_generator)):\n",
    "    features = test_generator[i][0][0].flatten()\n",
    "    X_test = np.vstack((X_test, features))\n",
    "    "
   ]
  },
  {
   "cell_type": "code",
   "execution_count": 16,
   "id": "0cda07d2",
   "metadata": {},
   "outputs": [],
   "source": [
    "scaler = MinMaxScaler()\n",
    "X_train_scaled = scaler.fit_transform(X_train)\n",
    "X_test_scaled = scaler.transform(X_test)\n",
    "Y_train = np.array(train_generator.labels)\n",
    "Y_test = np.array(test_generator.labels)"
   ]
  },
  {
   "cell_type": "code",
   "execution_count": 17,
   "id": "e40e360a",
   "metadata": {},
   "outputs": [],
   "source": [
    "pca=PCA()\n",
    "pca.fit(X_train_scaled)\n",
    "pca=PCA(n_components=100, whiten=True)\n",
    "X_pca_train = pca.fit_transform(X_train_scaled)\n",
    "X_pca_test = pca.transform(X_test_scaled)\n",
    "pca_std = np.std(X_pca_train)"
   ]
  },
  {
   "cell_type": "code",
   "execution_count": 22,
   "id": "11cb5320",
   "metadata": {},
   "outputs": [
    {
     "name": "stderr",
     "output_type": "stream",
     "text": [
      "C:\\Users\\dimas\\anaconda3\\lib\\site-packages\\sklearn\\neural_network\\_multilayer_perceptron.py:571: ConvergenceWarning: Stochastic Optimizer: Maximum iterations (200) reached and the optimization hasn't converged yet.\n",
      "  % self.max_iter, ConvergenceWarning)\n"
     ]
    },
    {
     "data": {
      "text/plain": [
       "MLPClassifier(activation='relu', alpha=0.01, batch_size=1, beta_1=0.9,\n",
       "              beta_2=0.999, early_stopping=False, epsilon=1e-08,\n",
       "              hidden_layer_sizes=(100,), learning_rate='constant',\n",
       "              learning_rate_init=0.003, max_fun=15000, max_iter=200,\n",
       "              momentum=0.7, n_iter_no_change=10, nesterovs_momentum=True,\n",
       "              power_t=0.5, random_state=2, shuffle=False, solver='sgd',\n",
       "              tol=0.0001, validation_fraction=0.1, verbose=False,\n",
       "              warm_start=False)"
      ]
     },
     "execution_count": 22,
     "metadata": {},
     "output_type": "execute_result"
    }
   ],
   "source": [
    "clf = MLPClassifier(solver='sgd',hidden_layer_sizes=(100,),\n",
    "                    batch_size=1,\n",
    "                    learning_rate_init=0.003,\n",
    "                    momentum=0.7,activation='relu',\n",
    "                    alpha=0.01,shuffle=False,\n",
    "                    random_state=2)\n",
    "clf.fit(X_pca_train,Y_train)"
   ]
  },
  {
   "cell_type": "code",
   "execution_count": 23,
   "id": "d44511d2",
   "metadata": {},
   "outputs": [
    {
     "name": "stdout",
     "output_type": "stream",
     "text": [
      "epoch:  0\n",
      "epoch:  1\n",
      "epoch:  2\n",
      "epoch:  3\n",
      "epoch:  4\n",
      "epoch:  5\n",
      "epoch:  6\n",
      "epoch:  7\n",
      "epoch:  8\n",
      "epoch:  9\n",
      "epoch:  10\n",
      "epoch:  11\n",
      "epoch:  12\n",
      "epoch:  13\n",
      "epoch:  14\n",
      "epoch:  15\n",
      "epoch:  16\n",
      "epoch:  17\n",
      "epoch:  18\n",
      "epoch:  19\n",
      "epoch:  20\n",
      "epoch:  21\n",
      "epoch:  22\n",
      "epoch:  23\n",
      "epoch:  24\n",
      "epoch:  25\n",
      "epoch:  26\n",
      "epoch:  27\n",
      "epoch:  28\n",
      "epoch:  29\n",
      "epoch:  30\n",
      "epoch:  31\n",
      "epoch:  32\n",
      "epoch:  33\n",
      "epoch:  34\n",
      "epoch:  35\n",
      "epoch:  36\n",
      "epoch:  37\n",
      "epoch:  38\n",
      "epoch:  39\n",
      "epoch:  40\n",
      "epoch:  41\n",
      "epoch:  42\n",
      "epoch:  43\n",
      "epoch:  44\n",
      "epoch:  45\n",
      "epoch:  46\n",
      "epoch:  47\n",
      "epoch:  48\n",
      "epoch:  49\n",
      "epoch:  50\n",
      "epoch:  51\n",
      "epoch:  52\n",
      "epoch:  53\n",
      "epoch:  54\n",
      "epoch:  55\n",
      "epoch:  56\n",
      "epoch:  57\n",
      "epoch:  58\n",
      "epoch:  59\n",
      "epoch:  60\n",
      "epoch:  61\n",
      "epoch:  62\n",
      "epoch:  63\n",
      "epoch:  64\n",
      "epoch:  65\n",
      "epoch:  66\n",
      "epoch:  67\n",
      "epoch:  68\n",
      "epoch:  69\n",
      "epoch:  70\n",
      "epoch:  71\n",
      "epoch:  72\n",
      "epoch:  73\n",
      "epoch:  74\n",
      "epoch:  75\n",
      "epoch:  76\n",
      "epoch:  77\n",
      "epoch:  78\n",
      "epoch:  79\n",
      "epoch:  80\n",
      "epoch:  81\n",
      "epoch:  82\n",
      "epoch:  83\n",
      "epoch:  84\n",
      "epoch:  85\n",
      "epoch:  86\n",
      "epoch:  87\n",
      "epoch:  88\n",
      "epoch:  89\n",
      "epoch:  90\n",
      "epoch:  91\n",
      "epoch:  92\n",
      "epoch:  93\n",
      "epoch:  94\n",
      "epoch:  95\n",
      "epoch:  96\n",
      "epoch:  97\n",
      "epoch:  98\n",
      "epoch:  99\n"
     ]
    }
   ],
   "source": [
    "start = timer()\n",
    "N_TRAIN_SAMPLES = X_pca_train.shape[0]\n",
    "N_EPOCHS = 100\n",
    "N_BATCH = 128\n",
    "N_CLASSES = np.unique(Y_train)\n",
    "\n",
    "scores_train = []\n",
    "scores_test = []\n",
    "\n",
    "# EPOCH\n",
    "epoch = 0\n",
    "while epoch < N_EPOCHS:\n",
    "    print('epoch: ', epoch)\n",
    "    # SHUFFLING\n",
    "    random_perm = np.random.permutation(X_train.shape[0])\n",
    "    mini_batch_index = 0\n",
    "    while True:\n",
    "        # MINI-BATCH\n",
    "        indices = random_perm[mini_batch_index:mini_batch_index + N_BATCH]\n",
    "        clf.partial_fit(X_pca_train[indices], Y_train[indices], classes=N_CLASSES)\n",
    "        mini_batch_index += N_BATCH\n",
    "\n",
    "        if mini_batch_index >= N_TRAIN_SAMPLES:\n",
    "            break\n",
    "\n",
    "    # SCORE TRAIN\n",
    "    scores_train.append(clf.score(X_pca_train, Y_train))\n",
    "\n",
    "    # SCORE TEST\n",
    "    scores_test.append(clf.score(X_pca_test, Y_test))\n",
    "\n",
    "    epoch += 1\n",
    "\n",
    "end = timer()"
   ]
  },
  {
   "cell_type": "code",
   "execution_count": 24,
   "id": "ec8dcd93",
   "metadata": {},
   "outputs": [
    {
     "data": {
      "image/png": "[encoded data removed]",
      "text/plain": [
       "<Figure size 432x288 with 1 Axes>"
      ]
     },
     "metadata": {
      "needs_background": "light"
     },
     "output_type": "display_data"
    }
   ],
   "source": [
    "plt.plot(scores_train, color='green', alpha=0.8, label='Train')\n",
    "plt.plot(scores_test, color='magenta', alpha=0.8, label='Test')\n",
    "plt.title(\"Accuracy over epochs\", fontsize=14)\n",
    "plt.xlabel('Epochs')\n",
    "plt.legend(loc='upper left')\n",
    "plt.show()"
   ]
  },
  {
   "cell_type": "code",
   "execution_count": 27,
   "id": "3429443c",
   "metadata": {},
   "outputs": [
    {
     "name": "stdout",
     "output_type": "stream",
     "text": [
      "Training Accuracy: 100.0%\n",
      "Testing Accuracy: 68.25396825396825%\n"
     ]
    }
   ],
   "source": [
    "train_pred_bpnn = clf.predict(X_pca_train)\n",
    "\n",
    "train_acc_bpnn = accuracy_score(Y_train, train_pred_bpnn)\n",
    "\n",
    "print(f'Training Accuracy: {train_acc_bpnn * 100}%')\n",
    "\n",
    "test_pred_bpnn = clf.predict(X_pca_test)\n",
    "\n",
    "test_acc_bpnn = accuracy_score(Y_test, test_pred_bpnn)\n",
    "\n",
    "print(f'Testing Accuracy: {test_acc_bpnn * 100}%')"
   ]
  },
  {
   "cell_type": "code",
   "execution_count": 25,
   "id": "e1b66b14",
   "metadata": {},
   "outputs": [
    {
     "name": "stdout",
     "output_type": "stream",
     "text": [
      "39.55232700000002\n"
     ]
    }
   ],
   "source": [
    "print(end - start)"
   ]
  },
  {
   "cell_type": "code",
   "execution_count": 31,
   "id": "33bd7fd3",
   "metadata": {},
   "outputs": [
    {
     "data": {
      "text/html": [
       "<div>\n",
       "<style scoped>\n",
       "    .dataframe tbody tr th:only-of-type {\n",
       "        vertical-align: middle;\n",
       "    }\n",
       "\n",
       "    .dataframe tbody tr th {\n",
       "        vertical-align: top;\n",
       "    }\n",
       "\n",
       "    .dataframe thead th {\n",
       "        text-align: right;\n",
       "    }\n",
       "</style>\n",
       "<table border=\"1\" class=\"dataframe\">\n",
       "  <thead>\n",
       "    <tr style=\"text-align: right;\">\n",
       "      <th></th>\n",
       "      <th>epoch_1</th>\n",
       "      <th>epoch_2</th>\n",
       "      <th>epoch_3</th>\n",
       "      <th>epoch_4</th>\n",
       "      <th>epoch_5</th>\n",
       "      <th>epoch_6</th>\n",
       "      <th>epoch_7</th>\n",
       "      <th>epoch_8</th>\n",
       "      <th>epoch_9</th>\n",
       "      <th>epoch_10</th>\n",
       "      <th>...</th>\n",
       "      <th>epoch_91</th>\n",
       "      <th>epoch_92</th>\n",
       "      <th>epoch_93</th>\n",
       "      <th>epoch_94</th>\n",
       "      <th>epoch_95</th>\n",
       "      <th>epoch_96</th>\n",
       "      <th>epoch_97</th>\n",
       "      <th>epoch_98</th>\n",
       "      <th>epoch_99</th>\n",
       "      <th>epoch_100</th>\n",
       "    </tr>\n",
       "  </thead>\n",
       "  <tbody>\n",
       "    <tr>\n",
       "      <th>accuracy</th>\n",
       "      <td>1.000000</td>\n",
       "      <td>1.000000</td>\n",
       "      <td>1.00000</td>\n",
       "      <td>1.000000</td>\n",
       "      <td>1.00000</td>\n",
       "      <td>1.00000</td>\n",
       "      <td>1.00000</td>\n",
       "      <td>1.000000</td>\n",
       "      <td>1.00000</td>\n",
       "      <td>1.000000</td>\n",
       "      <td>...</td>\n",
       "      <td>1.00000</td>\n",
       "      <td>1.000000</td>\n",
       "      <td>1.000000</td>\n",
       "      <td>1.00000</td>\n",
       "      <td>1.00000</td>\n",
       "      <td>1.000000</td>\n",
       "      <td>1.000000</td>\n",
       "      <td>1.000000</td>\n",
       "      <td>1.00000</td>\n",
       "      <td>1.00000</td>\n",
       "    </tr>\n",
       "    <tr>\n",
       "      <th>val_accuracy</th>\n",
       "      <td>0.698413</td>\n",
       "      <td>0.690476</td>\n",
       "      <td>0.68254</td>\n",
       "      <td>0.690476</td>\n",
       "      <td>0.68254</td>\n",
       "      <td>0.68254</td>\n",
       "      <td>0.68254</td>\n",
       "      <td>0.674603</td>\n",
       "      <td>0.68254</td>\n",
       "      <td>0.666667</td>\n",
       "      <td>...</td>\n",
       "      <td>0.68254</td>\n",
       "      <td>0.666667</td>\n",
       "      <td>0.690476</td>\n",
       "      <td>0.68254</td>\n",
       "      <td>0.68254</td>\n",
       "      <td>0.690476</td>\n",
       "      <td>0.674603</td>\n",
       "      <td>0.666667</td>\n",
       "      <td>0.68254</td>\n",
       "      <td>0.68254</td>\n",
       "    </tr>\n",
       "  </tbody>\n",
       "</table>\n",
       "<p>2 rows × 100 columns</p>\n",
       "</div>"
      ],
      "text/plain": [
       "               epoch_1   epoch_2  epoch_3   epoch_4  epoch_5  epoch_6  \\\n",
       "accuracy      1.000000  1.000000  1.00000  1.000000  1.00000  1.00000   \n",
       "val_accuracy  0.698413  0.690476  0.68254  0.690476  0.68254  0.68254   \n",
       "\n",
       "              epoch_7   epoch_8  epoch_9  epoch_10  ...  epoch_91  epoch_92  \\\n",
       "accuracy      1.00000  1.000000  1.00000  1.000000  ...   1.00000  1.000000   \n",
       "val_accuracy  0.68254  0.674603  0.68254  0.666667  ...   0.68254  0.666667   \n",
       "\n",
       "              epoch_93  epoch_94  epoch_95  epoch_96  epoch_97  epoch_98  \\\n",
       "accuracy      1.000000   1.00000   1.00000  1.000000  1.000000  1.000000   \n",
       "val_accuracy  0.690476   0.68254   0.68254  0.690476  0.674603  0.666667   \n",
       "\n",
       "              epoch_99  epoch_100  \n",
       "accuracy       1.00000    1.00000  \n",
       "val_accuracy   0.68254    0.68254  \n",
       "\n",
       "[2 rows x 100 columns]"
      ]
     },
     "execution_count": 31,
     "metadata": {},
     "output_type": "execute_result"
    }
   ],
   "source": [
    "import pandas as pd\n",
    "result = pd.DataFrame(\n",
    "    [scores_train,scores_test],\n",
    "    index=[\"accuracy\",\"val_accuracy\"],\n",
    "    columns=[f'epoch_{num + 1}' for num in range(100)])\n",
    "\n",
    "result"
   ]
  },
  {
   "cell_type": "code",
   "execution_count": null,
   "id": "ff00d142",
   "metadata": {},
   "outputs": [],
   "source": []
  }
 ],
 "metadata": {
  "kernelspec": {
   "display_name": "Python 3",
   "language": "python",
   "name": "python3"
  },
  "language_info": {
   "codemirror_mode": {
    "name": "ipython",
    "version": 3
   },
   "file_extension": ".py",
   "mimetype": "text/x-python",
   "name": "python",
   "nbconvert_exporter": "python",
   "pygments_lexer": "ipython3",
   "version": "3.8.8"
  }
 },
 "nbformat": 4,
 "nbformat_minor": 5
}
