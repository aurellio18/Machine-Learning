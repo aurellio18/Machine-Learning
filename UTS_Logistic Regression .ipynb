{
 "cells": [
  {
   "cell_type": "markdown",
   "metadata": {},
   "source": [
    "# UTS - Logistic Regression"
   ]
  },
  {
   "cell_type": "markdown",
   "metadata": {},
   "source": [
    "## Mengimpor library yang akan digunakan"
   ]
  },
  {
   "cell_type": "code",
   "execution_count": 1,
   "metadata": {},
   "outputs": [],
   "source": [
    "# For Data Visualisation\n",
    "import matplotlib.pyplot as plt\n",
    "import seaborn as sns\n",
    "from matplotlib.colors import ListedColormap\n",
    "\n",
    "# For Data Manipulation\n",
    "import numpy as np \n",
    "import pandas as pd\n",
    "import sklearn\n",
    "from itertools import cycle\n",
    "\n",
    "\n",
    "# For Data Preprocessing\n",
    "from sklearn.model_selection import train_test_split\n",
    "from sklearn.preprocessing import StandardScaler\n",
    "\n",
    "# For Classification Results\n",
    "from sklearn.metrics import accuracy_score, precision_score, recall_score, roc_auc_score\n",
    "from sklearn.metrics import classification_report\n",
    "from sklearn.metrics import confusion_matrix\n",
    "from sklearn.metrics import roc_curve, auc\n",
    "from sklearn.metrics import plot_roc_curve\n",
    "from sklearn.preprocessing import label_binarize\n",
    "from scipy import interp\n",
    "from sklearn.exceptions import NotFittedError\n",
    "\n",
    "# Dimensionality Reduction\n",
    "from sklearn.decomposition import PCA\n",
    "\n",
    "# Importing Models\n",
    "from sklearn.linear_model import LogisticRegression #Logistic Regression\n",
    "from sklearn.neighbors import KNeighborsClassifier as KNN #K-Nearest Neighbors\n",
    "from sklearn.naive_bayes import GaussianNB #Naive Bayes\n",
    "from sklearn.tree import DecisionTreeClassifier #Decision Tree Classifier\n",
    "from sklearn.model_selection import GridSearchCV"
   ]
  },
  {
   "cell_type": "markdown",
   "metadata": {},
   "source": [
    "## Memasukkan dataset yang ingin digunakan"
   ]
  },
  {
   "cell_type": "code",
   "execution_count": 2,
   "metadata": {
    "scrolled": false
   },
   "outputs": [
    {
     "data": {
      "text/html": [
       "<div>\n",
       "<style scoped>\n",
       "    .dataframe tbody tr th:only-of-type {\n",
       "        vertical-align: middle;\n",
       "    }\n",
       "\n",
       "    .dataframe tbody tr th {\n",
       "        vertical-align: top;\n",
       "    }\n",
       "\n",
       "    .dataframe thead th {\n",
       "        text-align: right;\n",
       "    }\n",
       "</style>\n",
       "<table border=\"1\" class=\"dataframe\">\n",
       "  <thead>\n",
       "    <tr style=\"text-align: right;\">\n",
       "      <th></th>\n",
       "      <th>fixed acidity</th>\n",
       "      <th>volatile acidity</th>\n",
       "      <th>citric acid</th>\n",
       "      <th>residual sugar</th>\n",
       "      <th>chlorides</th>\n",
       "      <th>free sulfur dioxide</th>\n",
       "      <th>total sulfur dioxide</th>\n",
       "      <th>density</th>\n",
       "      <th>pH</th>\n",
       "      <th>sulphates</th>\n",
       "      <th>alcohol</th>\n",
       "      <th>quality</th>\n",
       "    </tr>\n",
       "  </thead>\n",
       "  <tbody>\n",
       "    <tr>\n",
       "      <th>0</th>\n",
       "      <td>7.4</td>\n",
       "      <td>0.70</td>\n",
       "      <td>0.00</td>\n",
       "      <td>1.9</td>\n",
       "      <td>0.076</td>\n",
       "      <td>11.0</td>\n",
       "      <td>34.0</td>\n",
       "      <td>0.9978</td>\n",
       "      <td>3.51</td>\n",
       "      <td>0.56</td>\n",
       "      <td>9.4</td>\n",
       "      <td>5</td>\n",
       "    </tr>\n",
       "    <tr>\n",
       "      <th>1</th>\n",
       "      <td>7.8</td>\n",
       "      <td>0.88</td>\n",
       "      <td>0.00</td>\n",
       "      <td>2.6</td>\n",
       "      <td>0.098</td>\n",
       "      <td>25.0</td>\n",
       "      <td>67.0</td>\n",
       "      <td>0.9968</td>\n",
       "      <td>3.20</td>\n",
       "      <td>0.68</td>\n",
       "      <td>9.8</td>\n",
       "      <td>5</td>\n",
       "    </tr>\n",
       "    <tr>\n",
       "      <th>2</th>\n",
       "      <td>7.8</td>\n",
       "      <td>0.76</td>\n",
       "      <td>0.04</td>\n",
       "      <td>2.3</td>\n",
       "      <td>0.092</td>\n",
       "      <td>15.0</td>\n",
       "      <td>54.0</td>\n",
       "      <td>0.9970</td>\n",
       "      <td>3.26</td>\n",
       "      <td>0.65</td>\n",
       "      <td>9.8</td>\n",
       "      <td>5</td>\n",
       "    </tr>\n",
       "    <tr>\n",
       "      <th>3</th>\n",
       "      <td>11.2</td>\n",
       "      <td>0.28</td>\n",
       "      <td>0.56</td>\n",
       "      <td>1.9</td>\n",
       "      <td>0.075</td>\n",
       "      <td>17.0</td>\n",
       "      <td>60.0</td>\n",
       "      <td>0.9980</td>\n",
       "      <td>3.16</td>\n",
       "      <td>0.58</td>\n",
       "      <td>9.8</td>\n",
       "      <td>6</td>\n",
       "    </tr>\n",
       "    <tr>\n",
       "      <th>4</th>\n",
       "      <td>7.4</td>\n",
       "      <td>0.70</td>\n",
       "      <td>0.00</td>\n",
       "      <td>1.9</td>\n",
       "      <td>0.076</td>\n",
       "      <td>11.0</td>\n",
       "      <td>34.0</td>\n",
       "      <td>0.9978</td>\n",
       "      <td>3.51</td>\n",
       "      <td>0.56</td>\n",
       "      <td>9.4</td>\n",
       "      <td>5</td>\n",
       "    </tr>\n",
       "  </tbody>\n",
       "</table>\n",
       "</div>"
      ],
      "text/plain": [
       "   fixed acidity  volatile acidity  citric acid  residual sugar  chlorides  \\\n",
       "0            7.4              0.70         0.00             1.9      0.076   \n",
       "1            7.8              0.88         0.00             2.6      0.098   \n",
       "2            7.8              0.76         0.04             2.3      0.092   \n",
       "3           11.2              0.28         0.56             1.9      0.075   \n",
       "4            7.4              0.70         0.00             1.9      0.076   \n",
       "\n",
       "   free sulfur dioxide  total sulfur dioxide  density    pH  sulphates  \\\n",
       "0                 11.0                  34.0   0.9978  3.51       0.56   \n",
       "1                 25.0                  67.0   0.9968  3.20       0.68   \n",
       "2                 15.0                  54.0   0.9970  3.26       0.65   \n",
       "3                 17.0                  60.0   0.9980  3.16       0.58   \n",
       "4                 11.0                  34.0   0.9978  3.51       0.56   \n",
       "\n",
       "   alcohol  quality  \n",
       "0      9.4        5  \n",
       "1      9.8        5  \n",
       "2      9.8        5  \n",
       "3      9.8        6  \n",
       "4      9.4        5  "
      ]
     },
     "execution_count": 2,
     "metadata": {},
     "output_type": "execute_result"
    }
   ],
   "source": [
    "df = pd.read_csv('winequality-red.csv', \n",
    "                   sep = ';', \n",
    "                   engine = 'python')\n",
    "df.head()"
   ]
  },
  {
   "cell_type": "markdown",
   "metadata": {},
   "source": [
    "## Mempersiapkan dataset"
   ]
  },
  {
   "cell_type": "code",
   "execution_count": 3,
   "metadata": {
    "scrolled": true
   },
   "outputs": [
    {
     "name": "stdout",
     "output_type": "stream",
     "text": [
      "5    42.589118\n",
      "6    39.899937\n",
      "7    12.445278\n",
      "4     3.314572\n",
      "8     1.125704\n",
      "3     0.625391\n",
      "Name: quality, dtype: float64\n"
     ]
    },
    {
     "data": {
      "image/png": "[encoded data removed]",
      "text/plain": [
       "<Figure size 504x360 with 1 Axes>"
      ]
     },
     "metadata": {
      "needs_background": "light"
     },
     "output_type": "display_data"
    }
   ],
   "source": [
    "ax = df[\"quality\"].value_counts().plot.bar(figsize=(7,5))\n",
    "for p in ax.patches:\n",
    "    ax.annotate(str(p.get_height()), (p.get_x() * 1.02, p.get_height() * 1.02))\n",
    "plt.style.use('grayscale')\n",
    "print(df[\"quality\"].value_counts(normalize=True)*100)"
   ]
  },
  {
   "cell_type": "code",
   "execution_count": 4,
   "metadata": {},
   "outputs": [
    {
     "data": {
      "text/html": [
       "<div>\n",
       "<style scoped>\n",
       "    .dataframe tbody tr th:only-of-type {\n",
       "        vertical-align: middle;\n",
       "    }\n",
       "\n",
       "    .dataframe tbody tr th {\n",
       "        vertical-align: top;\n",
       "    }\n",
       "\n",
       "    .dataframe thead th {\n",
       "        text-align: right;\n",
       "    }\n",
       "</style>\n",
       "<table border=\"1\" class=\"dataframe\">\n",
       "  <thead>\n",
       "    <tr style=\"text-align: right;\">\n",
       "      <th></th>\n",
       "      <th>fixed acidity</th>\n",
       "      <th>volatile acidity</th>\n",
       "      <th>citric acid</th>\n",
       "      <th>residual sugar</th>\n",
       "      <th>chlorides</th>\n",
       "      <th>free sulfur dioxide</th>\n",
       "      <th>total sulfur dioxide</th>\n",
       "      <th>density</th>\n",
       "      <th>pH</th>\n",
       "      <th>sulphates</th>\n",
       "      <th>alcohol</th>\n",
       "      <th>quality</th>\n",
       "    </tr>\n",
       "  </thead>\n",
       "  <tbody>\n",
       "    <tr>\n",
       "      <th>count</th>\n",
       "      <td>1599.000000</td>\n",
       "      <td>1599.000000</td>\n",
       "      <td>1599.000000</td>\n",
       "      <td>1599.000000</td>\n",
       "      <td>1599.000000</td>\n",
       "      <td>1599.000000</td>\n",
       "      <td>1599.000000</td>\n",
       "      <td>1599.000000</td>\n",
       "      <td>1599.000000</td>\n",
       "      <td>1599.000000</td>\n",
       "      <td>1599.000000</td>\n",
       "      <td>1599.000000</td>\n",
       "    </tr>\n",
       "    <tr>\n",
       "      <th>mean</th>\n",
       "      <td>8.319637</td>\n",
       "      <td>0.527821</td>\n",
       "      <td>0.270976</td>\n",
       "      <td>2.538806</td>\n",
       "      <td>0.087467</td>\n",
       "      <td>15.874922</td>\n",
       "      <td>46.467792</td>\n",
       "      <td>0.996747</td>\n",
       "      <td>3.311113</td>\n",
       "      <td>0.658149</td>\n",
       "      <td>10.422983</td>\n",
       "      <td>5.636023</td>\n",
       "    </tr>\n",
       "    <tr>\n",
       "      <th>std</th>\n",
       "      <td>1.741096</td>\n",
       "      <td>0.179060</td>\n",
       "      <td>0.194801</td>\n",
       "      <td>1.409928</td>\n",
       "      <td>0.047065</td>\n",
       "      <td>10.460157</td>\n",
       "      <td>32.895324</td>\n",
       "      <td>0.001887</td>\n",
       "      <td>0.154386</td>\n",
       "      <td>0.169507</td>\n",
       "      <td>1.065668</td>\n",
       "      <td>0.807569</td>\n",
       "    </tr>\n",
       "    <tr>\n",
       "      <th>min</th>\n",
       "      <td>4.600000</td>\n",
       "      <td>0.120000</td>\n",
       "      <td>0.000000</td>\n",
       "      <td>0.900000</td>\n",
       "      <td>0.012000</td>\n",
       "      <td>1.000000</td>\n",
       "      <td>6.000000</td>\n",
       "      <td>0.990070</td>\n",
       "      <td>2.740000</td>\n",
       "      <td>0.330000</td>\n",
       "      <td>8.400000</td>\n",
       "      <td>3.000000</td>\n",
       "    </tr>\n",
       "    <tr>\n",
       "      <th>25%</th>\n",
       "      <td>7.100000</td>\n",
       "      <td>0.390000</td>\n",
       "      <td>0.090000</td>\n",
       "      <td>1.900000</td>\n",
       "      <td>0.070000</td>\n",
       "      <td>7.000000</td>\n",
       "      <td>22.000000</td>\n",
       "      <td>0.995600</td>\n",
       "      <td>3.210000</td>\n",
       "      <td>0.550000</td>\n",
       "      <td>9.500000</td>\n",
       "      <td>5.000000</td>\n",
       "    </tr>\n",
       "    <tr>\n",
       "      <th>50%</th>\n",
       "      <td>7.900000</td>\n",
       "      <td>0.520000</td>\n",
       "      <td>0.260000</td>\n",
       "      <td>2.200000</td>\n",
       "      <td>0.079000</td>\n",
       "      <td>14.000000</td>\n",
       "      <td>38.000000</td>\n",
       "      <td>0.996750</td>\n",
       "      <td>3.310000</td>\n",
       "      <td>0.620000</td>\n",
       "      <td>10.200000</td>\n",
       "      <td>6.000000</td>\n",
       "    </tr>\n",
       "    <tr>\n",
       "      <th>75%</th>\n",
       "      <td>9.200000</td>\n",
       "      <td>0.640000</td>\n",
       "      <td>0.420000</td>\n",
       "      <td>2.600000</td>\n",
       "      <td>0.090000</td>\n",
       "      <td>21.000000</td>\n",
       "      <td>62.000000</td>\n",
       "      <td>0.997835</td>\n",
       "      <td>3.400000</td>\n",
       "      <td>0.730000</td>\n",
       "      <td>11.100000</td>\n",
       "      <td>6.000000</td>\n",
       "    </tr>\n",
       "    <tr>\n",
       "      <th>max</th>\n",
       "      <td>15.900000</td>\n",
       "      <td>1.580000</td>\n",
       "      <td>1.000000</td>\n",
       "      <td>15.500000</td>\n",
       "      <td>0.611000</td>\n",
       "      <td>72.000000</td>\n",
       "      <td>289.000000</td>\n",
       "      <td>1.003690</td>\n",
       "      <td>4.010000</td>\n",
       "      <td>2.000000</td>\n",
       "      <td>14.900000</td>\n",
       "      <td>8.000000</td>\n",
       "    </tr>\n",
       "  </tbody>\n",
       "</table>\n",
       "</div>"
      ],
      "text/plain": [
       "       fixed acidity  volatile acidity  citric acid  residual sugar  \\\n",
       "count    1599.000000       1599.000000  1599.000000     1599.000000   \n",
       "mean        8.319637          0.527821     0.270976        2.538806   \n",
       "std         1.741096          0.179060     0.194801        1.409928   \n",
       "min         4.600000          0.120000     0.000000        0.900000   \n",
       "25%         7.100000          0.390000     0.090000        1.900000   \n",
       "50%         7.900000          0.520000     0.260000        2.200000   \n",
       "75%         9.200000          0.640000     0.420000        2.600000   \n",
       "max        15.900000          1.580000     1.000000       15.500000   \n",
       "\n",
       "         chlorides  free sulfur dioxide  total sulfur dioxide      density  \\\n",
       "count  1599.000000          1599.000000           1599.000000  1599.000000   \n",
       "mean      0.087467            15.874922             46.467792     0.996747   \n",
       "std       0.047065            10.460157             32.895324     0.001887   \n",
       "min       0.012000             1.000000              6.000000     0.990070   \n",
       "25%       0.070000             7.000000             22.000000     0.995600   \n",
       "50%       0.079000            14.000000             38.000000     0.996750   \n",
       "75%       0.090000            21.000000             62.000000     0.997835   \n",
       "max       0.611000            72.000000            289.000000     1.003690   \n",
       "\n",
       "                pH    sulphates      alcohol      quality  \n",
       "count  1599.000000  1599.000000  1599.000000  1599.000000  \n",
       "mean      3.311113     0.658149    10.422983     5.636023  \n",
       "std       0.154386     0.169507     1.065668     0.807569  \n",
       "min       2.740000     0.330000     8.400000     3.000000  \n",
       "25%       3.210000     0.550000     9.500000     5.000000  \n",
       "50%       3.310000     0.620000    10.200000     6.000000  \n",
       "75%       3.400000     0.730000    11.100000     6.000000  \n",
       "max       4.010000     2.000000    14.900000     8.000000  "
      ]
     },
     "execution_count": 4,
     "metadata": {},
     "output_type": "execute_result"
    }
   ],
   "source": [
    "df.describe()"
   ]
  },
  {
   "cell_type": "code",
   "execution_count": 5,
   "metadata": {},
   "outputs": [
    {
     "data": {
      "text/plain": [
       "fixed acidity           0\n",
       "volatile acidity        0\n",
       "citric acid             0\n",
       "residual sugar          0\n",
       "chlorides               0\n",
       "free sulfur dioxide     0\n",
       "total sulfur dioxide    0\n",
       "density                 0\n",
       "pH                      0\n",
       "sulphates               0\n",
       "alcohol                 0\n",
       "quality                 0\n",
       "dtype: int64"
      ]
     },
     "execution_count": 5,
     "metadata": {},
     "output_type": "execute_result"
    }
   ],
   "source": [
    "df.isnull().sum()"
   ]
  },
  {
   "cell_type": "code",
   "execution_count": 6,
   "metadata": {},
   "outputs": [
    {
     "name": "stdout",
     "output_type": "stream",
     "text": [
      "0    86.429018\n",
      "1    13.570982\n",
      "Name: is good, dtype: float64\n"
     ]
    }
   ],
   "source": [
    "df[\"is good\"] = 0\n",
    "df.loc[df[\"quality\"]>=7,\"is good\"] = 1\n",
    "for p in ax.patches:\n",
    "    ax.annotate(str(p.get_height()), (p.get_x(), p.get_height() * 0.5), color=\"white\")\n",
    "    \n",
    "print(df[\"is good\"].value_counts(normalize=True)*100)"
   ]
  },
  {
   "cell_type": "code",
   "execution_count": 7,
   "metadata": {},
   "outputs": [
    {
     "name": "stdout",
     "output_type": "stream",
     "text": [
      "Features: \n",
      "['fixed acidity' 'volatile acidity' 'citric acid' 'residual sugar'\n",
      " 'chlorides' 'free sulfur dioxide' 'total sulfur dioxide' 'density' 'pH'\n",
      " 'sulphates' 'alcohol'], \n",
      "\n",
      "Labels: \n",
      "is good\n"
     ]
    }
   ],
   "source": [
    "features = df.columns[:-2]\n",
    "output = df.columns[-1]\n",
    "print(\"Features: \\n{}, \\n\\nLabels: \\n{}\".format(features.values,output))"
   ]
  },
  {
   "cell_type": "code",
   "execution_count": 8,
   "metadata": {},
   "outputs": [],
   "source": [
    "X = df[features].values\n",
    "y = df[output].values"
   ]
  },
  {
   "cell_type": "code",
   "execution_count": 9,
   "metadata": {},
   "outputs": [
    {
     "name": "stdout",
     "output_type": "stream",
     "text": [
      "Training size: 8789, Testing size: 8800\n"
     ]
    }
   ],
   "source": [
    "X_train, X_test, y_train, y_test = train_test_split(X,y, test_size=0.50)\n",
    "print('Training size: {}, Testing size: {}'.format(X_train.size,X_test.size))"
   ]
  },
  {
   "cell_type": "code",
   "execution_count": 10,
   "metadata": {},
   "outputs": [],
   "source": [
    "sc_X = StandardScaler()\n",
    "X_train = sc_X.fit_transform(X_train)\n",
    "X_test = sc_X.transform(X_test)"
   ]
  },
  {
   "cell_type": "code",
   "execution_count": 11,
   "metadata": {},
   "outputs": [],
   "source": [
    "def get_probabilty_output(X_test, model_fitted, value_count=10):\n",
    "    def highlight_max(data, color='grayscale'):\n",
    "        attr = 'background-color: {}'.format(color)\n",
    "        if data.ndim == 1:  # Series from .apply(axis=0) or axis=1\n",
    "            is_max = data == data.max()\n",
    "            return [attr if v else '' for v in is_max]\n",
    "        else:  # from .apply(axis=None)\n",
    "            is_max = data == data.max().max()\n",
    "            return pd.DataFrame(np.where(is_max, attr, ''), index=data.index, columns=data.columns)\n",
    "        \n",
    "    y_scores = model_fitted.predict_proba(X_test)\n",
    "    prob_df = pd.DataFrame(y_scores*100).head(value_count)\n",
    "    styled_df = prob_df.style.background_gradient(cmap='Greys_r')\n",
    "    styled_df = styled_df.highlight_max(axis=1, color='grayscale')\n",
    "    return styled_df"
   ]
  },
  {
   "cell_type": "code",
   "execution_count": 12,
   "metadata": {},
   "outputs": [],
   "source": [
    "def get_classification_report(y_test,predictions,average=\"macro\"):\n",
    "    #Confusion Matrix\n",
    "    cm = confusion_matrix(y_test, predictions)\n",
    "    sns.heatmap(cm, annot=True, cmap=\"gray\")\n",
    "    plt.title(\"Confusion Matrix\")\n",
    "    plt.style.use('grayscale')\n",
    "    \n",
    "    acc = accuracy_score(y_test, predictions)\n",
    "    pre = precision_score(y_test, predictions, average=average)\n",
    "    rec = recall_score(y_test, predictions, average=average)\n",
    "    # Prediction Report\n",
    "    print(classification_report(y_test, predictions, digits=3))\n",
    "    print(\"Overall Accuracy:\", acc)\n",
    "    print(\"Overall Precision:\", pre)\n",
    "    print(\"Overall Recall:\", rec)\n",
    "    \n",
    "    return acc,pre,rec"
   ]
  },
  {
   "cell_type": "code",
   "execution_count": 13,
   "metadata": {},
   "outputs": [],
   "source": [
    "def get_classification_ROC(X,y,model,test_size,model_fitted=False,random_state=0):\n",
    "    \n",
    "    def check_fitted(clf): \n",
    "        return hasattr(clf, \"classes_\")\n",
    "    \n",
    "    if(len(np.unique(y)) == 2):\n",
    "        #Binary Classifier\n",
    "        if not check_fitted(model):\n",
    "            model = model.fit(X,y)\n",
    "        \n",
    "        plot_roc_curve(model, X, y)\n",
    "        y_score = model.predict_proba(X)[:, 1]\n",
    "        fpr, tpr, threshold = roc_curve(y, y_score)\n",
    "        auc = roc_auc_score(y, y_score)\n",
    "        return auc\n",
    "#         print(\"False Positive Rate: {} \\nTrue Positive Rate: {} \\nThreshold:{}\".format(fpr,tpr,threshold))\n",
    "    \n",
    "    else:\n",
    "        #Multiclass Classifier\n",
    "        y_bin = label_binarize(y, classes=np.unique(y))\n",
    "        n_classes = y_bin.shape[1]\n",
    "\n",
    "        # shuffle and split training and test sets\n",
    "        X_train, X_test, y_train, y_test = train_test_split(X, y_bin, test_size=test_size, random_state=random_state)\n",
    "\n",
    "        # Learn to predict each class against the other\n",
    "        classifier = OneVsRestClassifier(model)\n",
    "        model_fitted = classifier.fit(X_train, y_train)\n",
    "        try:\n",
    "            y_score = model_fitted.decision_function(X_test)\n",
    "        except:\n",
    "            y_score = model_fitted.predict_proba(X_test)\n",
    "\n",
    "\n",
    "\n",
    "        # Compute ROC curve and ROC area for each class\n",
    "        fpr = dict()\n",
    "        tpr = dict()\n",
    "        roc_auc = dict()\n",
    "        for i in range(n_classes):\n",
    "            fpr[i], tpr[i], _ = roc_curve(y_test[:, i], y_score[:, i])\n",
    "            roc_auc[i] = auc(fpr[i], tpr[i])\n",
    "\n",
    "\n",
    "        # Compute micro-average ROC curve and ROC area\n",
    "        fpr[\"micro\"], tpr[\"micro\"], _ = roc_curve(y_test.ravel(), y_score.ravel())\n",
    "        roc_auc[\"micro\"] = auc(fpr[\"micro\"], tpr[\"micro\"])\n",
    "\n",
    "\n",
    "        plt.figure()\n",
    "        lw = 2\n",
    "        plt.plot(fpr[2], tpr[2], color='darkorange',\n",
    "                 lw=lw, label='ROC curve (area = %0.2f)' % roc_auc[2])\n",
    "        plt.plot([0, 1], [0, 1], color='navy', lw=lw, linestyle='--')\n",
    "        plt.xlim([0.0, 1.0])\n",
    "        plt.ylim([0.0, 1.05])\n",
    "        plt.xlabel('False Positive Rate')\n",
    "        plt.ylabel('True Positive Rate')\n",
    "        plt.title('Receiver operating characteristic averaged')\n",
    "        plt.legend(loc=\"lower right\")\n",
    "        plt.show()\n",
    "\n",
    "\n",
    "\n",
    "        # First aggregate all false positive rates\n",
    "        all_fpr = np.unique(np.concatenate([fpr[i] for i in range(n_classes)]))\n",
    "\n",
    "        # Then interpolate all ROC curves at this points\n",
    "        mean_tpr = np.zeros_like(all_fpr)\n",
    "        for i in range(n_classes):\n",
    "            mean_tpr += interp(all_fpr, fpr[i], tpr[i])\n",
    "\n",
    "        # Finally average it and compute AUC\n",
    "        mean_tpr /= n_classes\n",
    "\n",
    "        fpr[\"macro\"] = all_fpr\n",
    "        tpr[\"macro\"] = mean_tpr\n",
    "        roc_auc[\"macro\"] = auc(fpr[\"macro\"], tpr[\"macro\"])\n",
    "\n",
    "        # Plot all ROC curves\n",
    "        plt.figure(figsize=(10,10))\n",
    "        plt.plot(fpr[\"micro\"], tpr[\"micro\"],\n",
    "                 label='micro-average ROC curve (area = {0:0.2f})'\n",
    "                       ''.format(roc_auc[\"micro\"]),\n",
    "                 color='deeppink', linestyle=':', linewidth=4)\n",
    "\n",
    "        plt.plot(fpr[\"macro\"], tpr[\"macro\"],\n",
    "                 label='macro-average ROC curve (area = {0:0.2f})'\n",
    "                       ''.format(roc_auc[\"macro\"]),\n",
    "                 color='navy', linestyle=':', linewidth=4)\n",
    "\n",
    "        colors = cycle(['aqua', 'darkorange', 'cornflowerblue', 'red', 'blue', 'purple', 'green'])\n",
    "        for i, color in zip(range(n_classes), colors):\n",
    "            plt.plot(fpr[i], tpr[i], color=color, lw=lw,\n",
    "                     label='ROC curve of class {0} (area = {1:0.2f})'\n",
    "                     ''.format(i, roc_auc[i]))\n",
    "\n",
    "        plt.plot([0, 1], [0, 1], 'k--', lw=lw)\n",
    "        plt.xlim([0.0, 1.0])\n",
    "        plt.ylim([0.0, 1.05])\n",
    "        plt.xlabel('False Positive Rate')\n",
    "        plt.ylabel('True Positive Rate')\n",
    "        plt.title('multi-class ROC (One vs All)')\n",
    "        plt.legend(loc=\"lower right\")\n",
    "        plt.style.use('grayscale')\n",
    "        plt.show()"
   ]
  },
  {
   "cell_type": "markdown",
   "metadata": {},
   "source": [
    "# Logistic Regression"
   ]
  },
  {
   "cell_type": "markdown",
   "metadata": {},
   "source": [
    "## Hyperparameter"
   ]
  },
  {
   "cell_type": "code",
   "execution_count": 14,
   "metadata": {},
   "outputs": [],
   "source": [
    "parameters_logreg = {\n",
    "    \"solver\" : ('newton-cg', 'lbfgs', 'liblinear', 'sag', 'saga'),\n",
    "    \"penalty\" : ('l1', 'l2', 'elasticnet', 'none'),\n",
    "    \"C\" : [0.01, 0.1, 1, 10, 1000]\n",
    "    \n",
    "}"
   ]
  },
  {
   "cell_type": "markdown",
   "metadata": {},
   "source": [
    "## Parameter 1"
   ]
  },
  {
   "cell_type": "markdown",
   "metadata": {},
   "source": [
    "### Memasukkan parameter kedalam data train"
   ]
  },
  {
   "cell_type": "code",
   "execution_count": 15,
   "metadata": {},
   "outputs": [
    {
     "data": {
      "text/plain": [
       "LogisticRegression(C=0.01, penalty='l1', solver='liblinear')"
      ]
     },
     "execution_count": 15,
     "metadata": {},
     "output_type": "execute_result"
    }
   ],
   "source": [
    "lr = LogisticRegression(C = 0.01, solver = 'liblinear', penalty = 'l1')\n",
    "lr.fit(X_train,y_train)"
   ]
  },
  {
   "cell_type": "markdown",
   "metadata": {},
   "source": [
    "### Memprediksi hasil tes yang dilakukan"
   ]
  },
  {
   "cell_type": "code",
   "execution_count": 16,
   "metadata": {},
   "outputs": [],
   "source": [
    "yhat = lr.predict(X_test)\n",
    "yhat_prob = lr.predict_proba(X_test)"
   ]
  },
  {
   "cell_type": "markdown",
   "metadata": {},
   "source": [
    "### Mendapatkan hasil dan memunculkannya"
   ]
  },
  {
   "cell_type": "code",
   "execution_count": 17,
   "metadata": {
    "scrolled": true
   },
   "outputs": [
    {
     "data": {
      "text/html": [
       "<style  type=\"text/css\" >\n",
       "#T_61515_row0_col0,#T_61515_row6_col0,#T_61515_row7_col0,#T_61515_row13_col0{\n",
       "            background-color:  #adadad;\n",
       "            color:  #000000;\n",
       "            background-color:  grayscale;\n",
       "        }#T_61515_row0_col1,#T_61515_row6_col1,#T_61515_row7_col1,#T_61515_row13_col1{\n",
       "            background-color:  #828282;\n",
       "            color:  #000000;\n",
       "        }#T_61515_row1_col0{\n",
       "            background-color:  #e9e9e9;\n",
       "            color:  #000000;\n",
       "            background-color:  grayscale;\n",
       "        }#T_61515_row1_col1{\n",
       "            background-color:  #323232;\n",
       "            color:  #f1f1f1;\n",
       "        }#T_61515_row2_col0{\n",
       "            background-color:  #bbbbbb;\n",
       "            color:  #000000;\n",
       "            background-color:  grayscale;\n",
       "        }#T_61515_row2_col1{\n",
       "            background-color:  #757575;\n",
       "            color:  #000000;\n",
       "        }#T_61515_row3_col0{\n",
       "            background-color:  #000000;\n",
       "            color:  #f1f1f1;\n",
       "            background-color:  grayscale;\n",
       "        }#T_61515_row3_col1{\n",
       "            background-color:  #ffffff;\n",
       "            color:  #000000;\n",
       "        }#T_61515_row4_col0{\n",
       "            background-color:  #8e8e8e;\n",
       "            color:  #000000;\n",
       "            background-color:  grayscale;\n",
       "        }#T_61515_row4_col1{\n",
       "            background-color:  #9f9f9f;\n",
       "            color:  #000000;\n",
       "        }#T_61515_row5_col0{\n",
       "            background-color:  #fafafa;\n",
       "            color:  #000000;\n",
       "            background-color:  grayscale;\n",
       "        }#T_61515_row5_col1{\n",
       "            background-color:  #0d0d0d;\n",
       "            color:  #f1f1f1;\n",
       "        }#T_61515_row8_col0{\n",
       "            background-color:  #f4f4f4;\n",
       "            color:  #000000;\n",
       "            background-color:  grayscale;\n",
       "        }#T_61515_row8_col1{\n",
       "            background-color:  #1b1b1b;\n",
       "            color:  #f1f1f1;\n",
       "        }#T_61515_row9_col0{\n",
       "            background-color:  #a4a4a4;\n",
       "            color:  #000000;\n",
       "            background-color:  grayscale;\n",
       "        }#T_61515_row9_col1{\n",
       "            background-color:  #898989;\n",
       "            color:  #000000;\n",
       "        }#T_61515_row10_col0{\n",
       "            background-color:  #ffffff;\n",
       "            color:  #000000;\n",
       "            background-color:  grayscale;\n",
       "        }#T_61515_row10_col1{\n",
       "            background-color:  #000000;\n",
       "            color:  #f1f1f1;\n",
       "        }#T_61515_row11_col0{\n",
       "            background-color:  #3a3a3a;\n",
       "            color:  #f1f1f1;\n",
       "            background-color:  grayscale;\n",
       "        }#T_61515_row11_col1{\n",
       "            background-color:  #e5e5e5;\n",
       "            color:  #000000;\n",
       "        }#T_61515_row12_col0{\n",
       "            background-color:  #f1f1f1;\n",
       "            color:  #000000;\n",
       "            background-color:  grayscale;\n",
       "        }#T_61515_row12_col1{\n",
       "            background-color:  #222222;\n",
       "            color:  #f1f1f1;\n",
       "        }#T_61515_row14_col0{\n",
       "            background-color:  #d2d2d2;\n",
       "            color:  #000000;\n",
       "            background-color:  grayscale;\n",
       "        }#T_61515_row14_col1{\n",
       "            background-color:  #5b5b5b;\n",
       "            color:  #f1f1f1;\n",
       "        }</style><table id=\"T_61515_\" ><thead>    <tr>        <th class=\"blank level0\" ></th>        <th class=\"col_heading level0 col0\" >0</th>        <th class=\"col_heading level0 col1\" >1</th>    </tr></thead><tbody>\n",
       "                <tr>\n",
       "                        <th id=\"T_61515_level0_row0\" class=\"row_heading level0 row0\" >0</th>\n",
       "                        <td id=\"T_61515_row0_col0\" class=\"data row0 col0\" >73.238557</td>\n",
       "                        <td id=\"T_61515_row0_col1\" class=\"data row0 col1\" >26.761443</td>\n",
       "            </tr>\n",
       "            <tr>\n",
       "                        <th id=\"T_61515_level0_row1\" class=\"row_heading level0 row1\" >1</th>\n",
       "                        <td id=\"T_61515_row1_col0\" class=\"data row1 col0\" >75.252870</td>\n",
       "                        <td id=\"T_61515_row1_col1\" class=\"data row1 col1\" >24.747130</td>\n",
       "            </tr>\n",
       "            <tr>\n",
       "                        <th id=\"T_61515_level0_row2\" class=\"row_heading level0 row2\" >2</th>\n",
       "                        <td id=\"T_61515_row2_col0\" class=\"data row2 col0\" >73.612427</td>\n",
       "                        <td id=\"T_61515_row2_col1\" class=\"data row2 col1\" >26.387573</td>\n",
       "            </tr>\n",
       "            <tr>\n",
       "                        <th id=\"T_61515_level0_row3\" class=\"row_heading level0 row3\" >3</th>\n",
       "                        <td id=\"T_61515_row3_col0\" class=\"data row3 col0\" >68.911616</td>\n",
       "                        <td id=\"T_61515_row3_col1\" class=\"data row3 col1\" >31.088384</td>\n",
       "            </tr>\n",
       "            <tr>\n",
       "                        <th id=\"T_61515_level0_row4\" class=\"row_heading level0 row4\" >4</th>\n",
       "                        <td id=\"T_61515_row4_col0\" class=\"data row4 col0\" >72.480808</td>\n",
       "                        <td id=\"T_61515_row4_col1\" class=\"data row4 col1\" >27.519192</td>\n",
       "            </tr>\n",
       "            <tr>\n",
       "                        <th id=\"T_61515_level0_row5\" class=\"row_heading level0 row5\" >5</th>\n",
       "                        <td id=\"T_61515_row5_col0\" class=\"data row5 col0\" >76.134119</td>\n",
       "                        <td id=\"T_61515_row5_col1\" class=\"data row5 col1\" >23.865881</td>\n",
       "            </tr>\n",
       "            <tr>\n",
       "                        <th id=\"T_61515_level0_row6\" class=\"row_heading level0 row6\" >6</th>\n",
       "                        <td id=\"T_61515_row6_col0\" class=\"data row6 col0\" >73.238557</td>\n",
       "                        <td id=\"T_61515_row6_col1\" class=\"data row6 col1\" >26.761443</td>\n",
       "            </tr>\n",
       "            <tr>\n",
       "                        <th id=\"T_61515_level0_row7\" class=\"row_heading level0 row7\" >7</th>\n",
       "                        <td id=\"T_61515_row7_col0\" class=\"data row7 col0\" >73.238557</td>\n",
       "                        <td id=\"T_61515_row7_col1\" class=\"data row7 col1\" >26.761443</td>\n",
       "            </tr>\n",
       "            <tr>\n",
       "                        <th id=\"T_61515_level0_row8\" class=\"row_heading level0 row8\" >8</th>\n",
       "                        <td id=\"T_61515_row8_col0\" class=\"data row8 col0\" >75.784223</td>\n",
       "                        <td id=\"T_61515_row8_col1\" class=\"data row8 col1\" >24.215777</td>\n",
       "            </tr>\n",
       "            <tr>\n",
       "                        <th id=\"T_61515_level0_row9\" class=\"row_heading level0 row9\" >9</th>\n",
       "                        <td id=\"T_61515_row9_col0\" class=\"data row9 col0\" >73.050366</td>\n",
       "                        <td id=\"T_61515_row9_col1\" class=\"data row9 col1\" >26.949634</td>\n",
       "            </tr>\n",
       "            <tr>\n",
       "                        <th id=\"T_61515_level0_row10\" class=\"row_heading level0 row10\" >10</th>\n",
       "                        <td id=\"T_61515_row10_col0\" class=\"data row10 col0\" >76.480528</td>\n",
       "                        <td id=\"T_61515_row10_col1\" class=\"data row10 col1\" >23.519472</td>\n",
       "            </tr>\n",
       "            <tr>\n",
       "                        <th id=\"T_61515_level0_row11\" class=\"row_heading level0 row11\" >11</th>\n",
       "                        <td id=\"T_61515_row11_col0\" class=\"data row11 col0\" >70.329822</td>\n",
       "                        <td id=\"T_61515_row11_col1\" class=\"data row11 col1\" >29.670178</td>\n",
       "            </tr>\n",
       "            <tr>\n",
       "                        <th id=\"T_61515_level0_row12\" class=\"row_heading level0 row12\" >12</th>\n",
       "                        <td id=\"T_61515_row12_col0\" class=\"data row12 col0\" >75.607972</td>\n",
       "                        <td id=\"T_61515_row12_col1\" class=\"data row12 col1\" >24.392028</td>\n",
       "            </tr>\n",
       "            <tr>\n",
       "                        <th id=\"T_61515_level0_row13\" class=\"row_heading level0 row13\" >13</th>\n",
       "                        <td id=\"T_61515_row13_col0\" class=\"data row13 col0\" >73.238557</td>\n",
       "                        <td id=\"T_61515_row13_col1\" class=\"data row13 col1\" >26.761443</td>\n",
       "            </tr>\n",
       "            <tr>\n",
       "                        <th id=\"T_61515_level0_row14\" class=\"row_heading level0 row14\" >14</th>\n",
       "                        <td id=\"T_61515_row14_col0\" class=\"data row14 col0\" >74.350044</td>\n",
       "                        <td id=\"T_61515_row14_col1\" class=\"data row14 col1\" >25.649956</td>\n",
       "            </tr>\n",
       "    </tbody></table>"
      ],
      "text/plain": [
       "<pandas.io.formats.style.Styler at 0x1d89a983f10>"
      ]
     },
     "execution_count": 17,
     "metadata": {},
     "output_type": "execute_result"
    }
   ],
   "source": [
    "get_probabilty_output(X_test=X_test, model_fitted=lr, value_count=15)"
   ]
  },
  {
   "cell_type": "markdown",
   "metadata": {},
   "source": [
    "### Mengkalkulasikan akurasi dari parameter beserta Confussion Matrix"
   ]
  },
  {
   "cell_type": "code",
   "execution_count": 18,
   "metadata": {
    "scrolled": true
   },
   "outputs": [
    {
     "name": "stdout",
     "output_type": "stream",
     "text": [
      "              precision    recall  f1-score   support\n",
      "\n",
      "           0      0.864     1.000     0.927       691\n",
      "           1      0.000     0.000     0.000       109\n",
      "\n",
      "    accuracy                          0.864       800\n",
      "   macro avg      0.432     0.500     0.463       800\n",
      "weighted avg      0.746     0.864     0.801       800\n",
      "\n",
      "Overall Accuracy: 0.86375\n",
      "Overall Precision: 0.431875\n",
      "Overall Recall: 0.5\n"
     ]
    },
    {
     "name": "stderr",
     "output_type": "stream",
     "text": [
      "C:\\Users\\aurel\\anaconda3\\lib\\site-packages\\sklearn\\metrics\\_classification.py:1245: UndefinedMetricWarning: Precision is ill-defined and being set to 0.0 in labels with no predicted samples. Use `zero_division` parameter to control this behavior.\n",
      "  _warn_prf(average, modifier, msg_start, len(result))\n",
      "C:\\Users\\aurel\\anaconda3\\lib\\site-packages\\sklearn\\metrics\\_classification.py:1245: UndefinedMetricWarning: Precision and F-score are ill-defined and being set to 0.0 in labels with no predicted samples. Use `zero_division` parameter to control this behavior.\n",
      "  _warn_prf(average, modifier, msg_start, len(result))\n",
      "C:\\Users\\aurel\\anaconda3\\lib\\site-packages\\sklearn\\metrics\\_classification.py:1245: UndefinedMetricWarning: Precision and F-score are ill-defined and being set to 0.0 in labels with no predicted samples. Use `zero_division` parameter to control this behavior.\n",
      "  _warn_prf(average, modifier, msg_start, len(result))\n",
      "C:\\Users\\aurel\\anaconda3\\lib\\site-packages\\sklearn\\metrics\\_classification.py:1245: UndefinedMetricWarning: Precision and F-score are ill-defined and being set to 0.0 in labels with no predicted samples. Use `zero_division` parameter to control this behavior.\n",
      "  _warn_prf(average, modifier, msg_start, len(result))\n"
     ]
    },
    {
     "data": {
      "image/png": "[encoded data removed]",
      "text/plain": [
       "<Figure size 432x288 with 2 Axes>"
      ]
     },
     "metadata": {},
     "output_type": "display_data"
    }
   ],
   "source": [
    "acc_LR,pre_LR,rec_LR = get_classification_report(y_test,yhat)"
   ]
  },
  {
   "cell_type": "markdown",
   "metadata": {},
   "source": [
    "### Mengkalkulasikan nilai AUC pada parameter"
   ]
  },
  {
   "cell_type": "code",
   "execution_count": 19,
   "metadata": {},
   "outputs": [
    {
     "data": {
      "image/png": "[encoded data removed]",
      "text/plain": [
       "<Figure size 432x288 with 1 Axes>"
      ]
     },
     "metadata": {},
     "output_type": "display_data"
    }
   ],
   "source": [
    "auc_LR = get_classification_ROC(X_test,y_test,lr,test_size=0.5,random_state=0)"
   ]
  },
  {
   "cell_type": "markdown",
   "metadata": {},
   "source": [
    "## Parameter 2"
   ]
  },
  {
   "cell_type": "markdown",
   "metadata": {},
   "source": [
    "### Memasukkan parameter kedalam data train, Memprediksi hasil tes yang dilakukan, Memunculkan hasil dalam bentuk tabel"
   ]
  },
  {
   "cell_type": "code",
   "execution_count": 20,
   "metadata": {},
   "outputs": [
    {
     "data": {
      "text/html": [
       "<style  type=\"text/css\" >\n",
       "#T_d38a5_row0_col0{\n",
       "            background-color:  #d8d8d8;\n",
       "            color:  #000000;\n",
       "            background-color:  grayscale;\n",
       "        }#T_d38a5_row0_col1{\n",
       "            background-color:  #535353;\n",
       "            color:  #f1f1f1;\n",
       "        }#T_d38a5_row1_col0{\n",
       "            background-color:  #fdfdfd;\n",
       "            color:  #000000;\n",
       "            background-color:  grayscale;\n",
       "        }#T_d38a5_row1_col1{\n",
       "            background-color:  #060606;\n",
       "            color:  #f1f1f1;\n",
       "        }#T_d38a5_row2_col0{\n",
       "            background-color:  #e1e1e1;\n",
       "            color:  #000000;\n",
       "            background-color:  grayscale;\n",
       "        }#T_d38a5_row2_col1{\n",
       "            background-color:  #414141;\n",
       "            color:  #f1f1f1;\n",
       "        }#T_d38a5_row3_col0{\n",
       "            background-color:  #9f9f9f;\n",
       "            color:  #000000;\n",
       "            background-color:  grayscale;\n",
       "        }#T_d38a5_row3_col1{\n",
       "            background-color:  #8e8e8e;\n",
       "            color:  #000000;\n",
       "        }#T_d38a5_row4_col0{\n",
       "            background-color:  #f0f0f0;\n",
       "            color:  #000000;\n",
       "            background-color:  grayscale;\n",
       "        }#T_d38a5_row4_col1{\n",
       "            background-color:  #242424;\n",
       "            color:  #f1f1f1;\n",
       "        }#T_d38a5_row5_col0,#T_d38a5_row9_col0,#T_d38a5_row12_col0,#T_d38a5_row13_col1{\n",
       "            background-color:  #ffffff;\n",
       "            color:  #000000;\n",
       "            background-color:  grayscale;\n",
       "        }#T_d38a5_row5_col1,#T_d38a5_row13_col0{\n",
       "            background-color:  #000000;\n",
       "            color:  #f1f1f1;\n",
       "        }#T_d38a5_row6_col0,#T_d38a5_row7_col0,#T_d38a5_row11_col0{\n",
       "            background-color:  #fbfbfb;\n",
       "            color:  #000000;\n",
       "            background-color:  grayscale;\n",
       "        }#T_d38a5_row6_col1,#T_d38a5_row7_col1{\n",
       "            background-color:  #0a0a0a;\n",
       "            color:  #f1f1f1;\n",
       "        }#T_d38a5_row8_col0{\n",
       "            background-color:  #e9e9e9;\n",
       "            color:  #000000;\n",
       "            background-color:  grayscale;\n",
       "        }#T_d38a5_row8_col1{\n",
       "            background-color:  #323232;\n",
       "            color:  #f1f1f1;\n",
       "        }#T_d38a5_row9_col1,#T_d38a5_row12_col1{\n",
       "            background-color:  #010101;\n",
       "            color:  #f1f1f1;\n",
       "        }#T_d38a5_row10_col0{\n",
       "            background-color:  #fefefe;\n",
       "            color:  #000000;\n",
       "            background-color:  grayscale;\n",
       "        }#T_d38a5_row10_col1{\n",
       "            background-color:  #020202;\n",
       "            color:  #f1f1f1;\n",
       "        }#T_d38a5_row11_col1{\n",
       "            background-color:  #090909;\n",
       "            color:  #f1f1f1;\n",
       "        }#T_d38a5_row14_col0{\n",
       "            background-color:  #f9f9f9;\n",
       "            color:  #000000;\n",
       "            background-color:  grayscale;\n",
       "        }#T_d38a5_row14_col1{\n",
       "            background-color:  #0f0f0f;\n",
       "            color:  #f1f1f1;\n",
       "        }</style><table id=\"T_d38a5_\" ><thead>    <tr>        <th class=\"blank level0\" ></th>        <th class=\"col_heading level0 col0\" >0</th>        <th class=\"col_heading level0 col1\" >1</th>    </tr></thead><tbody>\n",
       "                <tr>\n",
       "                        <th id=\"T_d38a5_level0_row0\" class=\"row_heading level0 row0\" >0</th>\n",
       "                        <td id=\"T_d38a5_row0_col0\" class=\"data row0 col0\" >84.869408</td>\n",
       "                        <td id=\"T_d38a5_row0_col1\" class=\"data row0 col1\" >15.130592</td>\n",
       "            </tr>\n",
       "            <tr>\n",
       "                        <th id=\"T_d38a5_level0_row1\" class=\"row_heading level0 row1\" >1</th>\n",
       "                        <td id=\"T_d38a5_row1_col0\" class=\"data row1 col0\" >98.241470</td>\n",
       "                        <td id=\"T_d38a5_row1_col1\" class=\"data row1 col1\" >1.758530</td>\n",
       "            </tr>\n",
       "            <tr>\n",
       "                        <th id=\"T_d38a5_level0_row2\" class=\"row_heading level0 row2\" >2</th>\n",
       "                        <td id=\"T_d38a5_row2_col0\" class=\"data row2 col0\" >87.906622</td>\n",
       "                        <td id=\"T_d38a5_row2_col1\" class=\"data row2 col1\" >12.093378</td>\n",
       "            </tr>\n",
       "            <tr>\n",
       "                        <th id=\"T_d38a5_level0_row3\" class=\"row_heading level0 row3\" >3</th>\n",
       "                        <td id=\"T_d38a5_row3_col0\" class=\"data row3 col0\" >72.618069</td>\n",
       "                        <td id=\"T_d38a5_row3_col1\" class=\"data row3 col1\" >27.381931</td>\n",
       "            </tr>\n",
       "            <tr>\n",
       "                        <th id=\"T_d38a5_level0_row4\" class=\"row_heading level0 row4\" >4</th>\n",
       "                        <td id=\"T_d38a5_row4_col0\" class=\"data row4 col0\" >92.429270</td>\n",
       "                        <td id=\"T_d38a5_row4_col1\" class=\"data row4 col1\" >7.570730</td>\n",
       "            </tr>\n",
       "            <tr>\n",
       "                        <th id=\"T_d38a5_level0_row5\" class=\"row_heading level0 row5\" >5</th>\n",
       "                        <td id=\"T_d38a5_row5_col0\" class=\"data row5 col0\" >99.527315</td>\n",
       "                        <td id=\"T_d38a5_row5_col1\" class=\"data row5 col1\" >0.472685</td>\n",
       "            </tr>\n",
       "            <tr>\n",
       "                        <th id=\"T_d38a5_level0_row6\" class=\"row_heading level0 row6\" >6</th>\n",
       "                        <td id=\"T_d38a5_row6_col0\" class=\"data row6 col0\" >97.454349</td>\n",
       "                        <td id=\"T_d38a5_row6_col1\" class=\"data row6 col1\" >2.545651</td>\n",
       "            </tr>\n",
       "            <tr>\n",
       "                        <th id=\"T_d38a5_level0_row7\" class=\"row_heading level0 row7\" >7</th>\n",
       "                        <td id=\"T_d38a5_row7_col0\" class=\"data row7 col0\" >97.454349</td>\n",
       "                        <td id=\"T_d38a5_row7_col1\" class=\"data row7 col1\" >2.545651</td>\n",
       "            </tr>\n",
       "            <tr>\n",
       "                        <th id=\"T_d38a5_level0_row8\" class=\"row_heading level0 row8\" >8</th>\n",
       "                        <td id=\"T_d38a5_row8_col0\" class=\"data row8 col0\" >90.371984</td>\n",
       "                        <td id=\"T_d38a5_row8_col1\" class=\"data row8 col1\" >9.628016</td>\n",
       "            </tr>\n",
       "            <tr>\n",
       "                        <th id=\"T_d38a5_level0_row9\" class=\"row_heading level0 row9\" >9</th>\n",
       "                        <td id=\"T_d38a5_row9_col0\" class=\"data row9 col0\" >99.171290</td>\n",
       "                        <td id=\"T_d38a5_row9_col1\" class=\"data row9 col1\" >0.828710</td>\n",
       "            </tr>\n",
       "            <tr>\n",
       "                        <th id=\"T_d38a5_level0_row10\" class=\"row_heading level0 row10\" >10</th>\n",
       "                        <td id=\"T_d38a5_row10_col0\" class=\"data row10 col0\" >98.865333</td>\n",
       "                        <td id=\"T_d38a5_row10_col1\" class=\"data row10 col1\" >1.134667</td>\n",
       "            </tr>\n",
       "            <tr>\n",
       "                        <th id=\"T_d38a5_level0_row11\" class=\"row_heading level0 row11\" >11</th>\n",
       "                        <td id=\"T_d38a5_row11_col0\" class=\"data row11 col0\" >97.586993</td>\n",
       "                        <td id=\"T_d38a5_row11_col1\" class=\"data row11 col1\" >2.413007</td>\n",
       "            </tr>\n",
       "            <tr>\n",
       "                        <th id=\"T_d38a5_level0_row12\" class=\"row_heading level0 row12\" >12</th>\n",
       "                        <td id=\"T_d38a5_row12_col0\" class=\"data row12 col0\" >99.174978</td>\n",
       "                        <td id=\"T_d38a5_row12_col1\" class=\"data row12 col1\" >0.825022</td>\n",
       "            </tr>\n",
       "            <tr>\n",
       "                        <th id=\"T_d38a5_level0_row13\" class=\"row_heading level0 row13\" >13</th>\n",
       "                        <td id=\"T_d38a5_row13_col0\" class=\"data row13 col0\" >42.576856</td>\n",
       "                        <td id=\"T_d38a5_row13_col1\" class=\"data row13 col1\" >57.423144</td>\n",
       "            </tr>\n",
       "            <tr>\n",
       "                        <th id=\"T_d38a5_level0_row14\" class=\"row_heading level0 row14\" >14</th>\n",
       "                        <td id=\"T_d38a5_row14_col0\" class=\"data row14 col0\" >96.449673</td>\n",
       "                        <td id=\"T_d38a5_row14_col1\" class=\"data row14 col1\" >3.550327</td>\n",
       "            </tr>\n",
       "    </tbody></table>"
      ],
      "text/plain": [
       "<pandas.io.formats.style.Styler at 0x1d89ab1de50>"
      ]
     },
     "execution_count": 20,
     "metadata": {},
     "output_type": "execute_result"
    }
   ],
   "source": [
    "lr2 = LogisticRegression(C = 1, solver = 'liblinear', penalty = 'l2')\n",
    "lr2.fit(X_train,y_train)\n",
    "yhat2 = lr2.predict(X_test)\n",
    "yhat_prob = lr2.predict_proba(X_test)\n",
    "get_probabilty_output(X_test=X_test, model_fitted=lr2, value_count=15)"
   ]
  },
  {
   "cell_type": "markdown",
   "metadata": {},
   "source": [
    "### Mengkalkulasikan akurasi dari parameter beserta Confussion Matrix"
   ]
  },
  {
   "cell_type": "code",
   "execution_count": 21,
   "metadata": {},
   "outputs": [
    {
     "name": "stdout",
     "output_type": "stream",
     "text": [
      "              precision    recall  f1-score   support\n",
      "\n",
      "           0      0.898     0.957     0.926       691\n",
      "           1      0.531     0.312     0.393       109\n",
      "\n",
      "    accuracy                          0.869       800\n",
      "   macro avg      0.715     0.634     0.660       800\n",
      "weighted avg      0.848     0.869     0.854       800\n",
      "\n",
      "Overall Accuracy: 0.86875\n",
      "Overall Precision: 0.7146739130434783\n",
      "Overall Recall: 0.6342556327088782\n"
     ]
    },
    {
     "data": {
      "image/png": "[encoded data removed]",
      "text/plain": [
       "<Figure size 432x288 with 2 Axes>"
      ]
     },
     "metadata": {},
     "output_type": "display_data"
    }
   ],
   "source": [
    "acc_LR2,pre_LR2,rec_LR2 = get_classification_report(y_test,yhat2)"
   ]
  },
  {
   "cell_type": "markdown",
   "metadata": {},
   "source": [
    "### Mengkalkulasikan nilai AUC pada parameter"
   ]
  },
  {
   "cell_type": "code",
   "execution_count": 22,
   "metadata": {},
   "outputs": [
    {
     "data": {
      "image/png": "[encoded data removed]",
      "text/plain": [
       "<Figure size 432x288 with 1 Axes>"
      ]
     },
     "metadata": {},
     "output_type": "display_data"
    }
   ],
   "source": [
    "auc_LR2 = get_classification_ROC(X_test,y_test,lr2,test_size=0.5,random_state=0)"
   ]
  },
  {
   "cell_type": "markdown",
   "metadata": {},
   "source": [
    "## Parameter 3"
   ]
  },
  {
   "cell_type": "markdown",
   "metadata": {},
   "source": [
    "### Memasukkan parameter kedalam data train, Memprediksi hasil tes yang dilakukan, Memunculkan hasil dalam bentuk tabel"
   ]
  },
  {
   "cell_type": "code",
   "execution_count": 23,
   "metadata": {},
   "outputs": [
    {
     "data": {
      "text/html": [
       "<style  type=\"text/css\" >\n",
       "#T_90b7d_row0_col0{\n",
       "            background-color:  #cccccc;\n",
       "            color:  #000000;\n",
       "            background-color:  grayscale;\n",
       "        }#T_90b7d_row0_col1{\n",
       "            background-color:  #616161;\n",
       "            color:  #f1f1f1;\n",
       "        }#T_90b7d_row1_col0{\n",
       "            background-color:  #fcfcfc;\n",
       "            color:  #000000;\n",
       "            background-color:  grayscale;\n",
       "        }#T_90b7d_row1_col1{\n",
       "            background-color:  #070707;\n",
       "            color:  #f1f1f1;\n",
       "        }#T_90b7d_row2_col0{\n",
       "            background-color:  #dcdcdc;\n",
       "            color:  #000000;\n",
       "            background-color:  grayscale;\n",
       "        }#T_90b7d_row2_col1{\n",
       "            background-color:  #4b4b4b;\n",
       "            color:  #f1f1f1;\n",
       "        }#T_90b7d_row3_col0{\n",
       "            background-color:  #6f6f6f;\n",
       "            color:  #000000;\n",
       "            background-color:  grayscale;\n",
       "        }#T_90b7d_row3_col1{\n",
       "            background-color:  #c0c0c0;\n",
       "            color:  #000000;\n",
       "        }#T_90b7d_row4_col0{\n",
       "            background-color:  #e8e8e8;\n",
       "            color:  #000000;\n",
       "            background-color:  grayscale;\n",
       "        }#T_90b7d_row4_col1{\n",
       "            background-color:  #353535;\n",
       "            color:  #f1f1f1;\n",
       "        }#T_90b7d_row5_col0,#T_90b7d_row10_col0,#T_90b7d_row12_col0{\n",
       "            background-color:  #fefefe;\n",
       "            color:  #000000;\n",
       "            background-color:  grayscale;\n",
       "        }#T_90b7d_row5_col1,#T_90b7d_row10_col1,#T_90b7d_row12_col1{\n",
       "            background-color:  #030303;\n",
       "            color:  #f1f1f1;\n",
       "        }#T_90b7d_row6_col0,#T_90b7d_row7_col0{\n",
       "            background-color:  #fafafa;\n",
       "            color:  #000000;\n",
       "            background-color:  grayscale;\n",
       "        }#T_90b7d_row6_col1,#T_90b7d_row7_col1{\n",
       "            background-color:  #0d0d0d;\n",
       "            color:  #f1f1f1;\n",
       "        }#T_90b7d_row8_col0{\n",
       "            background-color:  #e3e3e3;\n",
       "            color:  #000000;\n",
       "            background-color:  grayscale;\n",
       "        }#T_90b7d_row8_col1{\n",
       "            background-color:  #3f3f3f;\n",
       "            color:  #f1f1f1;\n",
       "        }#T_90b7d_row9_col0,#T_90b7d_row13_col1{\n",
       "            background-color:  #ffffff;\n",
       "            color:  #000000;\n",
       "            background-color:  grayscale;\n",
       "        }#T_90b7d_row9_col1,#T_90b7d_row13_col0{\n",
       "            background-color:  #000000;\n",
       "            color:  #f1f1f1;\n",
       "        }#T_90b7d_row11_col0{\n",
       "            background-color:  #eeeeee;\n",
       "            color:  #000000;\n",
       "            background-color:  grayscale;\n",
       "        }#T_90b7d_row11_col1{\n",
       "            background-color:  #282828;\n",
       "            color:  #f1f1f1;\n",
       "        }#T_90b7d_row14_col0{\n",
       "            background-color:  #f4f4f4;\n",
       "            color:  #000000;\n",
       "            background-color:  grayscale;\n",
       "        }#T_90b7d_row14_col1{\n",
       "            background-color:  #1c1c1c;\n",
       "            color:  #f1f1f1;\n",
       "        }</style><table id=\"T_90b7d_\" ><thead>    <tr>        <th class=\"blank level0\" ></th>        <th class=\"col_heading level0 col0\" >0</th>        <th class=\"col_heading level0 col1\" >1</th>    </tr></thead><tbody>\n",
       "                <tr>\n",
       "                        <th id=\"T_90b7d_level0_row0\" class=\"row_heading level0 row0\" >0</th>\n",
       "                        <td id=\"T_90b7d_row0_col0\" class=\"data row0 col0\" >83.388996</td>\n",
       "                        <td id=\"T_90b7d_row0_col1\" class=\"data row0 col1\" >16.611004</td>\n",
       "            </tr>\n",
       "            <tr>\n",
       "                        <th id=\"T_90b7d_level0_row1\" class=\"row_heading level0 row1\" >1</th>\n",
       "                        <td id=\"T_90b7d_row1_col0\" class=\"data row1 col0\" >97.777778</td>\n",
       "                        <td id=\"T_90b7d_row1_col1\" class=\"data row1 col1\" >2.222222</td>\n",
       "            </tr>\n",
       "            <tr>\n",
       "                        <th id=\"T_90b7d_level0_row2\" class=\"row_heading level0 row2\" >2</th>\n",
       "                        <td id=\"T_90b7d_row2_col0\" class=\"data row2 col0\" >87.286296</td>\n",
       "                        <td id=\"T_90b7d_row2_col1\" class=\"data row2 col1\" >12.713704</td>\n",
       "            </tr>\n",
       "            <tr>\n",
       "                        <th id=\"T_90b7d_level0_row3\" class=\"row_heading level0 row3\" >3</th>\n",
       "                        <td id=\"T_90b7d_row3_col0\" class=\"data row3 col0\" >66.426318</td>\n",
       "                        <td id=\"T_90b7d_row3_col1\" class=\"data row3 col1\" >33.573682</td>\n",
       "            </tr>\n",
       "            <tr>\n",
       "                        <th id=\"T_90b7d_level0_row4\" class=\"row_heading level0 row4\" >4</th>\n",
       "                        <td id=\"T_90b7d_row4_col0\" class=\"data row4 col0\" >90.360650</td>\n",
       "                        <td id=\"T_90b7d_row4_col1\" class=\"data row4 col1\" >9.639350</td>\n",
       "            </tr>\n",
       "            <tr>\n",
       "                        <th id=\"T_90b7d_level0_row5\" class=\"row_heading level0 row5\" >5</th>\n",
       "                        <td id=\"T_90b7d_row5_col0\" class=\"data row5 col0\" >98.502374</td>\n",
       "                        <td id=\"T_90b7d_row5_col1\" class=\"data row5 col1\" >1.497626</td>\n",
       "            </tr>\n",
       "            <tr>\n",
       "                        <th id=\"T_90b7d_level0_row6\" class=\"row_heading level0 row6\" >6</th>\n",
       "                        <td id=\"T_90b7d_row6_col0\" class=\"data row6 col0\" >96.885588</td>\n",
       "                        <td id=\"T_90b7d_row6_col1\" class=\"data row6 col1\" >3.114412</td>\n",
       "            </tr>\n",
       "            <tr>\n",
       "                        <th id=\"T_90b7d_level0_row7\" class=\"row_heading level0 row7\" >7</th>\n",
       "                        <td id=\"T_90b7d_row7_col0\" class=\"data row7 col0\" >96.885588</td>\n",
       "                        <td id=\"T_90b7d_row7_col1\" class=\"data row7 col1\" >3.114412</td>\n",
       "            </tr>\n",
       "            <tr>\n",
       "                        <th id=\"T_90b7d_level0_row8\" class=\"row_heading level0 row8\" >8</th>\n",
       "                        <td id=\"T_90b7d_row8_col0\" class=\"data row8 col0\" >89.041712</td>\n",
       "                        <td id=\"T_90b7d_row8_col1\" class=\"data row8 col1\" >10.958288</td>\n",
       "            </tr>\n",
       "            <tr>\n",
       "                        <th id=\"T_90b7d_level0_row9\" class=\"row_heading level0 row9\" >9</th>\n",
       "                        <td id=\"T_90b7d_row9_col0\" class=\"data row9 col0\" >99.153476</td>\n",
       "                        <td id=\"T_90b7d_row9_col1\" class=\"data row9 col1\" >0.846524</td>\n",
       "            </tr>\n",
       "            <tr>\n",
       "                        <th id=\"T_90b7d_level0_row10\" class=\"row_heading level0 row10\" >10</th>\n",
       "                        <td id=\"T_90b7d_row10_col0\" class=\"data row10 col0\" >98.441366</td>\n",
       "                        <td id=\"T_90b7d_row10_col1\" class=\"data row10 col1\" >1.558634</td>\n",
       "            </tr>\n",
       "            <tr>\n",
       "                        <th id=\"T_90b7d_level0_row11\" class=\"row_heading level0 row11\" >11</th>\n",
       "                        <td id=\"T_90b7d_row11_col0\" class=\"data row11 col0\" >92.184865</td>\n",
       "                        <td id=\"T_90b7d_row11_col1\" class=\"data row11 col1\" >7.815135</td>\n",
       "            </tr>\n",
       "            <tr>\n",
       "                        <th id=\"T_90b7d_level0_row12\" class=\"row_heading level0 row12\" >12</th>\n",
       "                        <td id=\"T_90b7d_row12_col0\" class=\"data row12 col0\" >98.534160</td>\n",
       "                        <td id=\"T_90b7d_row12_col1\" class=\"data row12 col1\" >1.465840</td>\n",
       "            </tr>\n",
       "            <tr>\n",
       "                        <th id=\"T_90b7d_level0_row13\" class=\"row_heading level0 row13\" >13</th>\n",
       "                        <td id=\"T_90b7d_row13_col0\" class=\"data row13 col0\" >47.932979</td>\n",
       "                        <td id=\"T_90b7d_row13_col1\" class=\"data row13 col1\" >52.067021</td>\n",
       "            </tr>\n",
       "            <tr>\n",
       "                        <th id=\"T_90b7d_level0_row14\" class=\"row_heading level0 row14\" >14</th>\n",
       "                        <td id=\"T_90b7d_row14_col0\" class=\"data row14 col0\" >94.214526</td>\n",
       "                        <td id=\"T_90b7d_row14_col1\" class=\"data row14 col1\" >5.785474</td>\n",
       "            </tr>\n",
       "    </tbody></table>"
      ],
      "text/plain": [
       "<pandas.io.formats.style.Styler at 0x1d89a92eca0>"
      ]
     },
     "execution_count": 23,
     "metadata": {},
     "output_type": "execute_result"
    }
   ],
   "source": [
    "lr3 = LogisticRegression(C = 0.1, solver = 'newton-cg', penalty = 'l2')\n",
    "lr3.fit(X_train,y_train)\n",
    "yhat3 = lr3.predict(X_test)\n",
    "yhat_prob = lr3.predict_proba(X_test)\n",
    "get_probabilty_output(X_test=X_test, model_fitted=lr3, value_count=15)"
   ]
  },
  {
   "cell_type": "markdown",
   "metadata": {},
   "source": [
    "### Mengkalkulasikan akurasi dari parameter beserta Confussion Matrix"
   ]
  },
  {
   "cell_type": "code",
   "execution_count": 24,
   "metadata": {},
   "outputs": [
    {
     "name": "stdout",
     "output_type": "stream",
     "text": [
      "              precision    recall  f1-score   support\n",
      "\n",
      "           0      0.892     0.970     0.929       691\n",
      "           1      0.571     0.257     0.354       109\n",
      "\n",
      "    accuracy                          0.873       800\n",
      "   macro avg      0.732     0.613     0.642       800\n",
      "weighted avg      0.848     0.873     0.851       800\n",
      "\n",
      "Overall Accuracy: 0.8725\n",
      "Overall Precision: 0.7317861898421152\n",
      "Overall Recall: 0.6132449979420863\n"
     ]
    },
    {
     "data": {
      "image/png": "[encoded data removed]",
      "text/plain": [
       "<Figure size 432x288 with 2 Axes>"
      ]
     },
     "metadata": {},
     "output_type": "display_data"
    }
   ],
   "source": [
    "acc_LR3,pre_LR3,rec_LR3 = get_classification_report(y_test,yhat3)"
   ]
  },
  {
   "cell_type": "markdown",
   "metadata": {},
   "source": [
    "### Mengkalkulasikan nilai AUC pada parameter"
   ]
  },
  {
   "cell_type": "code",
   "execution_count": 25,
   "metadata": {},
   "outputs": [
    {
     "data": {
      "image/png": "[encoded data removed]",
      "text/plain": [
       "<Figure size 432x288 with 1 Axes>"
      ]
     },
     "metadata": {},
     "output_type": "display_data"
    }
   ],
   "source": [
    "auc_LR3 = get_classification_ROC(X_test,y_test,lr3,test_size=0.5,random_state=0)"
   ]
  },
  {
   "cell_type": "markdown",
   "metadata": {},
   "source": [
    "## Parameter 4"
   ]
  },
  {
   "cell_type": "markdown",
   "metadata": {},
   "source": [
    "### Memasukkan parameter kedalam data train, Memprediksi hasil tes yang dilakukan, Memunculkan hasil dalam bentuk tabel"
   ]
  },
  {
   "cell_type": "code",
   "execution_count": 26,
   "metadata": {},
   "outputs": [
    {
     "data": {
      "text/html": [
       "<style  type=\"text/css\" >\n",
       "#T_63fbf_row0_col0{\n",
       "            background-color:  #dcdcdc;\n",
       "            color:  #000000;\n",
       "            background-color:  grayscale;\n",
       "        }#T_63fbf_row0_col1{\n",
       "            background-color:  #4b4b4b;\n",
       "            color:  #f1f1f1;\n",
       "        }#T_63fbf_row1_col0,#T_63fbf_row11_col0{\n",
       "            background-color:  #fdfdfd;\n",
       "            color:  #000000;\n",
       "            background-color:  grayscale;\n",
       "        }#T_63fbf_row1_col1,#T_63fbf_row11_col1{\n",
       "            background-color:  #050505;\n",
       "            color:  #f1f1f1;\n",
       "        }#T_63fbf_row2_col0{\n",
       "            background-color:  #e5e5e5;\n",
       "            color:  #000000;\n",
       "            background-color:  grayscale;\n",
       "        }#T_63fbf_row2_col1{\n",
       "            background-color:  #3a3a3a;\n",
       "            color:  #f1f1f1;\n",
       "        }#T_63fbf_row3_col0{\n",
       "            background-color:  #b2b2b2;\n",
       "            color:  #000000;\n",
       "            background-color:  grayscale;\n",
       "        }#T_63fbf_row3_col1{\n",
       "            background-color:  #7d7d7d;\n",
       "            color:  #000000;\n",
       "        }#T_63fbf_row4_col0{\n",
       "            background-color:  #f3f3f3;\n",
       "            color:  #000000;\n",
       "            background-color:  grayscale;\n",
       "        }#T_63fbf_row4_col1{\n",
       "            background-color:  #1e1e1e;\n",
       "            color:  #f1f1f1;\n",
       "        }#T_63fbf_row5_col0,#T_63fbf_row9_col0,#T_63fbf_row12_col0,#T_63fbf_row13_col1{\n",
       "            background-color:  #ffffff;\n",
       "            color:  #000000;\n",
       "            background-color:  grayscale;\n",
       "        }#T_63fbf_row5_col1,#T_63fbf_row13_col0{\n",
       "            background-color:  #000000;\n",
       "            color:  #f1f1f1;\n",
       "        }#T_63fbf_row6_col0,#T_63fbf_row7_col0{\n",
       "            background-color:  #fcfcfc;\n",
       "            color:  #000000;\n",
       "            background-color:  grayscale;\n",
       "        }#T_63fbf_row6_col1,#T_63fbf_row7_col1{\n",
       "            background-color:  #080808;\n",
       "            color:  #f1f1f1;\n",
       "        }#T_63fbf_row8_col0{\n",
       "            background-color:  #eeeeee;\n",
       "            color:  #000000;\n",
       "            background-color:  grayscale;\n",
       "        }#T_63fbf_row8_col1{\n",
       "            background-color:  #292929;\n",
       "            color:  #f1f1f1;\n",
       "        }#T_63fbf_row9_col1,#T_63fbf_row12_col1{\n",
       "            background-color:  #010101;\n",
       "            color:  #f1f1f1;\n",
       "        }#T_63fbf_row10_col0{\n",
       "            background-color:  #fefefe;\n",
       "            color:  #000000;\n",
       "            background-color:  grayscale;\n",
       "        }#T_63fbf_row10_col1{\n",
       "            background-color:  #020202;\n",
       "            color:  #f1f1f1;\n",
       "        }#T_63fbf_row14_col0{\n",
       "            background-color:  #fafafa;\n",
       "            color:  #000000;\n",
       "            background-color:  grayscale;\n",
       "        }#T_63fbf_row14_col1{\n",
       "            background-color:  #0c0c0c;\n",
       "            color:  #f1f1f1;\n",
       "        }</style><table id=\"T_63fbf_\" ><thead>    <tr>        <th class=\"blank level0\" ></th>        <th class=\"col_heading level0 col0\" >0</th>        <th class=\"col_heading level0 col1\" >1</th>    </tr></thead><tbody>\n",
       "                <tr>\n",
       "                        <th id=\"T_63fbf_level0_row0\" class=\"row_heading level0 row0\" >0</th>\n",
       "                        <td id=\"T_63fbf_row0_col0\" class=\"data row0 col0\" >86.197460</td>\n",
       "                        <td id=\"T_63fbf_row0_col1\" class=\"data row0 col1\" >13.802540</td>\n",
       "            </tr>\n",
       "            <tr>\n",
       "                        <th id=\"T_63fbf_level0_row1\" class=\"row_heading level0 row1\" >1</th>\n",
       "                        <td id=\"T_63fbf_row1_col0\" class=\"data row1 col0\" >98.626456</td>\n",
       "                        <td id=\"T_63fbf_row1_col1\" class=\"data row1 col1\" >1.373544</td>\n",
       "            </tr>\n",
       "            <tr>\n",
       "                        <th id=\"T_63fbf_level0_row2\" class=\"row_heading level0 row2\" >2</th>\n",
       "                        <td id=\"T_63fbf_row2_col0\" class=\"data row2 col0\" >88.871889</td>\n",
       "                        <td id=\"T_63fbf_row2_col1\" class=\"data row2 col1\" >11.128111</td>\n",
       "            </tr>\n",
       "            <tr>\n",
       "                        <th id=\"T_63fbf_level0_row3\" class=\"row_heading level0 row3\" >3</th>\n",
       "                        <td id=\"T_63fbf_row3_col0\" class=\"data row3 col0\" >75.704341</td>\n",
       "                        <td id=\"T_63fbf_row3_col1\" class=\"data row3 col1\" >24.295659</td>\n",
       "            </tr>\n",
       "            <tr>\n",
       "                        <th id=\"T_63fbf_level0_row4\" class=\"row_heading level0 row4\" >4</th>\n",
       "                        <td id=\"T_63fbf_row4_col0\" class=\"data row4 col0\" >93.659599</td>\n",
       "                        <td id=\"T_63fbf_row4_col1\" class=\"data row4 col1\" >6.340401</td>\n",
       "            </tr>\n",
       "            <tr>\n",
       "                        <th id=\"T_63fbf_level0_row5\" class=\"row_heading level0 row5\" >5</th>\n",
       "                        <td id=\"T_63fbf_row5_col0\" class=\"data row5 col0\" >99.765434</td>\n",
       "                        <td id=\"T_63fbf_row5_col1\" class=\"data row5 col1\" >0.234566</td>\n",
       "            </tr>\n",
       "            <tr>\n",
       "                        <th id=\"T_63fbf_level0_row6\" class=\"row_heading level0 row6\" >6</th>\n",
       "                        <td id=\"T_63fbf_row6_col0\" class=\"data row6 col0\" >97.995018</td>\n",
       "                        <td id=\"T_63fbf_row6_col1\" class=\"data row6 col1\" >2.004982</td>\n",
       "            </tr>\n",
       "            <tr>\n",
       "                        <th id=\"T_63fbf_level0_row7\" class=\"row_heading level0 row7\" >7</th>\n",
       "                        <td id=\"T_63fbf_row7_col0\" class=\"data row7 col0\" >97.995018</td>\n",
       "                        <td id=\"T_63fbf_row7_col1\" class=\"data row7 col1\" >2.004982</td>\n",
       "            </tr>\n",
       "            <tr>\n",
       "                        <th id=\"T_63fbf_level0_row8\" class=\"row_heading level0 row8\" >8</th>\n",
       "                        <td id=\"T_63fbf_row8_col0\" class=\"data row8 col0\" >91.535219</td>\n",
       "                        <td id=\"T_63fbf_row8_col1\" class=\"data row8 col1\" >8.464781</td>\n",
       "            </tr>\n",
       "            <tr>\n",
       "                        <th id=\"T_63fbf_level0_row9\" class=\"row_heading level0 row9\" >9</th>\n",
       "                        <td id=\"T_63fbf_row9_col0\" class=\"data row9 col0\" >99.330651</td>\n",
       "                        <td id=\"T_63fbf_row9_col1\" class=\"data row9 col1\" >0.669349</td>\n",
       "            </tr>\n",
       "            <tr>\n",
       "                        <th id=\"T_63fbf_level0_row10\" class=\"row_heading level0 row10\" >10</th>\n",
       "                        <td id=\"T_63fbf_row10_col0\" class=\"data row10 col0\" >99.136102</td>\n",
       "                        <td id=\"T_63fbf_row10_col1\" class=\"data row10 col1\" >0.863898</td>\n",
       "            </tr>\n",
       "            <tr>\n",
       "                        <th id=\"T_63fbf_level0_row11\" class=\"row_heading level0 row11\" >11</th>\n",
       "                        <td id=\"T_63fbf_row11_col0\" class=\"data row11 col0\" >98.802863</td>\n",
       "                        <td id=\"T_63fbf_row11_col1\" class=\"data row11 col1\" >1.197137</td>\n",
       "            </tr>\n",
       "            <tr>\n",
       "                        <th id=\"T_63fbf_level0_row12\" class=\"row_heading level0 row12\" >12</th>\n",
       "                        <td id=\"T_63fbf_row12_col0\" class=\"data row12 col0\" >99.435569</td>\n",
       "                        <td id=\"T_63fbf_row12_col1\" class=\"data row12 col1\" >0.564431</td>\n",
       "            </tr>\n",
       "            <tr>\n",
       "                        <th id=\"T_63fbf_level0_row13\" class=\"row_heading level0 row13\" >13</th>\n",
       "                        <td id=\"T_63fbf_row13_col0\" class=\"data row13 col0\" >41.186844</td>\n",
       "                        <td id=\"T_63fbf_row13_col1\" class=\"data row13 col1\" >58.813156</td>\n",
       "            </tr>\n",
       "            <tr>\n",
       "                        <th id=\"T_63fbf_level0_row14\" class=\"row_heading level0 row14\" >14</th>\n",
       "                        <td id=\"T_63fbf_row14_col0\" class=\"data row14 col0\" >97.473902</td>\n",
       "                        <td id=\"T_63fbf_row14_col1\" class=\"data row14 col1\" >2.526098</td>\n",
       "            </tr>\n",
       "    </tbody></table>"
      ],
      "text/plain": [
       "<pandas.io.formats.style.Styler at 0x1d89acbb6a0>"
      ]
     },
     "execution_count": 26,
     "metadata": {},
     "output_type": "execute_result"
    }
   ],
   "source": [
    "lr4 = LogisticRegression(C = 10, solver = 'newton-cg', penalty = 'l2')\n",
    "lr4.fit(X_train,y_train)\n",
    "yhat4 = lr4.predict(X_test)\n",
    "yhat_prob = lr4.predict_proba(X_test)\n",
    "get_probabilty_output(X_test=X_test, model_fitted=lr4, value_count=15)"
   ]
  },
  {
   "cell_type": "markdown",
   "metadata": {},
   "source": [
    "### Mengkalkulasikan akurasi dari parameter beserta Confussion Matrix"
   ]
  },
  {
   "cell_type": "code",
   "execution_count": 27,
   "metadata": {},
   "outputs": [
    {
     "name": "stdout",
     "output_type": "stream",
     "text": [
      "              precision    recall  f1-score   support\n",
      "\n",
      "           0      0.898     0.954     0.925       691\n",
      "           1      0.515     0.312     0.389       109\n",
      "\n",
      "    accuracy                          0.866       800\n",
      "   macro avg      0.706     0.633     0.657       800\n",
      "weighted avg      0.846     0.866     0.852       800\n",
      "\n",
      "Overall Accuracy: 0.86625\n",
      "Overall Precision: 0.7064858393196267\n",
      "Overall Recall: 0.6328084547059839\n"
     ]
    },
    {
     "data": {
      "image/png": "[encoded data removed]",
      "text/plain": [
       "<Figure size 432x288 with 2 Axes>"
      ]
     },
     "metadata": {},
     "output_type": "display_data"
    }
   ],
   "source": [
    "acc_LR4,pre_LR4,rec_LR4 = get_classification_report(y_test,yhat4)"
   ]
  },
  {
   "cell_type": "markdown",
   "metadata": {},
   "source": [
    "### Mengkalkulasikan nilai AUC pada parameter"
   ]
  },
  {
   "cell_type": "code",
   "execution_count": 28,
   "metadata": {},
   "outputs": [
    {
     "data": {
      "image/png": "[encoded data removed]",
      "text/plain": [
       "<Figure size 432x288 with 1 Axes>"
      ]
     },
     "metadata": {},
     "output_type": "display_data"
    }
   ],
   "source": [
    "auc_LR4 = get_classification_ROC(X_test,y_test,lr4,test_size=0.5,random_state=0)"
   ]
  },
  {
   "cell_type": "markdown",
   "metadata": {},
   "source": [
    "## TABEL DAN GRAFIK"
   ]
  },
  {
   "cell_type": "markdown",
   "metadata": {},
   "source": [
    "### Membuat dataframe/tabel baru yang berisikan setiap informasi tentang hasil akurasi yang dihasilkan oleh tiap parameter"
   ]
  },
  {
   "cell_type": "code",
   "execution_count": 29,
   "metadata": {},
   "outputs": [
    {
     "data": {
      "text/html": [
       "<div>\n",
       "<style scoped>\n",
       "    .dataframe tbody tr th:only-of-type {\n",
       "        vertical-align: middle;\n",
       "    }\n",
       "\n",
       "    .dataframe tbody tr th {\n",
       "        vertical-align: top;\n",
       "    }\n",
       "\n",
       "    .dataframe thead th {\n",
       "        text-align: right;\n",
       "    }\n",
       "</style>\n",
       "<table border=\"1\" class=\"dataframe\">\n",
       "  <thead>\n",
       "    <tr style=\"text-align: right;\">\n",
       "      <th></th>\n",
       "      <th>Parameter</th>\n",
       "      <th>AUC</th>\n",
       "      <th>Accuracy</th>\n",
       "      <th>Precision</th>\n",
       "      <th>Recall</th>\n",
       "    </tr>\n",
       "  </thead>\n",
       "  <tbody>\n",
       "    <tr>\n",
       "      <th>0</th>\n",
       "      <td>Parameter1</td>\n",
       "      <td>80.984878</td>\n",
       "      <td>86.375</td>\n",
       "      <td>43.187500</td>\n",
       "      <td>50.000000</td>\n",
       "    </tr>\n",
       "    <tr>\n",
       "      <th>1</th>\n",
       "      <td>Parameter2</td>\n",
       "      <td>85.653022</td>\n",
       "      <td>86.875</td>\n",
       "      <td>71.467391</td>\n",
       "      <td>63.425563</td>\n",
       "    </tr>\n",
       "    <tr>\n",
       "      <th>2</th>\n",
       "      <td>Parameter3</td>\n",
       "      <td>86.389888</td>\n",
       "      <td>87.250</td>\n",
       "      <td>73.178619</td>\n",
       "      <td>61.324500</td>\n",
       "    </tr>\n",
       "    <tr>\n",
       "      <th>3</th>\n",
       "      <td>Parameter4</td>\n",
       "      <td>85.386158</td>\n",
       "      <td>86.625</td>\n",
       "      <td>70.648584</td>\n",
       "      <td>63.280845</td>\n",
       "    </tr>\n",
       "  </tbody>\n",
       "</table>\n",
       "</div>"
      ],
      "text/plain": [
       "    Parameter        AUC  Accuracy  Precision     Recall\n",
       "0  Parameter1  80.984878    86.375  43.187500  50.000000\n",
       "1  Parameter2  85.653022    86.875  71.467391  63.425563\n",
       "2  Parameter3  86.389888    87.250  73.178619  61.324500\n",
       "3  Parameter4  85.386158    86.625  70.648584  63.280845"
      ]
     },
     "execution_count": 29,
     "metadata": {},
     "output_type": "execute_result"
    }
   ],
   "source": [
    "result = pd.DataFrame(\n",
    "    [[\"Parameter1\",auc_LR*100,acc_LR*100,pre_LR*100,rec_LR*100],\n",
    "    [\"Parameter2\",auc_LR2*100,acc_LR2*100,pre_LR2*100,rec_LR2*100],\n",
    "    [\"Parameter3\",auc_LR3*100,acc_LR3*100,pre_LR3*100,rec_LR3*100],\n",
    "    [\"Parameter4\",auc_LR4*100,acc_LR4*100,pre_LR4*100,rec_LR4*100]],\n",
    "    columns=[\"Parameter\",\"AUC\",\"Accuracy\",\"Precision\",\"Recall\"]\n",
    ")\n",
    "\n",
    "result"
   ]
  },
  {
   "cell_type": "markdown",
   "metadata": {},
   "source": [
    "### Membandingkan hasil prediksi dari tiap parameter dengan hasil yang sebenarnya (hasil tes)"
   ]
  },
  {
   "cell_type": "code",
   "execution_count": 30,
   "metadata": {
    "scrolled": true
   },
   "outputs": [
    {
     "data": {
      "text/html": [
       "<div>\n",
       "<style scoped>\n",
       "    .dataframe tbody tr th:only-of-type {\n",
       "        vertical-align: middle;\n",
       "    }\n",
       "\n",
       "    .dataframe tbody tr th {\n",
       "        vertical-align: top;\n",
       "    }\n",
       "\n",
       "    .dataframe thead th {\n",
       "        text-align: right;\n",
       "    }\n",
       "</style>\n",
       "<table border=\"1\" class=\"dataframe\">\n",
       "  <thead>\n",
       "    <tr style=\"text-align: right;\">\n",
       "      <th></th>\n",
       "      <th>Actual</th>\n",
       "      <th>Prediction 1</th>\n",
       "      <th>Prediction 2</th>\n",
       "      <th>Prediction 3</th>\n",
       "      <th>Prediction 4</th>\n",
       "    </tr>\n",
       "  </thead>\n",
       "  <tbody>\n",
       "    <tr>\n",
       "      <th>0</th>\n",
       "      <td>0</td>\n",
       "      <td>0</td>\n",
       "      <td>0</td>\n",
       "      <td>0</td>\n",
       "      <td>0</td>\n",
       "    </tr>\n",
       "    <tr>\n",
       "      <th>1</th>\n",
       "      <td>0</td>\n",
       "      <td>0</td>\n",
       "      <td>0</td>\n",
       "      <td>0</td>\n",
       "      <td>0</td>\n",
       "    </tr>\n",
       "    <tr>\n",
       "      <th>2</th>\n",
       "      <td>0</td>\n",
       "      <td>0</td>\n",
       "      <td>0</td>\n",
       "      <td>0</td>\n",
       "      <td>0</td>\n",
       "    </tr>\n",
       "    <tr>\n",
       "      <th>3</th>\n",
       "      <td>0</td>\n",
       "      <td>0</td>\n",
       "      <td>0</td>\n",
       "      <td>0</td>\n",
       "      <td>0</td>\n",
       "    </tr>\n",
       "    <tr>\n",
       "      <th>4</th>\n",
       "      <td>1</td>\n",
       "      <td>0</td>\n",
       "      <td>0</td>\n",
       "      <td>0</td>\n",
       "      <td>0</td>\n",
       "    </tr>\n",
       "  </tbody>\n",
       "</table>\n",
       "</div>"
      ],
      "text/plain": [
       "   Actual  Prediction 1  Prediction 2  Prediction 3  Prediction 4\n",
       "0       0             0             0             0             0\n",
       "1       0             0             0             0             0\n",
       "2       0             0             0             0             0\n",
       "3       0             0             0             0             0\n",
       "4       1             0             0             0             0"
      ]
     },
     "execution_count": 30,
     "metadata": {},
     "output_type": "execute_result"
    }
   ],
   "source": [
    "dataset = {'Actual': y_test,'Prediction 1': yhat,'Prediction 2': yhat2,'Prediction 3': yhat3,'Prediction 4': yhat4}\n",
    "df = pd.DataFrame(dataset)\n",
    "df.head()"
   ]
  },
  {
   "cell_type": "markdown",
   "metadata": {},
   "source": [
    "### Mengimpor data kedalam excel"
   ]
  },
  {
   "cell_type": "code",
   "execution_count": 31,
   "metadata": {},
   "outputs": [],
   "source": [
    "df.to_excel(\"LR.xlsx\",sheet_name='Logistic Regression')"
   ]
  },
  {
   "cell_type": "markdown",
   "metadata": {},
   "source": [
    "### Membuat grafik komparasi nilai UAC tiap Parameter"
   ]
  },
  {
   "cell_type": "code",
   "execution_count": 32,
   "metadata": {},
   "outputs": [
    {
     "data": {
      "image/png": "[encoded data removed]",
      "text/plain": [
       "<Figure size 720x360 with 1 Axes>"
      ]
     },
     "metadata": {},
     "output_type": "display_data"
    }
   ],
   "source": [
    "fig = plt.figure(figsize=(10,5))\n",
    "ax = fig.add_axes([0,0,1,1])\n",
    "x = result.Parameter\n",
    "y = result.AUC\n",
    "sns.barplot(x=x, y=y)\n",
    "plt.ylim(ymin=80)\n",
    "plt.ylim(ymax=90)\n",
    "plt.title(\"Komparasi AUC\", fontsize = 20)\n",
    "plt.ylabel('AUC %', fontsize = 16)\n",
    "plt.xlabel('Parameter', fontsize = 16)\n",
    "plt.style.use('grayscale')\n",
    "plt.show()"
   ]
  },
  {
   "cell_type": "markdown",
   "metadata": {},
   "source": [
    "### Membuat grafik komparasi Akurasi tiap Parameter"
   ]
  },
  {
   "cell_type": "code",
   "execution_count": 33,
   "metadata": {},
   "outputs": [
    {
     "data": {
      "image/png": "[encoded data removed]",
      "text/plain": [
       "<Figure size 720x360 with 1 Axes>"
      ]
     },
     "metadata": {},
     "output_type": "display_data"
    }
   ],
   "source": [
    "fig = plt.figure(figsize=(10,5))\n",
    "ax = fig.add_axes([0,0,1,1])\n",
    "x = result.Parameter\n",
    "y = result.Accuracy\n",
    "sns.barplot(x=x, y=y)\n",
    "plt.ylim(ymin=80)\n",
    "plt.ylim(ymax=90)\n",
    "plt.title(\"Komparasi Accuracy\", fontsize = 20)\n",
    "plt.ylabel('Accuracy %', fontsize = 16)\n",
    "plt.xlabel('Parameter', fontsize = 16)\n",
    "plt.style.use('grayscale')\n",
    "plt.show()"
   ]
  },
  {
   "cell_type": "markdown",
   "metadata": {},
   "source": [
    "### Membuat grafik komparasi Presisi tiap Parameter"
   ]
  },
  {
   "cell_type": "code",
   "execution_count": 34,
   "metadata": {},
   "outputs": [
    {
     "data": {
      "image/png": "[encoded data removed]",
      "text/plain": [
       "<Figure size 720x360 with 1 Axes>"
      ]
     },
     "metadata": {},
     "output_type": "display_data"
    }
   ],
   "source": [
    "fig = plt.figure(figsize=(10,5))\n",
    "ax = fig.add_axes([0,0,1,1])\n",
    "x = result.Parameter\n",
    "y = result.Precision\n",
    "sns.barplot(x=x, y=y)\n",
    "plt.ylim(ymin=0)\n",
    "plt.ylim(ymax=80)\n",
    "plt.title(\"Komparasi Precision\", fontsize = 20)\n",
    "plt.ylabel('Precision %', fontsize = 16)\n",
    "plt.xlabel('Parameter', fontsize = 16)\n",
    "plt.style.use('grayscale')\n",
    "plt.show()"
   ]
  },
  {
   "cell_type": "markdown",
   "metadata": {},
   "source": [
    "### Membuat grafik komparasi Recall tiap Parameter"
   ]
  },
  {
   "cell_type": "code",
   "execution_count": 35,
   "metadata": {},
   "outputs": [
    {
     "data": {
      "image/png": "[encoded data removed]",
      "text/plain": [
       "<Figure size 720x360 with 1 Axes>"
      ]
     },
     "metadata": {},
     "output_type": "display_data"
    }
   ],
   "source": [
    "fig = plt.figure(figsize=(10,5))\n",
    "ax = fig.add_axes([0,0,1,1])\n",
    "x = result.Parameter\n",
    "y = result.Recall\n",
    "sns.barplot(x=x, y=y)\n",
    "plt.ylim(ymin=0)\n",
    "plt.ylim(ymax=70)\n",
    "plt.title(\"Komparasi Recall\", fontsize = 20)\n",
    "plt.ylabel('Recall %', fontsize = 16)\n",
    "plt.xlabel('Parameter', fontsize = 16)\n",
    "plt.style.use('grayscale')\n",
    "plt.show()"
   ]
  }
 ],
 "metadata": {
  "kernelspec": {
   "display_name": "Python 3",
   "language": "python",
   "name": "python3"
  },
  "language_info": {
   "codemirror_mode": {
    "name": "ipython",
    "version": 3
   },
   "file_extension": ".py",
   "mimetype": "text/x-python",
   "name": "python",
   "nbconvert_exporter": "python",
   "pygments_lexer": "ipython3",
   "version": "3.8.8"
  }
 },
 "nbformat": 4,
 "nbformat_minor": 4
}
